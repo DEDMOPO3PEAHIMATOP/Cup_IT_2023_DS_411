{
  "cells": [
    {
      "cell_type": "code",
      "execution_count": null,
      "metadata": {
        "colab": {
          "base_uri": "https://localhost:8080/"
        },
        "id": "wV-2cc1DMXlE",
        "outputId": "e16ea761-7bc4-4751-d6d2-fff109fee8d1"
      },
      "outputs": [
        {
          "name": "stdout",
          "output_type": "stream",
          "text": [
            "\u001b[33mWARNING: Running pip as the 'root' user can result in broken permissions and conflicting behaviour with the system package manager. It is recommended to use a virtual environment instead: https://pip.pypa.io/warnings/venv\u001b[0m\u001b[33m\n",
            "\u001b[0mLooking in indexes: https://pypi.org/simple, https://pypi.ngc.nvidia.com\n",
            "Requirement already satisfied: transformers in /opt/conda/lib/python3.8/site-packages (4.26.1)\n",
            "Requirement already satisfied: datasets in /opt/conda/lib/python3.8/site-packages (2.9.0)\n",
            "Requirement already satisfied: filelock in /opt/conda/lib/python3.8/site-packages (from transformers) (3.6.0)\n",
            "Requirement already satisfied: numpy>=1.17 in /opt/conda/lib/python3.8/site-packages (from transformers) (1.22.3)\n",
            "Requirement already satisfied: regex!=2019.12.17 in /opt/conda/lib/python3.8/site-packages (from transformers) (2022.4.24)\n",
            "Requirement already satisfied: requests in /opt/conda/lib/python3.8/site-packages (from transformers) (2.27.1)\n",
            "Requirement already satisfied: huggingface-hub<1.0,>=0.11.0 in /opt/conda/lib/python3.8/site-packages (from transformers) (0.12.1)\n",
            "Requirement already satisfied: pyyaml>=5.1 in /opt/conda/lib/python3.8/site-packages (from transformers) (6.0)\n",
            "Requirement already satisfied: tokenizers!=0.11.3,<0.14,>=0.11.1 in /opt/conda/lib/python3.8/site-packages (from transformers) (0.13.2)\n",
            "Requirement already satisfied: packaging>=20.0 in /opt/conda/lib/python3.8/site-packages (from transformers) (21.3)\n",
            "Requirement already satisfied: tqdm>=4.27 in /opt/conda/lib/python3.8/site-packages (from transformers) (4.64.0)\n",
            "Requirement already satisfied: pyarrow>=6.0.0 in /opt/conda/lib/python3.8/site-packages (from datasets) (6.0.1)\n",
            "Requirement already satisfied: xxhash in /opt/conda/lib/python3.8/site-packages (from datasets) (3.2.0)\n",
            "Requirement already satisfied: fsspec[http]>=2021.11.1 in /opt/conda/lib/python3.8/site-packages (from datasets) (2022.3.0)\n",
            "Requirement already satisfied: aiohttp in /opt/conda/lib/python3.8/site-packages (from datasets) (3.8.1)\n",
            "Requirement already satisfied: dill<0.3.7 in /opt/conda/lib/python3.8/site-packages (from datasets) (0.3.6)\n",
            "Requirement already satisfied: responses<0.19 in /opt/conda/lib/python3.8/site-packages (from datasets) (0.18.0)\n",
            "Requirement already satisfied: pandas in /opt/conda/lib/python3.8/site-packages (from datasets) (1.3.5)\n",
            "Requirement already satisfied: multiprocess in /opt/conda/lib/python3.8/site-packages (from datasets) (0.70.14)\n",
            "Requirement already satisfied: typing-extensions>=3.7.4.3 in /opt/conda/lib/python3.8/site-packages (from huggingface-hub<1.0,>=0.11.0->transformers) (4.2.0)\n",
            "Requirement already satisfied: pyparsing!=3.0.5,>=2.0.2 in /opt/conda/lib/python3.8/site-packages (from packaging>=20.0->transformers) (3.0.8)\n",
            "Requirement already satisfied: charset-normalizer~=2.0.0 in /opt/conda/lib/python3.8/site-packages (from requests->transformers) (2.0.12)\n",
            "Requirement already satisfied: idna<4,>=2.5 in /opt/conda/lib/python3.8/site-packages (from requests->transformers) (3.3)\n",
            "Requirement already satisfied: urllib3<1.27,>=1.21.1 in /opt/conda/lib/python3.8/site-packages (from requests->transformers) (1.26.9)\n",
            "Requirement already satisfied: certifi>=2017.4.17 in /opt/conda/lib/python3.8/site-packages (from requests->transformers) (2021.10.8)\n",
            "Requirement already satisfied: async-timeout<5.0,>=4.0.0a3 in /opt/conda/lib/python3.8/site-packages (from aiohttp->datasets) (4.0.2)\n",
            "Requirement already satisfied: attrs>=17.3.0 in /opt/conda/lib/python3.8/site-packages (from aiohttp->datasets) (21.4.0)\n",
            "Requirement already satisfied: yarl<2.0,>=1.0 in /opt/conda/lib/python3.8/site-packages (from aiohttp->datasets) (1.7.2)\n",
            "Requirement already satisfied: frozenlist>=1.1.1 in /opt/conda/lib/python3.8/site-packages (from aiohttp->datasets) (1.3.0)\n",
            "Requirement already satisfied: multidict<7.0,>=4.5 in /opt/conda/lib/python3.8/site-packages (from aiohttp->datasets) (6.0.2)\n",
            "Requirement already satisfied: aiosignal>=1.1.2 in /opt/conda/lib/python3.8/site-packages (from aiohttp->datasets) (1.2.0)\n",
            "Requirement already satisfied: python-dateutil>=2.7.3 in /opt/conda/lib/python3.8/site-packages (from pandas->datasets) (2.8.2)\n",
            "Requirement already satisfied: pytz>=2017.3 in /opt/conda/lib/python3.8/site-packages (from pandas->datasets) (2022.1)\n",
            "Requirement already satisfied: six>=1.5 in /opt/conda/lib/python3.8/site-packages (from python-dateutil>=2.7.3->pandas->datasets) (1.16.0)\n",
            "\u001b[33mWARNING: Running pip as the 'root' user can result in broken permissions and conflicting behaviour with the system package manager. It is recommended to use a virtual environment instead: https://pip.pypa.io/warnings/venv\u001b[0m\u001b[33m\n",
            "\u001b[0m"
          ]
        }
      ],
      "source": [
        "!pip install -q transformers\n",
        "!pip install transformers datasets"
      ]
    },
    {
      "cell_type": "code",
      "execution_count": null,
      "metadata": {
        "colab": {
          "base_uri": "https://localhost:8080/"
        },
        "id": "nVtXHQwbWDq3",
        "outputId": "78e382b7-253c-4e3a-b7ee-00fbc5ed0290"
      },
      "outputs": [
        {
          "name": "stderr",
          "output_type": "stream",
          "text": [
            "/opt/conda/lib/python3.8/site-packages/transformers/generation_utils.py:24: FutureWarning: Importing `GenerationMixin` from `src/transformers/generation_utils.py` is deprecated and will be removed in Transformers v5. Import as `from transformers import GenerationMixin` instead.\n",
            "  warnings.warn(\n",
            "/opt/conda/lib/python3.8/site-packages/apex/pyprof/__init__.py:5: FutureWarning: pyprof will be removed by the end of June, 2022\n",
            "  warnings.warn(\"pyprof will be removed by the end of June, 2022\", FutureWarning)\n",
            "Discovered apex.normalization.FusedRMSNorm - will use it instead of LongT5LayerNorm\n",
            "Discovered apex.normalization.FusedRMSNorm - will use it instead of T5LayerNorm\n"
          ]
        }
      ],
      "source": [
        "import numpy as np\n",
        "import pandas as pd\n",
        "import torch\n",
        "import torch.nn as nn\n",
        "# from sklearn.preprocessing import LabelEncoder\n",
        "from sklearn.model_selection import train_test_split\n",
        "from sklearn import metrics\n",
        "from transformers import *\n",
        "from torch.nn.functional import cross_entropy, mse_loss\n",
        "from sklearn.metrics import ndcg_score\n",
        "from sklearn.metrics import mean_squared_error\n",
        "\n",
        "from tqdm import tqdm\n"
      ]
    },
    {
      "cell_type": "markdown",
      "metadata": {
        "id": "BO33FcQLIwwo"
      },
      "source": [
        "# Preprocessing"
      ]
    },
    {
      "cell_type": "code",
      "execution_count": null,
      "metadata": {
        "id": "RxCVpcn_JESt"
      },
      "outputs": [],
      "source": [
        "# !unzip dataset.zip"
      ]
    },
    {
      "cell_type": "code",
      "execution_count": null,
      "metadata": {
        "id": "2AB3xLCBI7Iz"
      },
      "outputs": [],
      "source": [
        "df = pd.read_json(\"ranking_train.jsonl\", lines=True)"
      ]
    },
    {
      "cell_type": "markdown",
      "metadata": {
        "id": "iqY3S_E62Gbi"
      },
      "source": [
        "## Разделяем для БЕРТа специальным символом текст и коммент к нему, формат GLUE"
      ]
    },
    {
      "cell_type": "code",
      "execution_count": null,
      "metadata": {
        "id": "gznb77-7kCzb"
      },
      "outputs": [],
      "source": [
        "## we need the imput after tokenizer looking like this: [CLS] TEXT [SEP] COMMENT [SEP]\n",
        "text_comment = []# text with label 4 comment\n",
        "labels = []\n",
        "for i in range(len(df)):\n",
        "  text_comment.append(\"{} [SEP] {}\".format(df['text'][i], df['comments'][i][0]['text']))\n",
        "  labels.append(0) # super\n",
        "  text_comment.append(\"{} [SEP] {}\".format(df['text'][i], df['comments'][i][1]['text']))\n",
        "  labels.append(1) # good\n",
        "  text_comment.append(\"{} [SEP] {}\".format(df['text'][i], df['comments'][i][2]['text']))\n",
        "  labels.append(2) # average\n",
        "  text_comment.append(\"{} [SEP] {}\".format(df['text'][i], df['comments'][i][3]['text']))\n",
        "  labels.append(3) # poor\n",
        "  text_comment.append(\"{} [SEP] {}\".format(df['text'][i], df['comments'][i][4]['text']))\n",
        "  labels.append(4) # bad"
      ]
    },
    {
      "cell_type": "code",
      "execution_count": null,
      "metadata": {
        "colab": {
          "base_uri": "https://localhost:8080/"
        },
        "id": "29vCDHzaUFN_",
        "outputId": "b2c8aeb9-3e1f-47ca-df9a-2681bc32a401"
      },
      "outputs": [
        {
          "data": {
            "text/plain": [
              "('How Costco Became the Anti-Wal-Mart [SEP] I really hate it when people falsely claim that the fiduciary responsibilities of a public company includes maximizing profits at every opportunity. Thinking long-term and win-win is the truly responsible CEOs job. Costco is the Google of discount warehouses. Wal-mart is Microsoft.',\n",
              " 0)"
            ]
          },
          "execution_count": 6,
          "metadata": {},
          "output_type": "execute_result"
        }
      ],
      "source": [
        "text_comment[10], labels[10]"
      ]
    },
    {
      "cell_type": "code",
      "execution_count": null,
      "metadata": {
        "id": "MxwB6zWvlgct"
      },
      "outputs": [],
      "source": [
        "data = pd.DataFrame(list(zip(text_comment, labels)),\n",
        "               columns =['text_with_comment', 'label'])\n",
        "# data = data.sample(frac=0.5).reset_index(drop=True)"
      ]
    },
    {
      "cell_type": "markdown",
      "metadata": {
        "id": "COGTffi35Yo4"
      },
      "source": [
        "## train/test split"
      ]
    },
    {
      "cell_type": "code",
      "execution_count": null,
      "metadata": {
        "id": "fI_n50ZU5Xg9"
      },
      "outputs": [],
      "source": [
        "df_train, df_valid = train_test_split(data, test_size = 0.2, random_state=42, stratify=data.label.values)\n",
        "\n",
        "df_train = df_train.reset_index(drop=True)\n",
        "df_valid = df_valid.reset_index(drop=True)"
      ]
    },
    {
      "cell_type": "markdown",
      "metadata": {
        "id": "Zy28F_-l3MQr"
      },
      "source": [
        "# Main classes and methods"
      ]
    },
    {
      "cell_type": "markdown",
      "metadata": {
        "id": "CaKQVkuKJYB5"
      },
      "source": [
        "## Первый вектор БЕРТа отвечает за классификацию предложений в задаче текстового моделирования ![image.png](data:image/png;base64,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), затем мы этот вектор размерности 768 отправляем в полносвязный слой с одним выходным нейроном"
      ]
    },
    {
      "cell_type": "code",
      "execution_count": null,
      "metadata": {
        "id": "DLZgkMGSYvCO"
      },
      "outputs": [],
      "source": [
        "class VK_BERT(DistilBertPreTrainedModel):\n",
        "    def __init__(self, config):\n",
        "        config.num_labels = 1\n",
        "        super(VK_BERT, self).__init__(config)\n",
        "        self.bert = DistilBertForSequenceClassification(config)\n",
        "        self.init_weights()\n",
        "\n",
        "    def forward(self, ids, mask):\n",
        "        outputs = self.bert(ids, mask)\n",
        "        logits = outputs[0]\n",
        "        return logits\n",
        "        "
      ]
    },
    {
      "cell_type": "code",
      "execution_count": null,
      "metadata": {
        "id": "afxdbJwGYpLN"
      },
      "outputs": [],
      "source": [
        "class DATALoader:\n",
        "    def __init__(self, data, target):\n",
        "        self.data = data\n",
        "        self.target = target\n",
        "        self.tokenizer = DistilBertTokenizer.from_pretrained('distilbert-base-uncased') # destilbert doesn't have token_type_ids\n",
        "        self.max_length = 512\n",
        "        \n",
        "    def __len__(self):\n",
        "        return len(self.data)\n",
        "    \n",
        "    def __getitem__(self, item):\n",
        "        data = str(self.data[item])\n",
        "        data = \" \".join(data.split())\n",
        "\n",
        "        inputs = self.tokenizer.encode_plus(data, max_length = self.max_length, pad_to_max_length=True)\n",
        "        ids = inputs[\"input_ids\"]\n",
        "        mask = inputs['attention_mask']\n",
        "\n",
        "        padding_length = self.max_length - len(ids)\n",
        "        ids = ids + ([0] * padding_length)\n",
        "        mask = mask + ([0] * padding_length)\n",
        "        return {\n",
        "            'ids': torch.tensor(ids, dtype=torch.long),\n",
        "            'mask': torch.tensor(mask, dtype=torch.long),\n",
        "            'targets': torch.tensor(self.target[item], dtype=torch.long)\n",
        "        }"
      ]
    },
    {
      "cell_type": "code",
      "execution_count": null,
      "metadata": {
        "id": "MWePof6fbsps"
      },
      "outputs": [],
      "source": [
        "def loss_fn(output, targets):\n",
        "    # return cross_entropy(output, targets)\n",
        "    return mse_loss(output, targets) "
      ]
    },
    {
      "cell_type": "code",
      "execution_count": null,
      "metadata": {
        "id": "40L83ONycpSG"
      },
      "outputs": [],
      "source": [
        "def train_func(data_loader, model, optimizer, device): # can add scheduler\n",
        "    model.to(device)\n",
        "    model.train()\n",
        "    i = 99\n",
        "    for bi, d in tqdm(enumerate(data_loader), total=len(data_loader)):\n",
        "        ids = d[\"ids\"]\n",
        "        mask = d[\"mask\"]\n",
        "        targets = d[\"targets\"]\n",
        "        \n",
        "        ids = ids.to(device, dtype=torch.long)\n",
        "        mask = mask.to(device, dtype=torch.long)\n",
        "        targets = targets.to(device, dtype=torch.float)\n",
        "        \n",
        "        optimizer.zero_grad()\n",
        "        output = model(\n",
        "            ids=ids,\n",
        "            mask = mask,\n",
        "        )\n",
        "        output = output.squeeze(1)\n",
        "        \n",
        "        loss = loss_fn(output, targets)\n",
        "        if i % 100 == 0:\n",
        "          print('\\n running loss: ', loss)\n",
        "        i += 1\n",
        "        loss.backward()\n",
        "        \n",
        "        optimizer.step()\n",
        "        # scheduler.step()"
      ]
    },
    {
      "cell_type": "code",
      "execution_count": null,
      "metadata": {
        "id": "EB5LcZqtc5Ct"
      },
      "outputs": [],
      "source": [
        "def eval_func(data_loader, model, device):\n",
        "    model.eval()\n",
        "    \n",
        "    fin_targets = []\n",
        "    fin_output = []\n",
        "    \n",
        "    with torch.no_grad():\n",
        "        for bi, d in tqdm(enumerate(data_loader), total=len(data_loader)):\n",
        "            ids = d[\"ids\"]\n",
        "            mask = d[\"mask\"]\n",
        "            targets = d[\"targets\"]\n",
        "\n",
        "            ids = ids.to(device, dtype=torch.long)\n",
        "            mask = mask.to(device, dtype=torch.long)\n",
        "            targets = targets.to(device, dtype=torch.float)\n",
        "\n",
        "\n",
        "            output = model(\n",
        "                ids=ids,\n",
        "                mask = mask,\n",
        "            )\n",
        "            output = output.squeeze(1)\n",
        "        \n",
        "            fin_targets.extend(targets.cpu().detach().numpy().tolist())\n",
        "            fin_output.extend(torch.sigmoid(output).cpu().detach().numpy().tolist())\n",
        "            \n",
        "        return fin_output, fin_targets"
      ]
    },
    {
      "cell_type": "code",
      "execution_count": null,
      "metadata": {
        "colab": {
          "base_uri": "https://localhost:8080/"
        },
        "id": "-XGlc_HwYLdC",
        "outputId": "800762f0-a79b-4976-af77-54f321fe9c0e"
      },
      "outputs": [
        {
          "data": {
            "text/plain": [
              "device(type='cuda', index=0)"
            ]
          },
          "execution_count": 15,
          "metadata": {},
          "output_type": "execute_result"
        }
      ],
      "source": [
        "device=torch.device('cuda:0' if torch.cuda.is_available() else 'cpu')\n",
        "device"
      ]
    },
    {
      "cell_type": "code",
      "execution_count": null,
      "metadata": {
        "colab": {
          "base_uri": "https://localhost:8080/",
          "height": 734,
          "referenced_widgets": [
            "37cd58b5bc4a48f18bfc223938574efc",
            "ffa9342cd5504a2c96ef0d17aa5ceded",
            "6d2d3a70c5c94138b13f85d0ad59d9a9",
            "833ea823a9144b5883d714497e2b5508",
            "7d989638b4fc431b9e55ade6eafe017b",
            "273660740ef0470d96c6a50d43fbcf87",
            "a066687434c9435aa715926e19594879",
            "370eaf2553bc4132b658ea25fbb915a4",
            "e260e03d65ec4cb2a8794e600a140e52",
            "2186f139e7f04551979e9c653b5b354c",
            "fa18ee28d704490e82930aae16f7c05e",
            "f998237f06f2496ea266671d93632ded",
            "f8e03cd382214de4bf2092c006bc9230",
            "694d96abc16344dca2b446328e04341d",
            "e7cd6cf9cce84187b1d970534042411c",
            "f0ad4c838b3b4369a47432d700eb5825",
            "c93b8ad78d084a0b9c69fb6b5fd967f5",
            "c276e1b52cc8479dad6172876e8b0501",
            "0034b10ba01b4a72bdbf4dfbd6dd112a",
            "941125d0384e432b9a1b252fcfe2a412",
            "4fa5b9c4e76c4d08a3bc34784c3d6a87",
            "51b780a80a32407d834c16d198584cd9",
            "23064d3d5a39485da5392ff9ec7bdfbd"
          ]
        },
        "id": "UrH0m1dGiPph",
        "outputId": "39dfcc36-d8d8-40d5-e3ab-de8636f1665d"
      },
      "outputs": [
        {
          "name": "stderr",
          "output_type": "stream",
          "text": [
            "loading configuration file config.json from cache at /root/.cache/huggingface/hub/models--distilbert-base-uncased/snapshots/1c4513b2eedbda136f57676a34eea67aba266e5c/config.json\n",
            "Model config DistilBertConfig {\n",
            "  \"activation\": \"gelu\",\n",
            "  \"architectures\": [\n",
            "    \"DistilBertForMaskedLM\"\n",
            "  ],\n",
            "  \"attention_dropout\": 0.1,\n",
            "  \"dim\": 768,\n",
            "  \"dropout\": 0.1,\n",
            "  \"hidden_dim\": 3072,\n",
            "  \"initializer_range\": 0.02,\n",
            "  \"max_position_embeddings\": 512,\n",
            "  \"model_type\": \"distilbert\",\n",
            "  \"n_heads\": 12,\n",
            "  \"n_layers\": 6,\n",
            "  \"pad_token_id\": 0,\n",
            "  \"qa_dropout\": 0.1,\n",
            "  \"seq_classif_dropout\": 0.2,\n",
            "  \"sinusoidal_pos_embds\": false,\n",
            "  \"tie_weights_\": true,\n",
            "  \"transformers_version\": \"4.26.1\",\n",
            "  \"vocab_size\": 30522\n",
            "}\n",
            "\n"
          ]
        },
        {
          "data": {
            "application/json": {
              "ascii": false,
              "bar_format": null,
              "colour": null,
              "elapsed": 0.02583789825439453,
              "initial": 0,
              "n": 0,
              "ncols": null,
              "nrows": null,
              "postfix": null,
              "prefix": "Downloading (…)\"pytorch_model.bin\";",
              "rate": null,
              "total": 267967963,
              "unit": "B",
              "unit_divisor": 1000,
              "unit_scale": true
            },
            "application/vnd.jupyter.widget-view+json": {
              "model_id": "23064d3d5a39485da5392ff9ec7bdfbd",
              "version_major": 2,
              "version_minor": 0
            },
            "text/plain": [
              "Downloading (…)\"pytorch_model.bin\";:   0%|          | 0.00/268M [00:00<?, ?B/s]"
            ]
          },
          "metadata": {},
          "output_type": "display_data"
        },
        {
          "name": "stderr",
          "output_type": "stream",
          "text": [
            "loading weights file pytorch_model.bin from cache at /root/.cache/huggingface/hub/models--distilbert-base-uncased/snapshots/1c4513b2eedbda136f57676a34eea67aba266e5c/pytorch_model.bin\n",
            "Some weights of the model checkpoint at distilbert-base-uncased were not used when initializing VK_BERT: ['distilbert.transformer.layer.1.sa_layer_norm.weight', 'distilbert.transformer.layer.1.output_layer_norm.bias', 'distilbert.transformer.layer.1.attention.v_lin.weight', 'distilbert.transformer.layer.3.ffn.lin2.bias', 'distilbert.transformer.layer.2.attention.q_lin.bias', 'distilbert.transformer.layer.2.output_layer_norm.weight', 'distilbert.transformer.layer.4.attention.q_lin.bias', 'distilbert.transformer.layer.2.attention.out_lin.bias', 'distilbert.transformer.layer.0.attention.k_lin.bias', 'distilbert.transformer.layer.1.attention.k_lin.weight', 'distilbert.transformer.layer.4.attention.out_lin.bias', 'distilbert.transformer.layer.2.attention.v_lin.bias', 'distilbert.transformer.layer.4.attention.v_lin.weight', 'distilbert.transformer.layer.0.sa_layer_norm.weight', 'vocab_layer_norm.weight', 'distilbert.transformer.layer.3.output_layer_norm.weight', 'distilbert.transformer.layer.4.attention.k_lin.weight', 'distilbert.transformer.layer.3.attention.out_lin.bias', 'distilbert.transformer.layer.0.ffn.lin2.bias', 'distilbert.transformer.layer.4.ffn.lin1.weight', 'distilbert.transformer.layer.0.output_layer_norm.bias', 'distilbert.transformer.layer.3.attention.k_lin.bias', 'distilbert.transformer.layer.5.ffn.lin1.weight', 'distilbert.transformer.layer.1.ffn.lin2.bias', 'distilbert.transformer.layer.3.ffn.lin1.bias', 'distilbert.transformer.layer.2.sa_layer_norm.weight', 'distilbert.transformer.layer.1.ffn.lin2.weight', 'distilbert.transformer.layer.0.attention.q_lin.bias', 'distilbert.transformer.layer.3.attention.q_lin.bias', 'distilbert.transformer.layer.5.ffn.lin2.bias', 'distilbert.transformer.layer.3.ffn.lin1.weight', 'distilbert.transformer.layer.4.attention.v_lin.bias', 'distilbert.transformer.layer.1.attention.q_lin.weight', 'distilbert.transformer.layer.0.attention.v_lin.weight', 'distilbert.transformer.layer.5.attention.q_lin.weight', 'distilbert.transformer.layer.1.attention.k_lin.bias', 'distilbert.transformer.layer.2.ffn.lin2.bias', 'distilbert.transformer.layer.1.output_layer_norm.weight', 'distilbert.transformer.layer.1.attention.out_lin.weight', 'vocab_layer_norm.bias', 'distilbert.transformer.layer.0.ffn.lin2.weight', 'distilbert.transformer.layer.5.ffn.lin1.bias', 'distilbert.transformer.layer.2.attention.out_lin.weight', 'distilbert.transformer.layer.2.attention.v_lin.weight', 'distilbert.transformer.layer.3.attention.k_lin.weight', 'distilbert.transformer.layer.5.output_layer_norm.bias', 'distilbert.transformer.layer.2.ffn.lin1.bias', 'distilbert.transformer.layer.4.attention.out_lin.weight', 'distilbert.embeddings.LayerNorm.weight', 'distilbert.transformer.layer.5.sa_layer_norm.bias', 'distilbert.transformer.layer.4.output_layer_norm.weight', 'distilbert.transformer.layer.5.attention.k_lin.bias', 'vocab_transform.weight', 'distilbert.transformer.layer.4.ffn.lin2.bias', 'distilbert.embeddings.word_embeddings.weight', 'distilbert.transformer.layer.5.sa_layer_norm.weight', 'distilbert.transformer.layer.1.sa_layer_norm.bias', 'distilbert.transformer.layer.5.attention.v_lin.weight', 'distilbert.transformer.layer.5.attention.out_lin.weight', 'distilbert.transformer.layer.4.ffn.lin2.weight', 'distilbert.transformer.layer.0.attention.out_lin.bias', 'distilbert.transformer.layer.0.attention.q_lin.weight', 'distilbert.transformer.layer.3.sa_layer_norm.weight', 'distilbert.transformer.layer.4.attention.q_lin.weight', 'distilbert.transformer.layer.4.attention.k_lin.bias', 'distilbert.transformer.layer.3.sa_layer_norm.bias', 'distilbert.embeddings.position_embeddings.weight', 'distilbert.transformer.layer.1.attention.q_lin.bias', 'distilbert.transformer.layer.0.ffn.lin1.weight', 'vocab_projector.weight', 'distilbert.transformer.layer.1.ffn.lin1.weight', 'distilbert.transformer.layer.4.sa_layer_norm.bias', 'distilbert.transformer.layer.1.attention.v_lin.bias', 'distilbert.transformer.layer.0.attention.v_lin.bias', 'distilbert.transformer.layer.4.sa_layer_norm.weight', 'distilbert.embeddings.LayerNorm.bias', 'distilbert.transformer.layer.2.attention.k_lin.weight', 'distilbert.transformer.layer.5.attention.out_lin.bias', 'distilbert.transformer.layer.3.ffn.lin2.weight', 'distilbert.transformer.layer.0.sa_layer_norm.bias', 'distilbert.transformer.layer.3.attention.v_lin.bias', 'distilbert.transformer.layer.2.ffn.lin1.weight', 'distilbert.transformer.layer.0.attention.out_lin.weight', 'distilbert.transformer.layer.5.output_layer_norm.weight', 'distilbert.transformer.layer.1.attention.out_lin.bias', 'distilbert.transformer.layer.2.attention.k_lin.bias', 'distilbert.transformer.layer.1.ffn.lin1.bias', 'distilbert.transformer.layer.3.attention.out_lin.weight', 'distilbert.transformer.layer.3.output_layer_norm.bias', 'distilbert.transformer.layer.5.attention.v_lin.bias', 'distilbert.transformer.layer.2.output_layer_norm.bias', 'vocab_projector.bias', 'distilbert.transformer.layer.2.sa_layer_norm.bias', 'distilbert.transformer.layer.4.ffn.lin1.bias', 'distilbert.transformer.layer.2.ffn.lin2.weight', 'distilbert.transformer.layer.5.attention.q_lin.bias', 'distilbert.transformer.layer.4.output_layer_norm.bias', 'distilbert.transformer.layer.2.attention.q_lin.weight', 'distilbert.transformer.layer.3.attention.q_lin.weight', 'distilbert.transformer.layer.5.attention.k_lin.weight', 'distilbert.transformer.layer.5.ffn.lin2.weight', 'distilbert.transformer.layer.0.ffn.lin1.bias', 'distilbert.transformer.layer.0.attention.k_lin.weight', 'vocab_transform.bias', 'distilbert.transformer.layer.0.output_layer_norm.weight', 'distilbert.transformer.layer.3.attention.v_lin.weight']\n",
            "- This IS expected if you are initializing VK_BERT from the checkpoint of a model trained on another task or with another architecture (e.g. initializing a BertForSequenceClassification model from a BertForPreTraining model).\n",
            "- This IS NOT expected if you are initializing VK_BERT from the checkpoint of a model that you expect to be exactly identical (initializing a BertForSequenceClassification model from a BertForSequenceClassification model).\n",
            "Some weights of VK_BERT were not initialized from the model checkpoint at distilbert-base-uncased and are newly initialized: ['distilbert.bert.distilbert.transformer.layer.1.ffn.lin1.weight', 'distilbert.bert.distilbert.transformer.layer.3.attention.v_lin.bias', 'distilbert.bert.distilbert.transformer.layer.1.sa_layer_norm.bias', 'distilbert.bert.distilbert.transformer.layer.0.attention.q_lin.weight', 'distilbert.bert.distilbert.transformer.layer.5.attention.v_lin.weight', 'distilbert.bert.distilbert.transformer.layer.5.sa_layer_norm.weight', 'distilbert.bert.distilbert.transformer.layer.2.sa_layer_norm.bias', 'distilbert.bert.distilbert.transformer.layer.5.ffn.lin2.bias', 'distilbert.bert.distilbert.transformer.layer.1.output_layer_norm.weight', 'distilbert.bert.distilbert.transformer.layer.2.ffn.lin1.bias', 'distilbert.bert.distilbert.transformer.layer.5.output_layer_norm.weight', 'distilbert.bert.distilbert.transformer.layer.2.attention.k_lin.weight', 'distilbert.bert.distilbert.transformer.layer.2.attention.out_lin.weight', 'distilbert.bert.distilbert.transformer.layer.0.ffn.lin1.weight', 'distilbert.bert.distilbert.transformer.layer.4.attention.v_lin.weight', 'distilbert.bert.distilbert.transformer.layer.4.attention.k_lin.weight', 'distilbert.bert.distilbert.transformer.layer.5.attention.k_lin.weight', 'distilbert.bert.distilbert.transformer.layer.4.output_layer_norm.weight', 'distilbert.bert.distilbert.transformer.layer.0.output_layer_norm.weight', 'distilbert.bert.distilbert.transformer.layer.3.attention.v_lin.weight', 'distilbert.bert.distilbert.transformer.layer.3.output_layer_norm.bias', 'distilbert.bert.distilbert.transformer.layer.3.attention.q_lin.bias', 'distilbert.bert.distilbert.transformer.layer.2.output_layer_norm.bias', 'distilbert.bert.distilbert.transformer.layer.4.attention.out_lin.bias', 'distilbert.bert.pre_classifier.weight', 'distilbert.bert.distilbert.transformer.layer.2.attention.v_lin.bias', 'distilbert.bert.distilbert.transformer.layer.3.attention.out_lin.weight', 'distilbert.bert.classifier.weight', 'distilbert.bert.distilbert.transformer.layer.4.ffn.lin1.weight', 'distilbert.bert.distilbert.transformer.layer.0.attention.v_lin.weight', 'distilbert.bert.distilbert.transformer.layer.3.sa_layer_norm.weight', 'distilbert.bert.distilbert.transformer.layer.1.ffn.lin1.bias', 'distilbert.bert.distilbert.transformer.layer.1.ffn.lin2.bias', 'distilbert.bert.distilbert.embeddings.word_embeddings.weight', 'distilbert.bert.distilbert.embeddings.position_embeddings.weight', 'distilbert.bert.distilbert.transformer.layer.5.attention.out_lin.bias', 'distilbert.bert.distilbert.transformer.layer.0.attention.v_lin.bias', 'distilbert.bert.distilbert.transformer.layer.0.sa_layer_norm.bias', 'distilbert.bert.distilbert.transformer.layer.1.attention.v_lin.weight', 'distilbert.bert.distilbert.transformer.layer.4.attention.k_lin.bias', 'distilbert.bert.distilbert.transformer.layer.5.output_layer_norm.bias', 'distilbert.bert.pre_classifier.bias', 'distilbert.bert.distilbert.transformer.layer.2.ffn.lin1.weight', 'distilbert.bert.distilbert.transformer.layer.3.attention.k_lin.weight', 'distilbert.bert.distilbert.transformer.layer.4.attention.out_lin.weight', 'distilbert.bert.distilbert.transformer.layer.3.ffn.lin1.weight', 'distilbert.bert.distilbert.transformer.layer.4.attention.q_lin.bias', 'distilbert.bert.distilbert.transformer.layer.2.attention.v_lin.weight', 'distilbert.bert.distilbert.transformer.layer.0.ffn.lin2.weight', 'distilbert.bert.distilbert.transformer.layer.2.attention.q_lin.bias', 'distilbert.bert.distilbert.transformer.layer.4.attention.q_lin.weight', 'distilbert.bert.distilbert.transformer.layer.1.attention.v_lin.bias', 'distilbert.bert.distilbert.transformer.layer.1.attention.k_lin.bias', 'distilbert.bert.distilbert.transformer.layer.1.output_layer_norm.bias', 'distilbert.bert.distilbert.transformer.layer.5.attention.q_lin.bias', 'distilbert.bert.distilbert.transformer.layer.3.attention.k_lin.bias', 'distilbert.bert.distilbert.transformer.layer.4.attention.v_lin.bias', 'distilbert.bert.distilbert.transformer.layer.3.sa_layer_norm.bias', 'distilbert.bert.distilbert.transformer.layer.0.ffn.lin2.bias', 'distilbert.bert.distilbert.transformer.layer.5.attention.v_lin.bias', 'distilbert.bert.distilbert.transformer.layer.2.ffn.lin2.weight', 'distilbert.bert.distilbert.transformer.layer.0.ffn.lin1.bias', 'distilbert.bert.distilbert.transformer.layer.5.attention.out_lin.weight', 'distilbert.bert.classifier.bias', 'distilbert.bert.distilbert.transformer.layer.0.attention.q_lin.bias', 'distilbert.bert.distilbert.transformer.layer.2.sa_layer_norm.weight', 'distilbert.bert.distilbert.transformer.layer.5.attention.k_lin.bias', 'distilbert.bert.distilbert.transformer.layer.2.attention.out_lin.bias', 'distilbert.bert.distilbert.transformer.layer.3.attention.out_lin.bias', 'distilbert.bert.distilbert.transformer.layer.5.ffn.lin1.weight', 'distilbert.bert.distilbert.transformer.layer.4.sa_layer_norm.weight', 'distilbert.bert.distilbert.transformer.layer.3.attention.q_lin.weight', 'distilbert.bert.distilbert.transformer.layer.0.attention.out_lin.weight', 'distilbert.bert.distilbert.transformer.layer.1.attention.k_lin.weight', 'distilbert.bert.distilbert.transformer.layer.0.attention.k_lin.weight', 'distilbert.bert.distilbert.transformer.layer.2.output_layer_norm.weight', 'distilbert.bert.distilbert.transformer.layer.5.ffn.lin1.bias', 'distilbert.bert.distilbert.transformer.layer.4.output_layer_norm.bias', 'distilbert.bert.distilbert.transformer.layer.1.attention.q_lin.weight', 'distilbert.bert.distilbert.transformer.layer.5.ffn.lin2.weight', 'distilbert.bert.distilbert.transformer.layer.0.output_layer_norm.bias', 'distilbert.bert.distilbert.transformer.layer.0.attention.k_lin.bias', 'distilbert.bert.distilbert.transformer.layer.3.ffn.lin2.bias', 'distilbert.bert.distilbert.transformer.layer.1.attention.out_lin.bias', 'distilbert.bert.distilbert.transformer.layer.2.attention.q_lin.weight', 'distilbert.bert.distilbert.transformer.layer.3.ffn.lin2.weight', 'distilbert.bert.distilbert.transformer.layer.0.attention.out_lin.bias', 'distilbert.bert.distilbert.transformer.layer.1.attention.out_lin.weight', 'distilbert.bert.distilbert.transformer.layer.5.sa_layer_norm.bias', 'distilbert.bert.distilbert.transformer.layer.0.sa_layer_norm.weight', 'distilbert.bert.distilbert.transformer.layer.4.sa_layer_norm.bias', 'distilbert.bert.distilbert.transformer.layer.3.ffn.lin1.bias', 'distilbert.bert.distilbert.transformer.layer.4.ffn.lin2.bias', 'distilbert.bert.distilbert.embeddings.LayerNorm.weight', 'distilbert.bert.distilbert.transformer.layer.4.ffn.lin1.bias', 'distilbert.bert.distilbert.transformer.layer.2.ffn.lin2.bias', 'distilbert.bert.distilbert.transformer.layer.4.ffn.lin2.weight', 'distilbert.bert.distilbert.embeddings.LayerNorm.bias', 'distilbert.bert.distilbert.transformer.layer.1.sa_layer_norm.weight', 'distilbert.bert.distilbert.transformer.layer.2.attention.k_lin.bias', 'distilbert.bert.distilbert.transformer.layer.5.attention.q_lin.weight', 'distilbert.bert.distilbert.transformer.layer.1.attention.q_lin.bias', 'distilbert.bert.distilbert.transformer.layer.3.output_layer_norm.weight', 'distilbert.bert.distilbert.transformer.layer.1.ffn.lin2.weight']\n",
            "You should probably TRAIN this model on a down-stream task to be able to use it for predictions and inference.\n",
            "/opt/conda/lib/python3.8/site-packages/transformers/optimization.py:306: FutureWarning: This implementation of AdamW is deprecated and will be removed in a future version. Use the PyTorch implementation torch.optim.AdamW instead, or set `no_deprecation_warning=True` to disable this warning\n",
            "  warnings.warn(\n"
          ]
        }
      ],
      "source": [
        "model = VK_BERT.from_pretrained(\"distilbert-base-uncased\")\n",
        "optimizer = AdamW(model.parameters(), lr=1e-5, eps=1e-8)\n"
      ]
    },
    {
      "cell_type": "code",
      "execution_count": null,
      "metadata": {
        "colab": {
          "base_uri": "https://localhost:8080/",
          "height": 1000,
          "referenced_widgets": [
            "15a6752b3e674ff092b1d2f5c8b47260",
            "ad3e7c28e93c41a7a0a31394400b07e3",
            "1c56ec95be334cf680ae8daa5c261b98",
            "61ad204268884bfaabf8aa05ac3a8e15",
            "67e9500a7cb7471985fa9b1a356f9eb8",
            "771836b1c2e14603af1f4dc2a35a2a70",
            "1b8481daa16b437d8a4a7a36a1ccd807",
            "97856c878a7d48bb9578dfb4c356562d",
            "0c502cb3c98f41d1b81343e6249bd529",
            "eda1a687e5ea466e9b1712d44b5d97a7",
            "9af1f92ba08849088931ab785a4ee986",
            "4234d795e90a45dea9e6a26143813698",
            "c3412b9935ac436781ca9c34db5f271a",
            "42297c4bd0e944d6af41c8f08f979600",
            "94cd89ad7e8b43b0a17dcb953fc86c4f",
            "8646c2a806f54078b1e52717bf337802",
            "9d8739734b044bb1b24444faa4612e80",
            "5417a5b422da478fa1896758aafad050",
            "34ab5ad5e445477e82c8d6030f2c18ea",
            "fcb07a013e5c45258e6c461cbae66118",
            "20f455ddab2b4358bfc33386ab2efc6e",
            "9fd557d26e8a4e669c5b20061aed684b",
            "7d16146f8291430aa63705a7a24a7653",
            "ee0b024fc6dc4c2a839cda1be45684a1"
          ]
        },
        "id": "ksngnsLhUO7Y",
        "outputId": "3e9f0ee2-6271-4e70-bfbd-1bbb438fb734"
      },
      "outputs": [
        {
          "data": {
            "application/json": {
              "ascii": false,
              "bar_format": null,
              "colour": null,
              "elapsed": 0.023349761962890625,
              "initial": 0,
              "n": 0,
              "ncols": null,
              "nrows": null,
              "postfix": null,
              "prefix": "Downloading (…)solve/main/vocab.txt",
              "rate": null,
              "total": 231508,
              "unit": "B",
              "unit_divisor": 1000,
              "unit_scale": true
            },
            "application/vnd.jupyter.widget-view+json": {
              "model_id": "7d16146f8291430aa63705a7a24a7653",
              "version_major": 2,
              "version_minor": 0
            },
            "text/plain": [
              "Downloading (…)solve/main/vocab.txt:   0%|          | 0.00/232k [00:00<?, ?B/s]"
            ]
          },
          "metadata": {},
          "output_type": "display_data"
        },
        {
          "data": {
            "application/json": {
              "ascii": false,
              "bar_format": null,
              "colour": null,
              "elapsed": 0.023511171340942383,
              "initial": 0,
              "n": 0,
              "ncols": null,
              "nrows": null,
              "postfix": null,
              "prefix": "Downloading (…)okenizer_config.json",
              "rate": null,
              "total": 28,
              "unit": "B",
              "unit_divisor": 1000,
              "unit_scale": true
            },
            "application/vnd.jupyter.widget-view+json": {
              "model_id": "ee0b024fc6dc4c2a839cda1be45684a1",
              "version_major": 2,
              "version_minor": 0
            },
            "text/plain": [
              "Downloading (…)okenizer_config.json:   0%|          | 0.00/28.0 [00:00<?, ?B/s]"
            ]
          },
          "metadata": {},
          "output_type": "display_data"
        },
        {
          "name": "stderr",
          "output_type": "stream",
          "text": [
            "loading file vocab.txt from cache at /root/.cache/huggingface/hub/models--distilbert-base-uncased/snapshots/1c4513b2eedbda136f57676a34eea67aba266e5c/vocab.txt\n",
            "loading file added_tokens.json from cache at None\n",
            "loading file special_tokens_map.json from cache at None\n",
            "loading file tokenizer_config.json from cache at /root/.cache/huggingface/hub/models--distilbert-base-uncased/snapshots/1c4513b2eedbda136f57676a34eea67aba266e5c/tokenizer_config.json\n",
            "loading configuration file config.json from cache at /root/.cache/huggingface/hub/models--distilbert-base-uncased/snapshots/1c4513b2eedbda136f57676a34eea67aba266e5c/config.json\n",
            "Model config DistilBertConfig {\n",
            "  \"_name_or_path\": \"distilbert-base-uncased\",\n",
            "  \"activation\": \"gelu\",\n",
            "  \"architectures\": [\n",
            "    \"DistilBertForMaskedLM\"\n",
            "  ],\n",
            "  \"attention_dropout\": 0.1,\n",
            "  \"dim\": 768,\n",
            "  \"dropout\": 0.1,\n",
            "  \"hidden_dim\": 3072,\n",
            "  \"initializer_range\": 0.02,\n",
            "  \"max_position_embeddings\": 512,\n",
            "  \"model_type\": \"distilbert\",\n",
            "  \"n_heads\": 12,\n",
            "  \"n_layers\": 6,\n",
            "  \"pad_token_id\": 0,\n",
            "  \"qa_dropout\": 0.1,\n",
            "  \"seq_classif_dropout\": 0.2,\n",
            "  \"sinusoidal_pos_embds\": false,\n",
            "  \"tie_weights_\": true,\n",
            "  \"transformers_version\": \"4.26.1\",\n",
            "  \"vocab_size\": 30522\n",
            "}\n",
            "\n",
            "loading file vocab.txt from cache at /root/.cache/huggingface/hub/models--distilbert-base-uncased/snapshots/1c4513b2eedbda136f57676a34eea67aba266e5c/vocab.txt\n",
            "loading file added_tokens.json from cache at None\n",
            "loading file special_tokens_map.json from cache at None\n",
            "loading file tokenizer_config.json from cache at /root/.cache/huggingface/hub/models--distilbert-base-uncased/snapshots/1c4513b2eedbda136f57676a34eea67aba266e5c/tokenizer_config.json\n",
            "loading configuration file config.json from cache at /root/.cache/huggingface/hub/models--distilbert-base-uncased/snapshots/1c4513b2eedbda136f57676a34eea67aba266e5c/config.json\n",
            "Model config DistilBertConfig {\n",
            "  \"_name_or_path\": \"distilbert-base-uncased\",\n",
            "  \"activation\": \"gelu\",\n",
            "  \"architectures\": [\n",
            "    \"DistilBertForMaskedLM\"\n",
            "  ],\n",
            "  \"attention_dropout\": 0.1,\n",
            "  \"dim\": 768,\n",
            "  \"dropout\": 0.1,\n",
            "  \"hidden_dim\": 3072,\n",
            "  \"initializer_range\": 0.02,\n",
            "  \"max_position_embeddings\": 512,\n",
            "  \"model_type\": \"distilbert\",\n",
            "  \"n_heads\": 12,\n",
            "  \"n_layers\": 6,\n",
            "  \"pad_token_id\": 0,\n",
            "  \"qa_dropout\": 0.1,\n",
            "  \"seq_classif_dropout\": 0.2,\n",
            "  \"sinusoidal_pos_embds\": false,\n",
            "  \"tie_weights_\": true,\n",
            "  \"transformers_version\": \"4.26.1\",\n",
            "  \"vocab_size\": 30522\n",
            "}\n",
            "\n"
          ]
        }
      ],
      "source": [
        "train_dataset = DATALoader(\n",
        "        data=df_train.text_with_comment.values,\n",
        "        target=df_train.label.values,\n",
        ")\n",
        "\n",
        "train_data_loader = torch.utils.data.DataLoader(\n",
        "        train_dataset, \n",
        "        batch_size=32,\n",
        "        num_workers=4,\n",
        ")\n",
        "\n",
        "val_dataset = DATALoader(\n",
        "        data=df_valid.text_with_comment.values,\n",
        "        target=df_valid.label.values,\n",
        ")\n",
        "\n",
        "val_data_loader = torch.utils.data.DataLoader(\n",
        "        val_dataset, \n",
        "        batch_size=16,\n",
        "        num_workers=1,\n",
        ")"
      ]
    },
    {
      "cell_type": "markdown",
      "metadata": {
        "id": "4tqB6hyO0Quz"
      },
      "source": [
        "# На train считаем mse, идея кажется хорошей, т.к. не требует отправлять по 5 инпутов, но позволяет понять, насколько близки наши text+comment к лейблам, не привязывая к количеству и конкретным классам. На eval считаем ndcg"
      ]
    },
    {
      "cell_type": "code",
      "execution_count": null,
      "metadata": {
        "colab": {
          "base_uri": "https://localhost:8080/"
        },
        "id": "cJhEr_ofd-TG",
        "outputId": "a43d72b2-fc63-4548-c1c0-a383d4ff18c0"
      },
      "outputs": [
        {
          "name": "stderr",
          "output_type": "stream",
          "text": [
            "  0%|          | 0/11014 [00:00<?, ?it/s]Truncation was not explicitly activated but `max_length` is provided a specific value, please use `truncation=True` to explicitly truncate examples to max length. Defaulting to 'longest_first' truncation strategy. If you encode pairs of sequences (GLUE-style) with the tokenizer you can select this strategy more precisely by providing a specific strategy to `truncation`.\n",
            "Truncation was not explicitly activated but `max_length` is provided a specific value, please use `truncation=True` to explicitly truncate examples to max length. Defaulting to 'longest_first' truncation strategy. If you encode pairs of sequences (GLUE-style) with the tokenizer you can select this strategy more precisely by providing a specific strategy to `truncation`.\n",
            "Truncation was not explicitly activated but `max_length` is provided a specific value, please use `truncation=True` to explicitly truncate examples to max length. Defaulting to 'longest_first' truncation strategy. If you encode pairs of sequences (GLUE-style) with the tokenizer you can select this strategy more precisely by providing a specific strategy to `truncation`.\n",
            "/opt/conda/lib/python3.8/site-packages/transformers/tokenization_utils_base.py:2339: FutureWarning: The `pad_to_max_length` argument is deprecated and will be removed in a future version, use `padding=True` or `padding='longest'` to pad to the longest sequence in the batch, or use `padding='max_length'` to pad to a max length. In this case, you can give a specific length with `max_length` (e.g. `max_length=45`) or leave max_length to None to pad to the maximal input size of the model (e.g. 512 for Bert).\n",
            "  warnings.warn(\n",
            "/opt/conda/lib/python3.8/site-packages/transformers/tokenization_utils_base.py:2339: FutureWarning: The `pad_to_max_length` argument is deprecated and will be removed in a future version, use `padding=True` or `padding='longest'` to pad to the longest sequence in the batch, or use `padding='max_length'` to pad to a max length. In this case, you can give a specific length with `max_length` (e.g. `max_length=45`) or leave max_length to None to pad to the maximal input size of the model (e.g. 512 for Bert).\n",
            "  warnings.warn(\n",
            "/opt/conda/lib/python3.8/site-packages/transformers/tokenization_utils_base.py:2339: FutureWarning: The `pad_to_max_length` argument is deprecated and will be removed in a future version, use `padding=True` or `padding='longest'` to pad to the longest sequence in the batch, or use `padding='max_length'` to pad to a max length. In this case, you can give a specific length with `max_length` (e.g. `max_length=45`) or leave max_length to None to pad to the maximal input size of the model (e.g. 512 for Bert).\n",
            "  warnings.warn(\n",
            "Truncation was not explicitly activated but `max_length` is provided a specific value, please use `truncation=True` to explicitly truncate examples to max length. Defaulting to 'longest_first' truncation strategy. If you encode pairs of sequences (GLUE-style) with the tokenizer you can select this strategy more precisely by providing a specific strategy to `truncation`.\n",
            "/opt/conda/lib/python3.8/site-packages/transformers/tokenization_utils_base.py:2339: FutureWarning: The `pad_to_max_length` argument is deprecated and will be removed in a future version, use `padding=True` or `padding='longest'` to pad to the longest sequence in the batch, or use `padding='max_length'` to pad to a max length. In this case, you can give a specific length with `max_length` (e.g. `max_length=45`) or leave max_length to None to pad to the maximal input size of the model (e.g. 512 for Bert).\n",
            "  warnings.warn(\n",
            "  0%|          | 1/11014 [00:00<2:14:27,  1.37it/s]"
          ]
        },
        {
          "name": "stdout",
          "output_type": "stream",
          "text": [
            "\n",
            " running loss:  tensor(5.0832, device='cuda:0', grad_fn=<MseLossBackward0>)\n"
          ]
        },
        {
          "name": "stderr",
          "output_type": "stream",
          "text": [
            "  1%|          | 101/11014 [00:48<1:27:26,  2.08it/s]"
          ]
        },
        {
          "name": "stdout",
          "output_type": "stream",
          "text": [
            "\n",
            " running loss:  tensor(1.9455, device='cuda:0', grad_fn=<MseLossBackward0>)\n"
          ]
        },
        {
          "name": "stderr",
          "output_type": "stream",
          "text": [
            "  2%|▏         | 201/11014 [01:36<1:26:52,  2.07it/s]"
          ]
        },
        {
          "name": "stdout",
          "output_type": "stream",
          "text": [
            "\n",
            " running loss:  tensor(1.9955, device='cuda:0', grad_fn=<MseLossBackward0>)\n"
          ]
        },
        {
          "name": "stderr",
          "output_type": "stream",
          "text": [
            "  3%|▎         | 301/11014 [02:25<1:26:27,  2.06it/s]"
          ]
        },
        {
          "name": "stdout",
          "output_type": "stream",
          "text": [
            "\n",
            " running loss:  tensor(1.4694, device='cuda:0', grad_fn=<MseLossBackward0>)\n"
          ]
        },
        {
          "name": "stderr",
          "output_type": "stream",
          "text": [
            "  4%|▎         | 401/11014 [03:13<1:25:35,  2.07it/s]"
          ]
        },
        {
          "name": "stdout",
          "output_type": "stream",
          "text": [
            "\n",
            " running loss:  tensor(1.9570, device='cuda:0', grad_fn=<MseLossBackward0>)\n"
          ]
        },
        {
          "name": "stderr",
          "output_type": "stream",
          "text": [
            "  5%|▍         | 501/11014 [04:01<1:24:05,  2.08it/s]"
          ]
        },
        {
          "name": "stdout",
          "output_type": "stream",
          "text": [
            "\n",
            " running loss:  tensor(2.0502, device='cuda:0', grad_fn=<MseLossBackward0>)\n"
          ]
        },
        {
          "name": "stderr",
          "output_type": "stream",
          "text": [
            "  5%|▌         | 601/11014 [04:49<1:23:40,  2.07it/s]"
          ]
        },
        {
          "name": "stdout",
          "output_type": "stream",
          "text": [
            "\n",
            " running loss:  tensor(1.4992, device='cuda:0', grad_fn=<MseLossBackward0>)\n"
          ]
        },
        {
          "name": "stderr",
          "output_type": "stream",
          "text": [
            "  6%|▋         | 701/11014 [05:38<1:22:59,  2.07it/s]"
          ]
        },
        {
          "name": "stdout",
          "output_type": "stream",
          "text": [
            "\n",
            " running loss:  tensor(2.0062, device='cuda:0', grad_fn=<MseLossBackward0>)\n"
          ]
        },
        {
          "name": "stderr",
          "output_type": "stream",
          "text": [
            "  7%|▋         | 801/11014 [06:26<1:22:22,  2.07it/s]"
          ]
        },
        {
          "name": "stdout",
          "output_type": "stream",
          "text": [
            "\n",
            " running loss:  tensor(1.2025, device='cuda:0', grad_fn=<MseLossBackward0>)\n"
          ]
        },
        {
          "name": "stderr",
          "output_type": "stream",
          "text": [
            "  8%|▊         | 901/11014 [07:14<1:21:22,  2.07it/s]"
          ]
        },
        {
          "name": "stdout",
          "output_type": "stream",
          "text": [
            "\n",
            " running loss:  tensor(1.2020, device='cuda:0', grad_fn=<MseLossBackward0>)\n"
          ]
        },
        {
          "name": "stderr",
          "output_type": "stream",
          "text": [
            "  9%|▉         | 1001/11014 [08:03<1:20:35,  2.07it/s]"
          ]
        },
        {
          "name": "stdout",
          "output_type": "stream",
          "text": [
            "\n",
            " running loss:  tensor(2.0855, device='cuda:0', grad_fn=<MseLossBackward0>)\n"
          ]
        },
        {
          "name": "stderr",
          "output_type": "stream",
          "text": [
            " 10%|▉         | 1101/11014 [08:51<1:19:42,  2.07it/s]"
          ]
        },
        {
          "name": "stdout",
          "output_type": "stream",
          "text": [
            "\n",
            " running loss:  tensor(2.1165, device='cuda:0', grad_fn=<MseLossBackward0>)\n"
          ]
        },
        {
          "name": "stderr",
          "output_type": "stream",
          "text": [
            " 11%|█         | 1201/11014 [09:39<1:18:54,  2.07it/s]"
          ]
        },
        {
          "name": "stdout",
          "output_type": "stream",
          "text": [
            "\n",
            " running loss:  tensor(1.5181, device='cuda:0', grad_fn=<MseLossBackward0>)\n"
          ]
        },
        {
          "name": "stderr",
          "output_type": "stream",
          "text": [
            " 12%|█▏        | 1301/11014 [10:28<1:18:14,  2.07it/s]"
          ]
        },
        {
          "name": "stdout",
          "output_type": "stream",
          "text": [
            "\n",
            " running loss:  tensor(1.9481, device='cuda:0', grad_fn=<MseLossBackward0>)\n"
          ]
        },
        {
          "name": "stderr",
          "output_type": "stream",
          "text": [
            " 13%|█▎        | 1401/11014 [11:16<1:17:16,  2.07it/s]"
          ]
        },
        {
          "name": "stdout",
          "output_type": "stream",
          "text": [
            "\n",
            " running loss:  tensor(2.1102, device='cuda:0', grad_fn=<MseLossBackward0>)\n"
          ]
        },
        {
          "name": "stderr",
          "output_type": "stream",
          "text": [
            " 14%|█▎        | 1501/11014 [12:04<1:16:14,  2.08it/s]"
          ]
        },
        {
          "name": "stdout",
          "output_type": "stream",
          "text": [
            "\n",
            " running loss:  tensor(1.9922, device='cuda:0', grad_fn=<MseLossBackward0>)\n"
          ]
        },
        {
          "name": "stderr",
          "output_type": "stream",
          "text": [
            " 15%|█▍        | 1601/11014 [12:53<1:16:03,  2.06it/s]"
          ]
        },
        {
          "name": "stdout",
          "output_type": "stream",
          "text": [
            "\n",
            " running loss:  tensor(1.3633, device='cuda:0', grad_fn=<MseLossBackward0>)\n"
          ]
        },
        {
          "name": "stderr",
          "output_type": "stream",
          "text": [
            " 15%|█▌        | 1701/11014 [13:41<1:15:06,  2.07it/s]"
          ]
        },
        {
          "name": "stdout",
          "output_type": "stream",
          "text": [
            "\n",
            " running loss:  tensor(2.1977, device='cuda:0', grad_fn=<MseLossBackward0>)\n"
          ]
        },
        {
          "name": "stderr",
          "output_type": "stream",
          "text": [
            " 16%|█▋        | 1801/11014 [14:29<1:14:05,  2.07it/s]"
          ]
        },
        {
          "name": "stdout",
          "output_type": "stream",
          "text": [
            "\n",
            " running loss:  tensor(1.2104, device='cuda:0', grad_fn=<MseLossBackward0>)\n"
          ]
        },
        {
          "name": "stderr",
          "output_type": "stream",
          "text": [
            " 17%|█▋        | 1901/11014 [15:17<1:13:24,  2.07it/s]"
          ]
        },
        {
          "name": "stdout",
          "output_type": "stream",
          "text": [
            "\n",
            " running loss:  tensor(1.6140, device='cuda:0', grad_fn=<MseLossBackward0>)\n"
          ]
        },
        {
          "name": "stderr",
          "output_type": "stream",
          "text": [
            " 18%|█▊        | 2001/11014 [16:06<1:12:47,  2.06it/s]"
          ]
        },
        {
          "name": "stdout",
          "output_type": "stream",
          "text": [
            "\n",
            " running loss:  tensor(1.9272, device='cuda:0', grad_fn=<MseLossBackward0>)\n"
          ]
        },
        {
          "name": "stderr",
          "output_type": "stream",
          "text": [
            " 19%|█▉        | 2101/11014 [16:54<1:11:59,  2.06it/s]"
          ]
        },
        {
          "name": "stdout",
          "output_type": "stream",
          "text": [
            "\n",
            " running loss:  tensor(1.8489, device='cuda:0', grad_fn=<MseLossBackward0>)\n"
          ]
        },
        {
          "name": "stderr",
          "output_type": "stream",
          "text": [
            " 20%|█▉        | 2201/11014 [17:42<1:10:44,  2.08it/s]"
          ]
        },
        {
          "name": "stdout",
          "output_type": "stream",
          "text": [
            "\n",
            " running loss:  tensor(2.0268, device='cuda:0', grad_fn=<MseLossBackward0>)\n"
          ]
        },
        {
          "name": "stderr",
          "output_type": "stream",
          "text": [
            " 21%|██        | 2301/11014 [18:31<1:10:10,  2.07it/s]"
          ]
        },
        {
          "name": "stdout",
          "output_type": "stream",
          "text": [
            "\n",
            " running loss:  tensor(2.0132, device='cuda:0', grad_fn=<MseLossBackward0>)\n"
          ]
        },
        {
          "name": "stderr",
          "output_type": "stream",
          "text": [
            " 22%|██▏       | 2401/11014 [19:19<1:09:12,  2.07it/s]"
          ]
        },
        {
          "name": "stdout",
          "output_type": "stream",
          "text": [
            "\n",
            " running loss:  tensor(1.3628, device='cuda:0', grad_fn=<MseLossBackward0>)\n"
          ]
        },
        {
          "name": "stderr",
          "output_type": "stream",
          "text": [
            " 23%|██▎       | 2501/11014 [20:07<1:08:28,  2.07it/s]"
          ]
        },
        {
          "name": "stdout",
          "output_type": "stream",
          "text": [
            "\n",
            " running loss:  tensor(2.2835, device='cuda:0', grad_fn=<MseLossBackward0>)\n"
          ]
        },
        {
          "name": "stderr",
          "output_type": "stream",
          "text": [
            " 24%|██▎       | 2601/11014 [20:56<1:07:51,  2.07it/s]"
          ]
        },
        {
          "name": "stdout",
          "output_type": "stream",
          "text": [
            "\n",
            " running loss:  tensor(1.2126, device='cuda:0', grad_fn=<MseLossBackward0>)\n"
          ]
        },
        {
          "name": "stderr",
          "output_type": "stream",
          "text": [
            " 25%|██▍       | 2701/11014 [21:44<1:07:08,  2.06it/s]"
          ]
        },
        {
          "name": "stdout",
          "output_type": "stream",
          "text": [
            "\n",
            " running loss:  tensor(2.0133, device='cuda:0', grad_fn=<MseLossBackward0>)\n"
          ]
        },
        {
          "name": "stderr",
          "output_type": "stream",
          "text": [
            " 25%|██▌       | 2801/11014 [22:32<1:06:02,  2.07it/s]"
          ]
        },
        {
          "name": "stdout",
          "output_type": "stream",
          "text": [
            "\n",
            " running loss:  tensor(2.3289, device='cuda:0', grad_fn=<MseLossBackward0>)\n"
          ]
        },
        {
          "name": "stderr",
          "output_type": "stream",
          "text": [
            " 26%|██▋       | 2901/11014 [23:21<1:05:29,  2.06it/s]"
          ]
        },
        {
          "name": "stdout",
          "output_type": "stream",
          "text": [
            "\n",
            " running loss:  tensor(1.8906, device='cuda:0', grad_fn=<MseLossBackward0>)\n"
          ]
        },
        {
          "name": "stderr",
          "output_type": "stream",
          "text": [
            " 27%|██▋       | 3001/11014 [24:09<1:04:14,  2.08it/s]"
          ]
        },
        {
          "name": "stdout",
          "output_type": "stream",
          "text": [
            "\n",
            " running loss:  tensor(2.3468, device='cuda:0', grad_fn=<MseLossBackward0>)\n"
          ]
        },
        {
          "name": "stderr",
          "output_type": "stream",
          "text": [
            " 28%|██▊       | 3101/11014 [24:57<1:03:40,  2.07it/s]"
          ]
        },
        {
          "name": "stdout",
          "output_type": "stream",
          "text": [
            "\n",
            " running loss:  tensor(1.9293, device='cuda:0', grad_fn=<MseLossBackward0>)\n"
          ]
        },
        {
          "name": "stderr",
          "output_type": "stream",
          "text": [
            " 29%|██▉       | 3201/11014 [25:45<1:02:54,  2.07it/s]"
          ]
        },
        {
          "name": "stdout",
          "output_type": "stream",
          "text": [
            "\n",
            " running loss:  tensor(1.3876, device='cuda:0', grad_fn=<MseLossBackward0>)\n"
          ]
        },
        {
          "name": "stderr",
          "output_type": "stream",
          "text": [
            " 30%|██▉       | 3301/11014 [26:34<1:02:10,  2.07it/s]"
          ]
        },
        {
          "name": "stdout",
          "output_type": "stream",
          "text": [
            "\n",
            " running loss:  tensor(1.8405, device='cuda:0', grad_fn=<MseLossBackward0>)\n"
          ]
        },
        {
          "name": "stderr",
          "output_type": "stream",
          "text": [
            " 31%|███       | 3401/11014 [27:22<1:01:26,  2.07it/s]"
          ]
        },
        {
          "name": "stdout",
          "output_type": "stream",
          "text": [
            "\n",
            " running loss:  tensor(2.1068, device='cuda:0', grad_fn=<MseLossBackward0>)\n"
          ]
        },
        {
          "name": "stderr",
          "output_type": "stream",
          "text": [
            " 32%|███▏      | 3501/11014 [28:10<1:00:24,  2.07it/s]"
          ]
        },
        {
          "name": "stdout",
          "output_type": "stream",
          "text": [
            "\n",
            " running loss:  tensor(1.9834, device='cuda:0', grad_fn=<MseLossBackward0>)\n"
          ]
        },
        {
          "name": "stderr",
          "output_type": "stream",
          "text": [
            " 33%|███▎      | 3601/11014 [28:59<59:37,  2.07it/s]  "
          ]
        },
        {
          "name": "stdout",
          "output_type": "stream",
          "text": [
            "\n",
            " running loss:  tensor(1.7484, device='cuda:0', grad_fn=<MseLossBackward0>)\n"
          ]
        },
        {
          "name": "stderr",
          "output_type": "stream",
          "text": [
            " 34%|███▎      | 3701/11014 [29:47<58:50,  2.07it/s]"
          ]
        },
        {
          "name": "stdout",
          "output_type": "stream",
          "text": [
            "\n",
            " running loss:  tensor(1.3854, device='cuda:0', grad_fn=<MseLossBackward0>)\n"
          ]
        },
        {
          "name": "stderr",
          "output_type": "stream",
          "text": [
            " 35%|███▍      | 3801/11014 [30:35<58:15,  2.06it/s]"
          ]
        },
        {
          "name": "stdout",
          "output_type": "stream",
          "text": [
            "\n",
            " running loss:  tensor(1.6304, device='cuda:0', grad_fn=<MseLossBackward0>)\n"
          ]
        },
        {
          "name": "stderr",
          "output_type": "stream",
          "text": [
            " 35%|███▌      | 3901/11014 [31:24<57:17,  2.07it/s]"
          ]
        },
        {
          "name": "stdout",
          "output_type": "stream",
          "text": [
            "\n",
            " running loss:  tensor(2.4183, device='cuda:0', grad_fn=<MseLossBackward0>)\n"
          ]
        },
        {
          "name": "stderr",
          "output_type": "stream",
          "text": [
            " 36%|███▋      | 4001/11014 [32:12<56:28,  2.07it/s]"
          ]
        },
        {
          "name": "stdout",
          "output_type": "stream",
          "text": [
            "\n",
            " running loss:  tensor(1.9048, device='cuda:0', grad_fn=<MseLossBackward0>)\n"
          ]
        },
        {
          "name": "stderr",
          "output_type": "stream",
          "text": [
            " 37%|███▋      | 4101/11014 [33:00<55:37,  2.07it/s]"
          ]
        },
        {
          "name": "stdout",
          "output_type": "stream",
          "text": [
            "\n",
            " running loss:  tensor(2.0352, device='cuda:0', grad_fn=<MseLossBackward0>)\n"
          ]
        },
        {
          "name": "stderr",
          "output_type": "stream",
          "text": [
            " 38%|███▊      | 4201/11014 [33:49<55:00,  2.06it/s]"
          ]
        },
        {
          "name": "stdout",
          "output_type": "stream",
          "text": [
            "\n",
            " running loss:  tensor(2.1884, device='cuda:0', grad_fn=<MseLossBackward0>)\n"
          ]
        },
        {
          "name": "stderr",
          "output_type": "stream",
          "text": [
            " 39%|███▉      | 4301/11014 [34:37<54:00,  2.07it/s]"
          ]
        },
        {
          "name": "stdout",
          "output_type": "stream",
          "text": [
            "\n",
            " running loss:  tensor(1.9704, device='cuda:0', grad_fn=<MseLossBackward0>)\n"
          ]
        },
        {
          "name": "stderr",
          "output_type": "stream",
          "text": [
            " 40%|███▉      | 4401/11014 [35:25<53:25,  2.06it/s]"
          ]
        },
        {
          "name": "stdout",
          "output_type": "stream",
          "text": [
            "\n",
            " running loss:  tensor(1.4907, device='cuda:0', grad_fn=<MseLossBackward0>)\n"
          ]
        },
        {
          "name": "stderr",
          "output_type": "stream",
          "text": [
            " 41%|████      | 4501/11014 [36:14<52:37,  2.06it/s]"
          ]
        },
        {
          "name": "stdout",
          "output_type": "stream",
          "text": [
            "\n",
            " running loss:  tensor(1.7176, device='cuda:0', grad_fn=<MseLossBackward0>)\n"
          ]
        },
        {
          "name": "stderr",
          "output_type": "stream",
          "text": [
            " 42%|████▏     | 4601/11014 [37:02<51:31,  2.07it/s]"
          ]
        },
        {
          "name": "stdout",
          "output_type": "stream",
          "text": [
            "\n",
            " running loss:  tensor(1.7633, device='cuda:0', grad_fn=<MseLossBackward0>)\n"
          ]
        },
        {
          "name": "stderr",
          "output_type": "stream",
          "text": [
            " 43%|████▎     | 4701/11014 [37:50<50:37,  2.08it/s]"
          ]
        },
        {
          "name": "stdout",
          "output_type": "stream",
          "text": [
            "\n",
            " running loss:  tensor(1.2651, device='cuda:0', grad_fn=<MseLossBackward0>)\n"
          ]
        },
        {
          "name": "stderr",
          "output_type": "stream",
          "text": [
            " 44%|████▎     | 4801/11014 [38:38<49:57,  2.07it/s]"
          ]
        },
        {
          "name": "stdout",
          "output_type": "stream",
          "text": [
            "\n",
            " running loss:  tensor(1.4869, device='cuda:0', grad_fn=<MseLossBackward0>)\n"
          ]
        },
        {
          "name": "stderr",
          "output_type": "stream",
          "text": [
            " 44%|████▍     | 4901/11014 [39:27<49:22,  2.06it/s]"
          ]
        },
        {
          "name": "stdout",
          "output_type": "stream",
          "text": [
            "\n",
            " running loss:  tensor(1.6851, device='cuda:0', grad_fn=<MseLossBackward0>)\n"
          ]
        },
        {
          "name": "stderr",
          "output_type": "stream",
          "text": [
            " 45%|████▌     | 5001/11014 [40:15<48:27,  2.07it/s]"
          ]
        },
        {
          "name": "stdout",
          "output_type": "stream",
          "text": [
            "\n",
            " running loss:  tensor(2.0436, device='cuda:0', grad_fn=<MseLossBackward0>)\n"
          ]
        },
        {
          "name": "stderr",
          "output_type": "stream",
          "text": [
            " 46%|████▋     | 5101/11014 [41:04<47:42,  2.07it/s]"
          ]
        },
        {
          "name": "stdout",
          "output_type": "stream",
          "text": [
            "\n",
            " running loss:  tensor(1.8831, device='cuda:0', grad_fn=<MseLossBackward0>)\n"
          ]
        },
        {
          "name": "stderr",
          "output_type": "stream",
          "text": [
            " 47%|████▋     | 5201/11014 [41:52<46:51,  2.07it/s]"
          ]
        },
        {
          "name": "stdout",
          "output_type": "stream",
          "text": [
            "\n",
            " running loss:  tensor(1.7490, device='cuda:0', grad_fn=<MseLossBackward0>)\n"
          ]
        },
        {
          "name": "stderr",
          "output_type": "stream",
          "text": [
            " 48%|████▊     | 5301/11014 [42:40<46:08,  2.06it/s]"
          ]
        },
        {
          "name": "stdout",
          "output_type": "stream",
          "text": [
            "\n",
            " running loss:  tensor(1.3637, device='cuda:0', grad_fn=<MseLossBackward0>)\n"
          ]
        },
        {
          "name": "stderr",
          "output_type": "stream",
          "text": [
            " 49%|████▉     | 5401/11014 [43:29<45:20,  2.06it/s]"
          ]
        },
        {
          "name": "stdout",
          "output_type": "stream",
          "text": [
            "\n",
            " running loss:  tensor(1.7093, device='cuda:0', grad_fn=<MseLossBackward0>)\n"
          ]
        },
        {
          "name": "stderr",
          "output_type": "stream",
          "text": [
            " 50%|████▉     | 5501/11014 [44:17<44:19,  2.07it/s]"
          ]
        },
        {
          "name": "stdout",
          "output_type": "stream",
          "text": [
            "\n",
            " running loss:  tensor(1.6214, device='cuda:0', grad_fn=<MseLossBackward0>)\n"
          ]
        },
        {
          "name": "stderr",
          "output_type": "stream",
          "text": [
            " 51%|█████     | 5601/11014 [45:05<43:31,  2.07it/s]"
          ]
        },
        {
          "name": "stdout",
          "output_type": "stream",
          "text": [
            "\n",
            " running loss:  tensor(2.5511, device='cuda:0', grad_fn=<MseLossBackward0>)\n"
          ]
        },
        {
          "name": "stderr",
          "output_type": "stream",
          "text": [
            " 52%|█████▏    | 5701/11014 [45:53<42:48,  2.07it/s]"
          ]
        },
        {
          "name": "stdout",
          "output_type": "stream",
          "text": [
            "\n",
            " running loss:  tensor(1.8967, device='cuda:0', grad_fn=<MseLossBackward0>)\n"
          ]
        },
        {
          "name": "stderr",
          "output_type": "stream",
          "text": [
            " 53%|█████▎    | 5801/11014 [46:42<41:55,  2.07it/s]"
          ]
        },
        {
          "name": "stdout",
          "output_type": "stream",
          "text": [
            "\n",
            " running loss:  tensor(1.9803, device='cuda:0', grad_fn=<MseLossBackward0>)\n"
          ]
        },
        {
          "name": "stderr",
          "output_type": "stream",
          "text": [
            " 54%|█████▎    | 5901/11014 [47:30<41:10,  2.07it/s]"
          ]
        },
        {
          "name": "stdout",
          "output_type": "stream",
          "text": [
            "\n",
            " running loss:  tensor(2.1740, device='cuda:0', grad_fn=<MseLossBackward0>)\n"
          ]
        },
        {
          "name": "stderr",
          "output_type": "stream",
          "text": [
            " 54%|█████▍    | 6001/11014 [48:18<40:17,  2.07it/s]"
          ]
        },
        {
          "name": "stdout",
          "output_type": "stream",
          "text": [
            "\n",
            " running loss:  tensor(1.9257, device='cuda:0', grad_fn=<MseLossBackward0>)\n"
          ]
        },
        {
          "name": "stderr",
          "output_type": "stream",
          "text": [
            " 55%|█████▌    | 6101/11014 [49:07<39:43,  2.06it/s]"
          ]
        },
        {
          "name": "stdout",
          "output_type": "stream",
          "text": [
            "\n",
            " running loss:  tensor(2.1093, device='cuda:0', grad_fn=<MseLossBackward0>)\n"
          ]
        },
        {
          "name": "stderr",
          "output_type": "stream",
          "text": [
            " 56%|█████▋    | 6201/11014 [49:55<38:46,  2.07it/s]"
          ]
        },
        {
          "name": "stdout",
          "output_type": "stream",
          "text": [
            "\n",
            " running loss:  tensor(2.4095, device='cuda:0', grad_fn=<MseLossBackward0>)\n"
          ]
        },
        {
          "name": "stderr",
          "output_type": "stream",
          "text": [
            " 57%|█████▋    | 6301/11014 [50:43<37:56,  2.07it/s]"
          ]
        },
        {
          "name": "stdout",
          "output_type": "stream",
          "text": [
            "\n",
            " running loss:  tensor(1.8786, device='cuda:0', grad_fn=<MseLossBackward0>)\n"
          ]
        },
        {
          "name": "stderr",
          "output_type": "stream",
          "text": [
            " 58%|█████▊    | 6401/11014 [51:32<37:12,  2.07it/s]"
          ]
        },
        {
          "name": "stdout",
          "output_type": "stream",
          "text": [
            "\n",
            " running loss:  tensor(1.4219, device='cuda:0', grad_fn=<MseLossBackward0>)\n"
          ]
        },
        {
          "name": "stderr",
          "output_type": "stream",
          "text": [
            " 59%|█████▉    | 6501/11014 [52:20<36:22,  2.07it/s]"
          ]
        },
        {
          "name": "stdout",
          "output_type": "stream",
          "text": [
            "\n",
            " running loss:  tensor(2.0188, device='cuda:0', grad_fn=<MseLossBackward0>)\n"
          ]
        },
        {
          "name": "stderr",
          "output_type": "stream",
          "text": [
            " 60%|█████▉    | 6601/11014 [53:09<35:38,  2.06it/s]"
          ]
        },
        {
          "name": "stdout",
          "output_type": "stream",
          "text": [
            "\n",
            " running loss:  tensor(2.0653, device='cuda:0', grad_fn=<MseLossBackward0>)\n"
          ]
        },
        {
          "name": "stderr",
          "output_type": "stream",
          "text": [
            " 61%|██████    | 6701/11014 [53:57<34:50,  2.06it/s]"
          ]
        },
        {
          "name": "stdout",
          "output_type": "stream",
          "text": [
            "\n",
            " running loss:  tensor(2.2460, device='cuda:0', grad_fn=<MseLossBackward0>)\n"
          ]
        },
        {
          "name": "stderr",
          "output_type": "stream",
          "text": [
            " 62%|██████▏   | 6801/11014 [54:45<33:56,  2.07it/s]"
          ]
        },
        {
          "name": "stdout",
          "output_type": "stream",
          "text": [
            "\n",
            " running loss:  tensor(1.8563, device='cuda:0', grad_fn=<MseLossBackward0>)\n"
          ]
        },
        {
          "name": "stderr",
          "output_type": "stream",
          "text": [
            " 63%|██████▎   | 6901/11014 [55:34<33:10,  2.07it/s]"
          ]
        },
        {
          "name": "stdout",
          "output_type": "stream",
          "text": [
            "\n",
            " running loss:  tensor(2.1757, device='cuda:0', grad_fn=<MseLossBackward0>)\n"
          ]
        },
        {
          "name": "stderr",
          "output_type": "stream",
          "text": [
            " 64%|██████▎   | 7001/11014 [56:22<32:26,  2.06it/s]"
          ]
        },
        {
          "name": "stdout",
          "output_type": "stream",
          "text": [
            "\n",
            " running loss:  tensor(1.8516, device='cuda:0', grad_fn=<MseLossBackward0>)\n"
          ]
        },
        {
          "name": "stderr",
          "output_type": "stream",
          "text": [
            " 64%|██████▍   | 7101/11014 [57:11<31:31,  2.07it/s]"
          ]
        },
        {
          "name": "stdout",
          "output_type": "stream",
          "text": [
            "\n",
            " running loss:  tensor(1.5060, device='cuda:0', grad_fn=<MseLossBackward0>)\n"
          ]
        },
        {
          "name": "stderr",
          "output_type": "stream",
          "text": [
            " 65%|██████▌   | 7201/11014 [57:59<30:45,  2.07it/s]"
          ]
        },
        {
          "name": "stdout",
          "output_type": "stream",
          "text": [
            "\n",
            " running loss:  tensor(1.5949, device='cuda:0', grad_fn=<MseLossBackward0>)\n"
          ]
        },
        {
          "name": "stderr",
          "output_type": "stream",
          "text": [
            " 66%|██████▋   | 7301/11014 [58:47<29:56,  2.07it/s]"
          ]
        },
        {
          "name": "stdout",
          "output_type": "stream",
          "text": [
            "\n",
            " running loss:  tensor(1.8013, device='cuda:0', grad_fn=<MseLossBackward0>)\n"
          ]
        },
        {
          "name": "stderr",
          "output_type": "stream",
          "text": [
            " 67%|██████▋   | 7401/11014 [59:36<29:09,  2.06it/s]"
          ]
        },
        {
          "name": "stdout",
          "output_type": "stream",
          "text": [
            "\n",
            " running loss:  tensor(1.7488, device='cuda:0', grad_fn=<MseLossBackward0>)\n"
          ]
        },
        {
          "name": "stderr",
          "output_type": "stream",
          "text": [
            " 68%|██████▊   | 7501/11014 [1:00:24<28:23,  2.06it/s]"
          ]
        },
        {
          "name": "stdout",
          "output_type": "stream",
          "text": [
            "\n",
            " running loss:  tensor(1.7699, device='cuda:0', grad_fn=<MseLossBackward0>)\n"
          ]
        },
        {
          "name": "stderr",
          "output_type": "stream",
          "text": [
            " 69%|██████▉   | 7601/11014 [1:01:13<27:28,  2.07it/s]"
          ]
        },
        {
          "name": "stdout",
          "output_type": "stream",
          "text": [
            "\n",
            " running loss:  tensor(2.0077, device='cuda:0', grad_fn=<MseLossBackward0>)\n"
          ]
        },
        {
          "name": "stderr",
          "output_type": "stream",
          "text": [
            " 70%|██████▉   | 7701/11014 [1:02:01<26:33,  2.08it/s]"
          ]
        },
        {
          "name": "stdout",
          "output_type": "stream",
          "text": [
            "\n",
            " running loss:  tensor(1.7139, device='cuda:0', grad_fn=<MseLossBackward0>)\n"
          ]
        },
        {
          "name": "stderr",
          "output_type": "stream",
          "text": [
            " 71%|███████   | 7801/11014 [1:02:49<25:50,  2.07it/s]"
          ]
        },
        {
          "name": "stdout",
          "output_type": "stream",
          "text": [
            "\n",
            " running loss:  tensor(1.9404, device='cuda:0', grad_fn=<MseLossBackward0>)\n"
          ]
        },
        {
          "name": "stderr",
          "output_type": "stream",
          "text": [
            " 72%|███████▏  | 7901/11014 [1:03:38<25:06,  2.07it/s]"
          ]
        },
        {
          "name": "stdout",
          "output_type": "stream",
          "text": [
            "\n",
            " running loss:  tensor(1.6900, device='cuda:0', grad_fn=<MseLossBackward0>)\n"
          ]
        },
        {
          "name": "stderr",
          "output_type": "stream",
          "text": [
            " 73%|███████▎  | 8001/11014 [1:04:26<24:14,  2.07it/s]"
          ]
        },
        {
          "name": "stdout",
          "output_type": "stream",
          "text": [
            "\n",
            " running loss:  tensor(1.6034, device='cuda:0', grad_fn=<MseLossBackward0>)\n"
          ]
        },
        {
          "name": "stderr",
          "output_type": "stream",
          "text": [
            " 74%|███████▎  | 8101/11014 [1:05:14<23:24,  2.07it/s]"
          ]
        },
        {
          "name": "stdout",
          "output_type": "stream",
          "text": [
            "\n",
            " running loss:  tensor(2.0314, device='cuda:0', grad_fn=<MseLossBackward0>)\n"
          ]
        },
        {
          "name": "stderr",
          "output_type": "stream",
          "text": [
            " 74%|███████▍  | 8201/11014 [1:06:02<22:35,  2.07it/s]"
          ]
        },
        {
          "name": "stdout",
          "output_type": "stream",
          "text": [
            "\n",
            " running loss:  tensor(2.0631, device='cuda:0', grad_fn=<MseLossBackward0>)\n"
          ]
        },
        {
          "name": "stderr",
          "output_type": "stream",
          "text": [
            " 75%|███████▌  | 8301/11014 [1:06:51<21:55,  2.06it/s]"
          ]
        },
        {
          "name": "stdout",
          "output_type": "stream",
          "text": [
            "\n",
            " running loss:  tensor(1.3027, device='cuda:0', grad_fn=<MseLossBackward0>)\n"
          ]
        },
        {
          "name": "stderr",
          "output_type": "stream",
          "text": [
            " 76%|███████▋  | 8401/11014 [1:07:39<21:03,  2.07it/s]"
          ]
        },
        {
          "name": "stdout",
          "output_type": "stream",
          "text": [
            "\n",
            " running loss:  tensor(1.7152, device='cuda:0', grad_fn=<MseLossBackward0>)\n"
          ]
        },
        {
          "name": "stderr",
          "output_type": "stream",
          "text": [
            " 77%|███████▋  | 8501/11014 [1:08:28<20:11,  2.07it/s]"
          ]
        },
        {
          "name": "stdout",
          "output_type": "stream",
          "text": [
            "\n",
            " running loss:  tensor(1.9684, device='cuda:0', grad_fn=<MseLossBackward0>)\n"
          ]
        },
        {
          "name": "stderr",
          "output_type": "stream",
          "text": [
            " 78%|███████▊  | 8601/11014 [1:09:16<19:21,  2.08it/s]"
          ]
        },
        {
          "name": "stdout",
          "output_type": "stream",
          "text": [
            "\n",
            " running loss:  tensor(1.4895, device='cuda:0', grad_fn=<MseLossBackward0>)\n"
          ]
        },
        {
          "name": "stderr",
          "output_type": "stream",
          "text": [
            " 79%|███████▉  | 8701/11014 [1:10:04<18:23,  2.10it/s]"
          ]
        },
        {
          "name": "stdout",
          "output_type": "stream",
          "text": [
            "\n",
            " running loss:  tensor(1.7849, device='cuda:0', grad_fn=<MseLossBackward0>)\n"
          ]
        },
        {
          "name": "stderr",
          "output_type": "stream",
          "text": [
            " 80%|███████▉  | 8801/11014 [1:10:53<17:52,  2.06it/s]"
          ]
        },
        {
          "name": "stdout",
          "output_type": "stream",
          "text": [
            "\n",
            " running loss:  tensor(1.9643, device='cuda:0', grad_fn=<MseLossBackward0>)\n"
          ]
        },
        {
          "name": "stderr",
          "output_type": "stream",
          "text": [
            " 81%|████████  | 8901/11014 [1:11:41<17:00,  2.07it/s]"
          ]
        },
        {
          "name": "stdout",
          "output_type": "stream",
          "text": [
            "\n",
            " running loss:  tensor(1.3465, device='cuda:0', grad_fn=<MseLossBackward0>)\n"
          ]
        },
        {
          "name": "stderr",
          "output_type": "stream",
          "text": [
            " 82%|████████▏ | 9001/11014 [1:12:29<16:13,  2.07it/s]"
          ]
        },
        {
          "name": "stdout",
          "output_type": "stream",
          "text": [
            "\n",
            " running loss:  tensor(1.7837, device='cuda:0', grad_fn=<MseLossBackward0>)\n"
          ]
        },
        {
          "name": "stderr",
          "output_type": "stream",
          "text": [
            " 83%|████████▎ | 9101/11014 [1:13:18<15:27,  2.06it/s]"
          ]
        },
        {
          "name": "stdout",
          "output_type": "stream",
          "text": [
            "\n",
            " running loss:  tensor(1.8542, device='cuda:0', grad_fn=<MseLossBackward0>)\n"
          ]
        },
        {
          "name": "stderr",
          "output_type": "stream",
          "text": [
            " 84%|████████▎ | 9201/11014 [1:14:06<14:37,  2.07it/s]"
          ]
        },
        {
          "name": "stdout",
          "output_type": "stream",
          "text": [
            "\n",
            " running loss:  tensor(1.8580, device='cuda:0', grad_fn=<MseLossBackward0>)\n"
          ]
        },
        {
          "name": "stderr",
          "output_type": "stream",
          "text": [
            " 84%|████████▍ | 9301/11014 [1:14:54<13:48,  2.07it/s]"
          ]
        },
        {
          "name": "stdout",
          "output_type": "stream",
          "text": [
            "\n",
            " running loss:  tensor(1.6430, device='cuda:0', grad_fn=<MseLossBackward0>)\n"
          ]
        },
        {
          "name": "stderr",
          "output_type": "stream",
          "text": [
            " 85%|████████▌ | 9401/11014 [1:15:43<12:59,  2.07it/s]"
          ]
        },
        {
          "name": "stdout",
          "output_type": "stream",
          "text": [
            "\n",
            " running loss:  tensor(2.0274, device='cuda:0', grad_fn=<MseLossBackward0>)\n"
          ]
        },
        {
          "name": "stderr",
          "output_type": "stream",
          "text": [
            " 86%|████████▋ | 9501/11014 [1:16:31<12:11,  2.07it/s]"
          ]
        },
        {
          "name": "stdout",
          "output_type": "stream",
          "text": [
            "\n",
            " running loss:  tensor(2.4449, device='cuda:0', grad_fn=<MseLossBackward0>)\n"
          ]
        },
        {
          "name": "stderr",
          "output_type": "stream",
          "text": [
            " 87%|████████▋ | 9601/11014 [1:17:19<11:22,  2.07it/s]"
          ]
        },
        {
          "name": "stdout",
          "output_type": "stream",
          "text": [
            "\n",
            " running loss:  tensor(1.7702, device='cuda:0', grad_fn=<MseLossBackward0>)\n"
          ]
        },
        {
          "name": "stderr",
          "output_type": "stream",
          "text": [
            " 88%|████████▊ | 9701/11014 [1:18:08<10:36,  2.06it/s]"
          ]
        },
        {
          "name": "stdout",
          "output_type": "stream",
          "text": [
            "\n",
            " running loss:  tensor(1.6508, device='cuda:0', grad_fn=<MseLossBackward0>)\n"
          ]
        },
        {
          "name": "stderr",
          "output_type": "stream",
          "text": [
            " 89%|████████▉ | 9801/11014 [1:18:56<09:44,  2.07it/s]"
          ]
        },
        {
          "name": "stdout",
          "output_type": "stream",
          "text": [
            "\n",
            " running loss:  tensor(1.8017, device='cuda:0', grad_fn=<MseLossBackward0>)\n"
          ]
        },
        {
          "name": "stderr",
          "output_type": "stream",
          "text": [
            " 90%|████████▉ | 9901/11014 [1:19:44<08:58,  2.07it/s]"
          ]
        },
        {
          "name": "stdout",
          "output_type": "stream",
          "text": [
            "\n",
            " running loss:  tensor(1.7894, device='cuda:0', grad_fn=<MseLossBackward0>)\n"
          ]
        },
        {
          "name": "stderr",
          "output_type": "stream",
          "text": [
            " 91%|█████████ | 10001/11014 [1:20:33<08:08,  2.07it/s]"
          ]
        },
        {
          "name": "stdout",
          "output_type": "stream",
          "text": [
            "\n",
            " running loss:  tensor(1.9509, device='cuda:0', grad_fn=<MseLossBackward0>)\n"
          ]
        },
        {
          "name": "stderr",
          "output_type": "stream",
          "text": [
            " 92%|█████████▏| 10101/11014 [1:21:21<07:19,  2.08it/s]"
          ]
        },
        {
          "name": "stdout",
          "output_type": "stream",
          "text": [
            "\n",
            " running loss:  tensor(1.7178, device='cuda:0', grad_fn=<MseLossBackward0>)\n"
          ]
        },
        {
          "name": "stderr",
          "output_type": "stream",
          "text": [
            " 93%|█████████▎| 10201/11014 [1:22:09<06:31,  2.08it/s]"
          ]
        },
        {
          "name": "stdout",
          "output_type": "stream",
          "text": [
            "\n",
            " running loss:  tensor(1.6705, device='cuda:0', grad_fn=<MseLossBackward0>)\n"
          ]
        },
        {
          "name": "stderr",
          "output_type": "stream",
          "text": [
            " 94%|█████████▎| 10301/11014 [1:22:57<05:44,  2.07it/s]"
          ]
        },
        {
          "name": "stdout",
          "output_type": "stream",
          "text": [
            "\n",
            " running loss:  tensor(1.3813, device='cuda:0', grad_fn=<MseLossBackward0>)\n"
          ]
        },
        {
          "name": "stderr",
          "output_type": "stream",
          "text": [
            " 94%|█████████▍| 10401/11014 [1:23:46<04:57,  2.06it/s]"
          ]
        },
        {
          "name": "stdout",
          "output_type": "stream",
          "text": [
            "\n",
            " running loss:  tensor(2.2102, device='cuda:0', grad_fn=<MseLossBackward0>)\n"
          ]
        },
        {
          "name": "stderr",
          "output_type": "stream",
          "text": [
            " 95%|█████████▌| 10501/11014 [1:24:34<04:08,  2.06it/s]"
          ]
        },
        {
          "name": "stdout",
          "output_type": "stream",
          "text": [
            "\n",
            " running loss:  tensor(1.8396, device='cuda:0', grad_fn=<MseLossBackward0>)\n"
          ]
        },
        {
          "name": "stderr",
          "output_type": "stream",
          "text": [
            " 96%|█████████▋| 10601/11014 [1:25:23<03:20,  2.06it/s]"
          ]
        },
        {
          "name": "stdout",
          "output_type": "stream",
          "text": [
            "\n",
            " running loss:  tensor(2.5245, device='cuda:0', grad_fn=<MseLossBackward0>)\n"
          ]
        },
        {
          "name": "stderr",
          "output_type": "stream",
          "text": [
            " 97%|█████████▋| 10701/11014 [1:26:11<02:31,  2.07it/s]"
          ]
        },
        {
          "name": "stdout",
          "output_type": "stream",
          "text": [
            "\n",
            " running loss:  tensor(1.6778, device='cuda:0', grad_fn=<MseLossBackward0>)\n"
          ]
        },
        {
          "name": "stderr",
          "output_type": "stream",
          "text": [
            " 98%|█████████▊| 10801/11014 [1:26:59<01:43,  2.07it/s]"
          ]
        },
        {
          "name": "stdout",
          "output_type": "stream",
          "text": [
            "\n",
            " running loss:  tensor(1.9160, device='cuda:0', grad_fn=<MseLossBackward0>)\n"
          ]
        },
        {
          "name": "stderr",
          "output_type": "stream",
          "text": [
            " 99%|█████████▉| 10901/11014 [1:27:48<00:54,  2.07it/s]"
          ]
        },
        {
          "name": "stdout",
          "output_type": "stream",
          "text": [
            "\n",
            " running loss:  tensor(1.8445, device='cuda:0', grad_fn=<MseLossBackward0>)\n"
          ]
        },
        {
          "name": "stderr",
          "output_type": "stream",
          "text": [
            "100%|█████████▉| 11001/11014 [1:28:36<00:06,  2.07it/s]"
          ]
        },
        {
          "name": "stdout",
          "output_type": "stream",
          "text": [
            "\n",
            " running loss:  tensor(2.0216, device='cuda:0', grad_fn=<MseLossBackward0>)\n"
          ]
        },
        {
          "name": "stderr",
          "output_type": "stream",
          "text": [
            "100%|██████████| 11014/11014 [1:28:43<00:00,  2.07it/s]\n",
            "  0%|          | 0/11014 [00:00<?, ?it/s]Truncation was not explicitly activated but `max_length` is provided a specific value, please use `truncation=True` to explicitly truncate examples to max length. Defaulting to 'longest_first' truncation strategy. If you encode pairs of sequences (GLUE-style) with the tokenizer you can select this strategy more precisely by providing a specific strategy to `truncation`.\n",
            "Truncation was not explicitly activated but `max_length` is provided a specific value, please use `truncation=True` to explicitly truncate examples to max length. Defaulting to 'longest_first' truncation strategy. If you encode pairs of sequences (GLUE-style) with the tokenizer you can select this strategy more precisely by providing a specific strategy to `truncation`.\n",
            "Truncation was not explicitly activated but `max_length` is provided a specific value, please use `truncation=True` to explicitly truncate examples to max length. Defaulting to 'longest_first' truncation strategy. If you encode pairs of sequences (GLUE-style) with the tokenizer you can select this strategy more precisely by providing a specific strategy to `truncation`.\n",
            "/opt/conda/lib/python3.8/site-packages/transformers/tokenization_utils_base.py:2339: FutureWarning: The `pad_to_max_length` argument is deprecated and will be removed in a future version, use `padding=True` or `padding='longest'` to pad to the longest sequence in the batch, or use `padding='max_length'` to pad to a max length. In this case, you can give a specific length with `max_length` (e.g. `max_length=45`) or leave max_length to None to pad to the maximal input size of the model (e.g. 512 for Bert).\n",
            "  warnings.warn(\n",
            "/opt/conda/lib/python3.8/site-packages/transformers/tokenization_utils_base.py:2339: FutureWarning: The `pad_to_max_length` argument is deprecated and will be removed in a future version, use `padding=True` or `padding='longest'` to pad to the longest sequence in the batch, or use `padding='max_length'` to pad to a max length. In this case, you can give a specific length with `max_length` (e.g. `max_length=45`) or leave max_length to None to pad to the maximal input size of the model (e.g. 512 for Bert).\n",
            "  warnings.warn(\n",
            "/opt/conda/lib/python3.8/site-packages/transformers/tokenization_utils_base.py:2339: FutureWarning: The `pad_to_max_length` argument is deprecated and will be removed in a future version, use `padding=True` or `padding='longest'` to pad to the longest sequence in the batch, or use `padding='max_length'` to pad to a max length. In this case, you can give a specific length with `max_length` (e.g. `max_length=45`) or leave max_length to None to pad to the maximal input size of the model (e.g. 512 for Bert).\n",
            "  warnings.warn(\n",
            "Truncation was not explicitly activated but `max_length` is provided a specific value, please use `truncation=True` to explicitly truncate examples to max length. Defaulting to 'longest_first' truncation strategy. If you encode pairs of sequences (GLUE-style) with the tokenizer you can select this strategy more precisely by providing a specific strategy to `truncation`.\n",
            "/opt/conda/lib/python3.8/site-packages/transformers/tokenization_utils_base.py:2339: FutureWarning: The `pad_to_max_length` argument is deprecated and will be removed in a future version, use `padding=True` or `padding='longest'` to pad to the longest sequence in the batch, or use `padding='max_length'` to pad to a max length. In this case, you can give a specific length with `max_length` (e.g. `max_length=45`) or leave max_length to None to pad to the maximal input size of the model (e.g. 512 for Bert).\n",
            "  warnings.warn(\n",
            "100%|██████████| 11014/11014 [30:06<00:00,  6.10it/s]\n"
          ]
        },
        {
          "name": "stdout",
          "output_type": "stream",
          "text": [
            "ndcg: 0.9686173710873676\n"
          ]
        },
        {
          "name": "stderr",
          "output_type": "stream",
          "text": [
            "  0%|          | 0/11014 [00:00<?, ?it/s]Truncation was not explicitly activated but `max_length` is provided a specific value, please use `truncation=True` to explicitly truncate examples to max length. Defaulting to 'longest_first' truncation strategy. If you encode pairs of sequences (GLUE-style) with the tokenizer you can select this strategy more precisely by providing a specific strategy to `truncation`.\n",
            "Truncation was not explicitly activated but `max_length` is provided a specific value, please use `truncation=True` to explicitly truncate examples to max length. Defaulting to 'longest_first' truncation strategy. If you encode pairs of sequences (GLUE-style) with the tokenizer you can select this strategy more precisely by providing a specific strategy to `truncation`.\n",
            "Truncation was not explicitly activated but `max_length` is provided a specific value, please use `truncation=True` to explicitly truncate examples to max length. Defaulting to 'longest_first' truncation strategy. If you encode pairs of sequences (GLUE-style) with the tokenizer you can select this strategy more precisely by providing a specific strategy to `truncation`.\n",
            "/opt/conda/lib/python3.8/site-packages/transformers/tokenization_utils_base.py:2339: FutureWarning: The `pad_to_max_length` argument is deprecated and will be removed in a future version, use `padding=True` or `padding='longest'` to pad to the longest sequence in the batch, or use `padding='max_length'` to pad to a max length. In this case, you can give a specific length with `max_length` (e.g. `max_length=45`) or leave max_length to None to pad to the maximal input size of the model (e.g. 512 for Bert).\n",
            "  warnings.warn(\n",
            "Truncation was not explicitly activated but `max_length` is provided a specific value, please use `truncation=True` to explicitly truncate examples to max length. Defaulting to 'longest_first' truncation strategy. If you encode pairs of sequences (GLUE-style) with the tokenizer you can select this strategy more precisely by providing a specific strategy to `truncation`.\n",
            "/opt/conda/lib/python3.8/site-packages/transformers/tokenization_utils_base.py:2339: FutureWarning: The `pad_to_max_length` argument is deprecated and will be removed in a future version, use `padding=True` or `padding='longest'` to pad to the longest sequence in the batch, or use `padding='max_length'` to pad to a max length. In this case, you can give a specific length with `max_length` (e.g. `max_length=45`) or leave max_length to None to pad to the maximal input size of the model (e.g. 512 for Bert).\n",
            "  warnings.warn(\n",
            "/opt/conda/lib/python3.8/site-packages/transformers/tokenization_utils_base.py:2339: FutureWarning: The `pad_to_max_length` argument is deprecated and will be removed in a future version, use `padding=True` or `padding='longest'` to pad to the longest sequence in the batch, or use `padding='max_length'` to pad to a max length. In this case, you can give a specific length with `max_length` (e.g. `max_length=45`) or leave max_length to None to pad to the maximal input size of the model (e.g. 512 for Bert).\n",
            "  warnings.warn(\n",
            "/opt/conda/lib/python3.8/site-packages/transformers/tokenization_utils_base.py:2339: FutureWarning: The `pad_to_max_length` argument is deprecated and will be removed in a future version, use `padding=True` or `padding='longest'` to pad to the longest sequence in the batch, or use `padding='max_length'` to pad to a max length. In this case, you can give a specific length with `max_length` (e.g. `max_length=45`) or leave max_length to None to pad to the maximal input size of the model (e.g. 512 for Bert).\n",
            "  warnings.warn(\n",
            "  0%|          | 1/11014 [00:00<2:06:04,  1.46it/s]"
          ]
        },
        {
          "name": "stdout",
          "output_type": "stream",
          "text": [
            "\n",
            " running loss:  tensor(1.3940, device='cuda:0', grad_fn=<MseLossBackward0>)\n"
          ]
        },
        {
          "name": "stderr",
          "output_type": "stream",
          "text": [
            "  1%|          | 101/11014 [00:49<1:27:50,  2.07it/s]"
          ]
        },
        {
          "name": "stdout",
          "output_type": "stream",
          "text": [
            "\n",
            " running loss:  tensor(1.5872, device='cuda:0', grad_fn=<MseLossBackward0>)\n"
          ]
        },
        {
          "name": "stderr",
          "output_type": "stream",
          "text": [
            "  2%|▏         | 201/11014 [01:37<1:27:12,  2.07it/s]"
          ]
        },
        {
          "name": "stdout",
          "output_type": "stream",
          "text": [
            "\n",
            " running loss:  tensor(1.9847, device='cuda:0', grad_fn=<MseLossBackward0>)\n"
          ]
        },
        {
          "name": "stderr",
          "output_type": "stream",
          "text": [
            "  3%|▎         | 301/11014 [02:25<1:26:17,  2.07it/s]"
          ]
        },
        {
          "name": "stdout",
          "output_type": "stream",
          "text": [
            "\n",
            " running loss:  tensor(1.4283, device='cuda:0', grad_fn=<MseLossBackward0>)\n"
          ]
        },
        {
          "name": "stderr",
          "output_type": "stream",
          "text": [
            "  4%|▎         | 401/11014 [03:14<1:25:25,  2.07it/s]"
          ]
        },
        {
          "name": "stdout",
          "output_type": "stream",
          "text": [
            "\n",
            " running loss:  tensor(2.1965, device='cuda:0', grad_fn=<MseLossBackward0>)\n"
          ]
        },
        {
          "name": "stderr",
          "output_type": "stream",
          "text": [
            "  5%|▍         | 501/11014 [04:02<1:24:50,  2.07it/s]"
          ]
        },
        {
          "name": "stdout",
          "output_type": "stream",
          "text": [
            "\n",
            " running loss:  tensor(2.0873, device='cuda:0', grad_fn=<MseLossBackward0>)\n"
          ]
        },
        {
          "name": "stderr",
          "output_type": "stream",
          "text": [
            "  5%|▌         | 601/11014 [04:51<1:23:37,  2.08it/s]"
          ]
        },
        {
          "name": "stdout",
          "output_type": "stream",
          "text": [
            "\n",
            " running loss:  tensor(1.5176, device='cuda:0', grad_fn=<MseLossBackward0>)\n"
          ]
        },
        {
          "name": "stderr",
          "output_type": "stream",
          "text": [
            "  6%|▋         | 701/11014 [05:39<1:22:54,  2.07it/s]"
          ]
        },
        {
          "name": "stdout",
          "output_type": "stream",
          "text": [
            "\n",
            " running loss:  tensor(1.9662, device='cuda:0', grad_fn=<MseLossBackward0>)\n"
          ]
        },
        {
          "name": "stderr",
          "output_type": "stream",
          "text": [
            "  7%|▋         | 801/11014 [06:27<1:22:06,  2.07it/s]"
          ]
        },
        {
          "name": "stdout",
          "output_type": "stream",
          "text": [
            "\n",
            " running loss:  tensor(1.1852, device='cuda:0', grad_fn=<MseLossBackward0>)\n"
          ]
        },
        {
          "name": "stderr",
          "output_type": "stream",
          "text": [
            "  8%|▊         | 901/11014 [07:15<1:21:08,  2.08it/s]"
          ]
        },
        {
          "name": "stdout",
          "output_type": "stream",
          "text": [
            "\n",
            " running loss:  tensor(1.3509, device='cuda:0', grad_fn=<MseLossBackward0>)\n"
          ]
        },
        {
          "name": "stderr",
          "output_type": "stream",
          "text": [
            "  9%|▉         | 1001/11014 [08:04<1:20:53,  2.06it/s]"
          ]
        },
        {
          "name": "stdout",
          "output_type": "stream",
          "text": [
            "\n",
            " running loss:  tensor(2.0395, device='cuda:0', grad_fn=<MseLossBackward0>)\n"
          ]
        },
        {
          "name": "stderr",
          "output_type": "stream",
          "text": [
            " 10%|▉         | 1101/11014 [08:52<1:19:50,  2.07it/s]"
          ]
        },
        {
          "name": "stdout",
          "output_type": "stream",
          "text": [
            "\n",
            " running loss:  tensor(2.0672, device='cuda:0', grad_fn=<MseLossBackward0>)\n"
          ]
        },
        {
          "name": "stderr",
          "output_type": "stream",
          "text": [
            " 11%|█         | 1201/11014 [09:40<1:18:55,  2.07it/s]"
          ]
        },
        {
          "name": "stdout",
          "output_type": "stream",
          "text": [
            "\n",
            " running loss:  tensor(1.2714, device='cuda:0', grad_fn=<MseLossBackward0>)\n"
          ]
        },
        {
          "name": "stderr",
          "output_type": "stream",
          "text": [
            " 12%|█▏        | 1301/11014 [10:29<1:18:17,  2.07it/s]"
          ]
        },
        {
          "name": "stdout",
          "output_type": "stream",
          "text": [
            "\n",
            " running loss:  tensor(1.8603, device='cuda:0', grad_fn=<MseLossBackward0>)\n"
          ]
        },
        {
          "name": "stderr",
          "output_type": "stream",
          "text": [
            " 13%|█▎        | 1401/11014 [11:17<1:17:42,  2.06it/s]"
          ]
        },
        {
          "name": "stdout",
          "output_type": "stream",
          "text": [
            "\n",
            " running loss:  tensor(2.1345, device='cuda:0', grad_fn=<MseLossBackward0>)\n"
          ]
        },
        {
          "name": "stderr",
          "output_type": "stream",
          "text": [
            " 14%|█▎        | 1501/11014 [12:05<1:16:51,  2.06it/s]"
          ]
        },
        {
          "name": "stdout",
          "output_type": "stream",
          "text": [
            "\n",
            " running loss:  tensor(1.9252, device='cuda:0', grad_fn=<MseLossBackward0>)\n"
          ]
        },
        {
          "name": "stderr",
          "output_type": "stream",
          "text": [
            " 15%|█▍        | 1601/11014 [12:54<1:15:58,  2.06it/s]"
          ]
        },
        {
          "name": "stdout",
          "output_type": "stream",
          "text": [
            "\n",
            " running loss:  tensor(1.3613, device='cuda:0', grad_fn=<MseLossBackward0>)\n"
          ]
        },
        {
          "name": "stderr",
          "output_type": "stream",
          "text": [
            " 15%|█▌        | 1701/11014 [13:42<1:14:59,  2.07it/s]"
          ]
        },
        {
          "name": "stdout",
          "output_type": "stream",
          "text": [
            "\n",
            " running loss:  tensor(1.9098, device='cuda:0', grad_fn=<MseLossBackward0>)\n"
          ]
        },
        {
          "name": "stderr",
          "output_type": "stream",
          "text": [
            " 16%|█▋        | 1801/11014 [14:31<1:14:19,  2.07it/s]"
          ]
        },
        {
          "name": "stdout",
          "output_type": "stream",
          "text": [
            "\n",
            " running loss:  tensor(1.1803, device='cuda:0', grad_fn=<MseLossBackward0>)\n"
          ]
        },
        {
          "name": "stderr",
          "output_type": "stream",
          "text": [
            " 17%|█▋        | 1901/11014 [15:19<1:13:40,  2.06it/s]"
          ]
        },
        {
          "name": "stdout",
          "output_type": "stream",
          "text": [
            "\n",
            " running loss:  tensor(1.6847, device='cuda:0', grad_fn=<MseLossBackward0>)\n"
          ]
        },
        {
          "name": "stderr",
          "output_type": "stream",
          "text": [
            " 18%|█▊        | 2001/11014 [16:07<1:12:08,  2.08it/s]"
          ]
        },
        {
          "name": "stdout",
          "output_type": "stream",
          "text": [
            "\n",
            " running loss:  tensor(1.8370, device='cuda:0', grad_fn=<MseLossBackward0>)\n"
          ]
        },
        {
          "name": "stderr",
          "output_type": "stream",
          "text": [
            " 19%|█▉        | 2101/11014 [16:56<1:11:53,  2.07it/s]"
          ]
        },
        {
          "name": "stdout",
          "output_type": "stream",
          "text": [
            "\n",
            " running loss:  tensor(1.8555, device='cuda:0', grad_fn=<MseLossBackward0>)\n"
          ]
        },
        {
          "name": "stderr",
          "output_type": "stream",
          "text": [
            " 20%|█▉        | 2201/11014 [17:44<1:11:10,  2.06it/s]"
          ]
        },
        {
          "name": "stdout",
          "output_type": "stream",
          "text": [
            "\n",
            " running loss:  tensor(1.8896, device='cuda:0', grad_fn=<MseLossBackward0>)\n"
          ]
        },
        {
          "name": "stderr",
          "output_type": "stream",
          "text": [
            " 21%|██        | 2301/11014 [18:32<1:10:19,  2.07it/s]"
          ]
        },
        {
          "name": "stdout",
          "output_type": "stream",
          "text": [
            "\n",
            " running loss:  tensor(1.8880, device='cuda:0', grad_fn=<MseLossBackward0>)\n"
          ]
        },
        {
          "name": "stderr",
          "output_type": "stream",
          "text": [
            " 22%|██▏       | 2401/11014 [19:21<1:09:31,  2.06it/s]"
          ]
        },
        {
          "name": "stdout",
          "output_type": "stream",
          "text": [
            "\n",
            " running loss:  tensor(1.3769, device='cuda:0', grad_fn=<MseLossBackward0>)\n"
          ]
        },
        {
          "name": "stderr",
          "output_type": "stream",
          "text": [
            " 23%|██▎       | 2501/11014 [20:09<1:08:52,  2.06it/s]"
          ]
        },
        {
          "name": "stdout",
          "output_type": "stream",
          "text": [
            "\n",
            " running loss:  tensor(2.2602, device='cuda:0', grad_fn=<MseLossBackward0>)\n"
          ]
        },
        {
          "name": "stderr",
          "output_type": "stream",
          "text": [
            " 24%|██▎       | 2601/11014 [20:58<1:07:58,  2.06it/s]"
          ]
        },
        {
          "name": "stdout",
          "output_type": "stream",
          "text": [
            "\n",
            " running loss:  tensor(1.2634, device='cuda:0', grad_fn=<MseLossBackward0>)\n"
          ]
        },
        {
          "name": "stderr",
          "output_type": "stream",
          "text": [
            " 25%|██▍       | 2701/11014 [21:46<1:06:44,  2.08it/s]"
          ]
        },
        {
          "name": "stdout",
          "output_type": "stream",
          "text": [
            "\n",
            " running loss:  tensor(2.0414, device='cuda:0', grad_fn=<MseLossBackward0>)\n"
          ]
        },
        {
          "name": "stderr",
          "output_type": "stream",
          "text": [
            " 25%|██▌       | 2801/11014 [22:34<1:05:59,  2.07it/s]"
          ]
        },
        {
          "name": "stdout",
          "output_type": "stream",
          "text": [
            "\n",
            " running loss:  tensor(2.0922, device='cuda:0', grad_fn=<MseLossBackward0>)\n"
          ]
        },
        {
          "name": "stderr",
          "output_type": "stream",
          "text": [
            " 26%|██▋       | 2901/11014 [23:23<1:05:36,  2.06it/s]"
          ]
        },
        {
          "name": "stdout",
          "output_type": "stream",
          "text": [
            "\n",
            " running loss:  tensor(1.7313, device='cuda:0', grad_fn=<MseLossBackward0>)\n"
          ]
        },
        {
          "name": "stderr",
          "output_type": "stream",
          "text": [
            " 27%|██▋       | 3001/11014 [24:11<1:04:33,  2.07it/s]"
          ]
        },
        {
          "name": "stdout",
          "output_type": "stream",
          "text": [
            "\n",
            " running loss:  tensor(2.3871, device='cuda:0', grad_fn=<MseLossBackward0>)\n"
          ]
        },
        {
          "name": "stderr",
          "output_type": "stream",
          "text": [
            " 28%|██▊       | 3101/11014 [24:59<1:03:50,  2.07it/s]"
          ]
        },
        {
          "name": "stdout",
          "output_type": "stream",
          "text": [
            "\n",
            " running loss:  tensor(1.8506, device='cuda:0', grad_fn=<MseLossBackward0>)\n"
          ]
        },
        {
          "name": "stderr",
          "output_type": "stream",
          "text": [
            " 29%|██▉       | 3201/11014 [25:48<1:03:13,  2.06it/s]"
          ]
        },
        {
          "name": "stdout",
          "output_type": "stream",
          "text": [
            "\n",
            " running loss:  tensor(1.3628, device='cuda:0', grad_fn=<MseLossBackward0>)\n"
          ]
        },
        {
          "name": "stderr",
          "output_type": "stream",
          "text": [
            " 30%|██▉       | 3301/11014 [26:36<1:02:10,  2.07it/s]"
          ]
        },
        {
          "name": "stdout",
          "output_type": "stream",
          "text": [
            "\n",
            " running loss:  tensor(1.7948, device='cuda:0', grad_fn=<MseLossBackward0>)\n"
          ]
        },
        {
          "name": "stderr",
          "output_type": "stream",
          "text": [
            " 31%|███       | 3401/11014 [27:24<1:01:14,  2.07it/s]"
          ]
        },
        {
          "name": "stdout",
          "output_type": "stream",
          "text": [
            "\n",
            " running loss:  tensor(1.9859, device='cuda:0', grad_fn=<MseLossBackward0>)\n"
          ]
        },
        {
          "name": "stderr",
          "output_type": "stream",
          "text": [
            " 32%|███▏      | 3501/11014 [28:13<1:00:29,  2.07it/s]"
          ]
        },
        {
          "name": "stdout",
          "output_type": "stream",
          "text": [
            "\n",
            " running loss:  tensor(2.0132, device='cuda:0', grad_fn=<MseLossBackward0>)\n"
          ]
        },
        {
          "name": "stderr",
          "output_type": "stream",
          "text": [
            " 33%|███▎      | 3601/11014 [29:01<59:37,  2.07it/s]  "
          ]
        },
        {
          "name": "stdout",
          "output_type": "stream",
          "text": [
            "\n",
            " running loss:  tensor(1.7024, device='cuda:0', grad_fn=<MseLossBackward0>)\n"
          ]
        },
        {
          "name": "stderr",
          "output_type": "stream",
          "text": [
            " 34%|███▎      | 3701/11014 [29:49<58:53,  2.07it/s]"
          ]
        },
        {
          "name": "stdout",
          "output_type": "stream",
          "text": [
            "\n",
            " running loss:  tensor(1.3453, device='cuda:0', grad_fn=<MseLossBackward0>)\n"
          ]
        },
        {
          "name": "stderr",
          "output_type": "stream",
          "text": [
            " 35%|███▍      | 3801/11014 [30:38<58:06,  2.07it/s]"
          ]
        },
        {
          "name": "stdout",
          "output_type": "stream",
          "text": [
            "\n",
            " running loss:  tensor(1.4788, device='cuda:0', grad_fn=<MseLossBackward0>)\n"
          ]
        },
        {
          "name": "stderr",
          "output_type": "stream",
          "text": [
            " 35%|███▌      | 3901/11014 [31:26<57:21,  2.07it/s]"
          ]
        },
        {
          "name": "stdout",
          "output_type": "stream",
          "text": [
            "\n",
            " running loss:  tensor(2.3272, device='cuda:0', grad_fn=<MseLossBackward0>)\n"
          ]
        },
        {
          "name": "stderr",
          "output_type": "stream",
          "text": [
            " 36%|███▋      | 4001/11014 [32:14<56:37,  2.06it/s]"
          ]
        },
        {
          "name": "stdout",
          "output_type": "stream",
          "text": [
            "\n",
            " running loss:  tensor(1.9740, device='cuda:0', grad_fn=<MseLossBackward0>)\n"
          ]
        },
        {
          "name": "stderr",
          "output_type": "stream",
          "text": [
            " 37%|███▋      | 4101/11014 [33:02<55:57,  2.06it/s]"
          ]
        },
        {
          "name": "stdout",
          "output_type": "stream",
          "text": [
            "\n",
            " running loss:  tensor(1.9881, device='cuda:0', grad_fn=<MseLossBackward0>)\n"
          ]
        },
        {
          "name": "stderr",
          "output_type": "stream",
          "text": [
            " 38%|███▊      | 4201/11014 [33:51<55:04,  2.06it/s]"
          ]
        },
        {
          "name": "stdout",
          "output_type": "stream",
          "text": [
            "\n",
            " running loss:  tensor(2.1381, device='cuda:0', grad_fn=<MseLossBackward0>)\n"
          ]
        },
        {
          "name": "stderr",
          "output_type": "stream",
          "text": [
            " 39%|███▉      | 4301/11014 [34:39<54:09,  2.07it/s]"
          ]
        },
        {
          "name": "stdout",
          "output_type": "stream",
          "text": [
            "\n",
            " running loss:  tensor(1.9045, device='cuda:0', grad_fn=<MseLossBackward0>)\n"
          ]
        },
        {
          "name": "stderr",
          "output_type": "stream",
          "text": [
            " 40%|███▉      | 4401/11014 [35:28<53:18,  2.07it/s]"
          ]
        },
        {
          "name": "stdout",
          "output_type": "stream",
          "text": [
            "\n",
            " running loss:  tensor(1.3881, device='cuda:0', grad_fn=<MseLossBackward0>)\n"
          ]
        },
        {
          "name": "stderr",
          "output_type": "stream",
          "text": [
            " 41%|████      | 4501/11014 [36:16<52:07,  2.08it/s]"
          ]
        },
        {
          "name": "stdout",
          "output_type": "stream",
          "text": [
            "\n",
            " running loss:  tensor(1.6611, device='cuda:0', grad_fn=<MseLossBackward0>)\n"
          ]
        },
        {
          "name": "stderr",
          "output_type": "stream",
          "text": [
            " 42%|████▏     | 4601/11014 [37:04<51:48,  2.06it/s]"
          ]
        },
        {
          "name": "stdout",
          "output_type": "stream",
          "text": [
            "\n",
            " running loss:  tensor(1.7388, device='cuda:0', grad_fn=<MseLossBackward0>)\n"
          ]
        },
        {
          "name": "stderr",
          "output_type": "stream",
          "text": [
            " 43%|████▎     | 4701/11014 [37:53<50:39,  2.08it/s]"
          ]
        },
        {
          "name": "stdout",
          "output_type": "stream",
          "text": [
            "\n",
            " running loss:  tensor(1.2748, device='cuda:0', grad_fn=<MseLossBackward0>)\n"
          ]
        },
        {
          "name": "stderr",
          "output_type": "stream",
          "text": [
            " 44%|████▎     | 4801/11014 [38:41<49:41,  2.08it/s]"
          ]
        },
        {
          "name": "stdout",
          "output_type": "stream",
          "text": [
            "\n",
            " running loss:  tensor(1.4476, device='cuda:0', grad_fn=<MseLossBackward0>)\n"
          ]
        },
        {
          "name": "stderr",
          "output_type": "stream",
          "text": [
            " 44%|████▍     | 4901/11014 [39:29<49:39,  2.05it/s]"
          ]
        },
        {
          "name": "stdout",
          "output_type": "stream",
          "text": [
            "\n",
            " running loss:  tensor(1.7164, device='cuda:0', grad_fn=<MseLossBackward0>)\n"
          ]
        },
        {
          "name": "stderr",
          "output_type": "stream",
          "text": [
            " 45%|████▌     | 5001/11014 [40:17<48:07,  2.08it/s]"
          ]
        },
        {
          "name": "stdout",
          "output_type": "stream",
          "text": [
            "\n",
            " running loss:  tensor(1.9298, device='cuda:0', grad_fn=<MseLossBackward0>)\n"
          ]
        },
        {
          "name": "stderr",
          "output_type": "stream",
          "text": [
            " 46%|████▋     | 5101/11014 [41:05<47:17,  2.08it/s]"
          ]
        },
        {
          "name": "stdout",
          "output_type": "stream",
          "text": [
            "\n",
            " running loss:  tensor(1.7833, device='cuda:0', grad_fn=<MseLossBackward0>)\n"
          ]
        },
        {
          "name": "stderr",
          "output_type": "stream",
          "text": [
            " 47%|████▋     | 5201/11014 [41:53<46:29,  2.08it/s]"
          ]
        },
        {
          "name": "stdout",
          "output_type": "stream",
          "text": [
            "\n",
            " running loss:  tensor(1.7477, device='cuda:0', grad_fn=<MseLossBackward0>)\n"
          ]
        },
        {
          "name": "stderr",
          "output_type": "stream",
          "text": [
            " 48%|████▊     | 5301/11014 [42:41<45:36,  2.09it/s]"
          ]
        },
        {
          "name": "stdout",
          "output_type": "stream",
          "text": [
            "\n",
            " running loss:  tensor(1.3085, device='cuda:0', grad_fn=<MseLossBackward0>)\n"
          ]
        },
        {
          "name": "stderr",
          "output_type": "stream",
          "text": [
            " 49%|████▉     | 5401/11014 [43:29<45:11,  2.07it/s]"
          ]
        },
        {
          "name": "stdout",
          "output_type": "stream",
          "text": [
            "\n",
            " running loss:  tensor(1.6312, device='cuda:0', grad_fn=<MseLossBackward0>)\n"
          ]
        },
        {
          "name": "stderr",
          "output_type": "stream",
          "text": [
            " 50%|████▉     | 5501/11014 [44:17<44:04,  2.08it/s]"
          ]
        },
        {
          "name": "stdout",
          "output_type": "stream",
          "text": [
            "\n",
            " running loss:  tensor(1.5954, device='cuda:0', grad_fn=<MseLossBackward0>)\n"
          ]
        },
        {
          "name": "stderr",
          "output_type": "stream",
          "text": [
            " 51%|█████     | 5601/11014 [45:05<43:14,  2.09it/s]"
          ]
        },
        {
          "name": "stdout",
          "output_type": "stream",
          "text": [
            "\n",
            " running loss:  tensor(2.6928, device='cuda:0', grad_fn=<MseLossBackward0>)\n"
          ]
        },
        {
          "name": "stderr",
          "output_type": "stream",
          "text": [
            " 52%|█████▏    | 5701/11014 [45:53<42:25,  2.09it/s]"
          ]
        },
        {
          "name": "stdout",
          "output_type": "stream",
          "text": [
            "\n",
            " running loss:  tensor(1.7413, device='cuda:0', grad_fn=<MseLossBackward0>)\n"
          ]
        },
        {
          "name": "stderr",
          "output_type": "stream",
          "text": [
            " 53%|█████▎    | 5801/11014 [46:42<42:12,  2.06it/s]"
          ]
        },
        {
          "name": "stdout",
          "output_type": "stream",
          "text": [
            "\n",
            " running loss:  tensor(2.0129, device='cuda:0', grad_fn=<MseLossBackward0>)\n"
          ]
        },
        {
          "name": "stderr",
          "output_type": "stream",
          "text": [
            " 54%|█████▎    | 5901/11014 [47:30<40:52,  2.08it/s]"
          ]
        },
        {
          "name": "stdout",
          "output_type": "stream",
          "text": [
            "\n",
            " running loss:  tensor(2.0232, device='cuda:0', grad_fn=<MseLossBackward0>)\n"
          ]
        },
        {
          "name": "stderr",
          "output_type": "stream",
          "text": [
            " 54%|█████▍    | 6001/11014 [48:18<40:31,  2.06it/s]"
          ]
        },
        {
          "name": "stdout",
          "output_type": "stream",
          "text": [
            "\n",
            " running loss:  tensor(1.9443, device='cuda:0', grad_fn=<MseLossBackward0>)\n"
          ]
        },
        {
          "name": "stderr",
          "output_type": "stream",
          "text": [
            " 55%|█████▌    | 6101/11014 [49:06<39:35,  2.07it/s]"
          ]
        },
        {
          "name": "stdout",
          "output_type": "stream",
          "text": [
            "\n",
            " running loss:  tensor(2.1455, device='cuda:0', grad_fn=<MseLossBackward0>)\n"
          ]
        },
        {
          "name": "stderr",
          "output_type": "stream",
          "text": [
            " 56%|█████▋    | 6201/11014 [49:55<38:46,  2.07it/s]"
          ]
        },
        {
          "name": "stdout",
          "output_type": "stream",
          "text": [
            "\n",
            " running loss:  tensor(2.3566, device='cuda:0', grad_fn=<MseLossBackward0>)\n"
          ]
        },
        {
          "name": "stderr",
          "output_type": "stream",
          "text": [
            " 57%|█████▋    | 6301/11014 [50:43<37:52,  2.07it/s]"
          ]
        },
        {
          "name": "stdout",
          "output_type": "stream",
          "text": [
            "\n",
            " running loss:  tensor(1.9766, device='cuda:0', grad_fn=<MseLossBackward0>)\n"
          ]
        },
        {
          "name": "stderr",
          "output_type": "stream",
          "text": [
            " 58%|█████▊    | 6401/11014 [51:31<37:04,  2.07it/s]"
          ]
        },
        {
          "name": "stdout",
          "output_type": "stream",
          "text": [
            "\n",
            " running loss:  tensor(1.4610, device='cuda:0', grad_fn=<MseLossBackward0>)\n"
          ]
        },
        {
          "name": "stderr",
          "output_type": "stream",
          "text": [
            " 59%|█████▉    | 6501/11014 [52:19<36:18,  2.07it/s]"
          ]
        },
        {
          "name": "stdout",
          "output_type": "stream",
          "text": [
            "\n",
            " running loss:  tensor(1.8753, device='cuda:0', grad_fn=<MseLossBackward0>)\n"
          ]
        },
        {
          "name": "stderr",
          "output_type": "stream",
          "text": [
            " 60%|█████▉    | 6601/11014 [53:08<35:36,  2.07it/s]"
          ]
        },
        {
          "name": "stdout",
          "output_type": "stream",
          "text": [
            "\n",
            " running loss:  tensor(1.9506, device='cuda:0', grad_fn=<MseLossBackward0>)\n"
          ]
        },
        {
          "name": "stderr",
          "output_type": "stream",
          "text": [
            " 61%|██████    | 6701/11014 [53:56<34:39,  2.07it/s]"
          ]
        },
        {
          "name": "stdout",
          "output_type": "stream",
          "text": [
            "\n",
            " running loss:  tensor(2.2455, device='cuda:0', grad_fn=<MseLossBackward0>)\n"
          ]
        },
        {
          "name": "stderr",
          "output_type": "stream",
          "text": [
            " 62%|██████▏   | 6801/11014 [54:44<33:55,  2.07it/s]"
          ]
        },
        {
          "name": "stdout",
          "output_type": "stream",
          "text": [
            "\n",
            " running loss:  tensor(1.7793, device='cuda:0', grad_fn=<MseLossBackward0>)\n"
          ]
        },
        {
          "name": "stderr",
          "output_type": "stream",
          "text": [
            " 63%|██████▎   | 6901/11014 [55:33<33:02,  2.07it/s]"
          ]
        },
        {
          "name": "stdout",
          "output_type": "stream",
          "text": [
            "\n",
            " running loss:  tensor(2.2515, device='cuda:0', grad_fn=<MseLossBackward0>)\n"
          ]
        },
        {
          "name": "stderr",
          "output_type": "stream",
          "text": [
            " 64%|██████▎   | 7001/11014 [56:21<32:15,  2.07it/s]"
          ]
        },
        {
          "name": "stdout",
          "output_type": "stream",
          "text": [
            "\n",
            " running loss:  tensor(1.7168, device='cuda:0', grad_fn=<MseLossBackward0>)\n"
          ]
        },
        {
          "name": "stderr",
          "output_type": "stream",
          "text": [
            " 64%|██████▍   | 7101/11014 [57:09<31:20,  2.08it/s]"
          ]
        },
        {
          "name": "stdout",
          "output_type": "stream",
          "text": [
            "\n",
            " running loss:  tensor(1.4410, device='cuda:0', grad_fn=<MseLossBackward0>)\n"
          ]
        },
        {
          "name": "stderr",
          "output_type": "stream",
          "text": [
            " 65%|██████▌   | 7201/11014 [57:57<30:38,  2.07it/s]"
          ]
        },
        {
          "name": "stdout",
          "output_type": "stream",
          "text": [
            "\n",
            " running loss:  tensor(1.5857, device='cuda:0', grad_fn=<MseLossBackward0>)\n"
          ]
        },
        {
          "name": "stderr",
          "output_type": "stream",
          "text": [
            " 66%|██████▋   | 7301/11014 [58:46<29:49,  2.08it/s]"
          ]
        },
        {
          "name": "stdout",
          "output_type": "stream",
          "text": [
            "\n",
            " running loss:  tensor(1.7045, device='cuda:0', grad_fn=<MseLossBackward0>)\n"
          ]
        },
        {
          "name": "stderr",
          "output_type": "stream",
          "text": [
            " 67%|██████▋   | 7401/11014 [59:34<29:01,  2.07it/s]"
          ]
        },
        {
          "name": "stdout",
          "output_type": "stream",
          "text": [
            "\n",
            " running loss:  tensor(1.6085, device='cuda:0', grad_fn=<MseLossBackward0>)\n"
          ]
        },
        {
          "name": "stderr",
          "output_type": "stream",
          "text": [
            " 68%|██████▊   | 7501/11014 [1:00:22<28:18,  2.07it/s]"
          ]
        },
        {
          "name": "stdout",
          "output_type": "stream",
          "text": [
            "\n",
            " running loss:  tensor(1.8877, device='cuda:0', grad_fn=<MseLossBackward0>)\n"
          ]
        },
        {
          "name": "stderr",
          "output_type": "stream",
          "text": [
            " 69%|██████▉   | 7601/11014 [1:01:11<27:23,  2.08it/s]"
          ]
        },
        {
          "name": "stdout",
          "output_type": "stream",
          "text": [
            "\n",
            " running loss:  tensor(2.0356, device='cuda:0', grad_fn=<MseLossBackward0>)\n"
          ]
        },
        {
          "name": "stderr",
          "output_type": "stream",
          "text": [
            " 70%|██████▉   | 7701/11014 [1:01:59<26:28,  2.09it/s]"
          ]
        },
        {
          "name": "stdout",
          "output_type": "stream",
          "text": [
            "\n",
            " running loss:  tensor(1.8258, device='cuda:0', grad_fn=<MseLossBackward0>)\n"
          ]
        },
        {
          "name": "stderr",
          "output_type": "stream",
          "text": [
            " 71%|███████   | 7801/11014 [1:02:47<25:55,  2.07it/s]"
          ]
        },
        {
          "name": "stdout",
          "output_type": "stream",
          "text": [
            "\n",
            " running loss:  tensor(1.8965, device='cuda:0', grad_fn=<MseLossBackward0>)\n"
          ]
        },
        {
          "name": "stderr",
          "output_type": "stream",
          "text": [
            " 72%|███████▏  | 7901/11014 [1:03:35<24:56,  2.08it/s]"
          ]
        },
        {
          "name": "stdout",
          "output_type": "stream",
          "text": [
            "\n",
            " running loss:  tensor(1.6899, device='cuda:0', grad_fn=<MseLossBackward0>)\n"
          ]
        },
        {
          "name": "stderr",
          "output_type": "stream",
          "text": [
            " 73%|███████▎  | 8001/11014 [1:04:23<24:16,  2.07it/s]"
          ]
        },
        {
          "name": "stdout",
          "output_type": "stream",
          "text": [
            "\n",
            " running loss:  tensor(1.4971, device='cuda:0', grad_fn=<MseLossBackward0>)\n"
          ]
        },
        {
          "name": "stderr",
          "output_type": "stream",
          "text": [
            " 74%|███████▎  | 8101/11014 [1:05:12<23:24,  2.07it/s]"
          ]
        },
        {
          "name": "stdout",
          "output_type": "stream",
          "text": [
            "\n",
            " running loss:  tensor(2.0289, device='cuda:0', grad_fn=<MseLossBackward0>)\n"
          ]
        },
        {
          "name": "stderr",
          "output_type": "stream",
          "text": [
            " 74%|███████▍  | 8201/11014 [1:06:00<22:36,  2.07it/s]"
          ]
        },
        {
          "name": "stdout",
          "output_type": "stream",
          "text": [
            "\n",
            " running loss:  tensor(2.0041, device='cuda:0', grad_fn=<MseLossBackward0>)\n"
          ]
        },
        {
          "name": "stderr",
          "output_type": "stream",
          "text": [
            " 75%|███████▌  | 8301/11014 [1:06:48<21:48,  2.07it/s]"
          ]
        },
        {
          "name": "stdout",
          "output_type": "stream",
          "text": [
            "\n",
            " running loss:  tensor(1.3010, device='cuda:0', grad_fn=<MseLossBackward0>)\n"
          ]
        },
        {
          "name": "stderr",
          "output_type": "stream",
          "text": [
            " 76%|███████▋  | 8401/11014 [1:07:36<21:01,  2.07it/s]"
          ]
        },
        {
          "name": "stdout",
          "output_type": "stream",
          "text": [
            "\n",
            " running loss:  tensor(1.7597, device='cuda:0', grad_fn=<MseLossBackward0>)\n"
          ]
        },
        {
          "name": "stderr",
          "output_type": "stream",
          "text": [
            " 77%|███████▋  | 8501/11014 [1:08:25<20:09,  2.08it/s]"
          ]
        },
        {
          "name": "stdout",
          "output_type": "stream",
          "text": [
            "\n",
            " running loss:  tensor(1.8835, device='cuda:0', grad_fn=<MseLossBackward0>)\n"
          ]
        },
        {
          "name": "stderr",
          "output_type": "stream",
          "text": [
            " 78%|███████▊  | 8601/11014 [1:09:13<19:29,  2.06it/s]"
          ]
        },
        {
          "name": "stdout",
          "output_type": "stream",
          "text": [
            "\n",
            " running loss:  tensor(1.4846, device='cuda:0', grad_fn=<MseLossBackward0>)\n"
          ]
        },
        {
          "name": "stderr",
          "output_type": "stream",
          "text": [
            " 79%|███████▉  | 8701/11014 [1:10:01<18:37,  2.07it/s]"
          ]
        },
        {
          "name": "stdout",
          "output_type": "stream",
          "text": [
            "\n",
            " running loss:  tensor(1.9433, device='cuda:0', grad_fn=<MseLossBackward0>)\n"
          ]
        },
        {
          "name": "stderr",
          "output_type": "stream",
          "text": [
            " 80%|███████▉  | 8801/11014 [1:10:49<17:45,  2.08it/s]"
          ]
        },
        {
          "name": "stdout",
          "output_type": "stream",
          "text": [
            "\n",
            " running loss:  tensor(1.9571, device='cuda:0', grad_fn=<MseLossBackward0>)\n"
          ]
        },
        {
          "name": "stderr",
          "output_type": "stream",
          "text": [
            " 81%|████████  | 8901/11014 [1:11:38<16:58,  2.07it/s]"
          ]
        },
        {
          "name": "stdout",
          "output_type": "stream",
          "text": [
            "\n",
            " running loss:  tensor(1.3434, device='cuda:0', grad_fn=<MseLossBackward0>)\n"
          ]
        },
        {
          "name": "stderr",
          "output_type": "stream",
          "text": [
            " 82%|████████▏ | 9001/11014 [1:12:26<16:13,  2.07it/s]"
          ]
        },
        {
          "name": "stdout",
          "output_type": "stream",
          "text": [
            "\n",
            " running loss:  tensor(1.6567, device='cuda:0', grad_fn=<MseLossBackward0>)\n"
          ]
        },
        {
          "name": "stderr",
          "output_type": "stream",
          "text": [
            " 83%|████████▎ | 9101/11014 [1:13:14<15:23,  2.07it/s]"
          ]
        },
        {
          "name": "stdout",
          "output_type": "stream",
          "text": [
            "\n",
            " running loss:  tensor(1.7481, device='cuda:0', grad_fn=<MseLossBackward0>)\n"
          ]
        },
        {
          "name": "stderr",
          "output_type": "stream",
          "text": [
            " 84%|████████▎ | 9201/11014 [1:14:02<14:37,  2.07it/s]"
          ]
        },
        {
          "name": "stdout",
          "output_type": "stream",
          "text": [
            "\n",
            " running loss:  tensor(1.9357, device='cuda:0', grad_fn=<MseLossBackward0>)\n"
          ]
        },
        {
          "name": "stderr",
          "output_type": "stream",
          "text": [
            " 84%|████████▍ | 9301/11014 [1:14:51<13:47,  2.07it/s]"
          ]
        },
        {
          "name": "stdout",
          "output_type": "stream",
          "text": [
            "\n",
            " running loss:  tensor(1.5983, device='cuda:0', grad_fn=<MseLossBackward0>)\n"
          ]
        },
        {
          "name": "stderr",
          "output_type": "stream",
          "text": [
            " 85%|████████▌ | 9401/11014 [1:15:39<12:58,  2.07it/s]"
          ]
        },
        {
          "name": "stdout",
          "output_type": "stream",
          "text": [
            "\n",
            " running loss:  tensor(2.1268, device='cuda:0', grad_fn=<MseLossBackward0>)\n"
          ]
        },
        {
          "name": "stderr",
          "output_type": "stream",
          "text": [
            " 86%|████████▋ | 9501/11014 [1:16:27<12:13,  2.06it/s]"
          ]
        },
        {
          "name": "stdout",
          "output_type": "stream",
          "text": [
            "\n",
            " running loss:  tensor(2.2485, device='cuda:0', grad_fn=<MseLossBackward0>)\n"
          ]
        },
        {
          "name": "stderr",
          "output_type": "stream",
          "text": [
            " 87%|████████▋ | 9601/11014 [1:17:16<11:25,  2.06it/s]"
          ]
        },
        {
          "name": "stdout",
          "output_type": "stream",
          "text": [
            "\n",
            " running loss:  tensor(1.8143, device='cuda:0', grad_fn=<MseLossBackward0>)\n"
          ]
        },
        {
          "name": "stderr",
          "output_type": "stream",
          "text": [
            " 88%|████████▊ | 9701/11014 [1:18:04<10:33,  2.07it/s]"
          ]
        },
        {
          "name": "stdout",
          "output_type": "stream",
          "text": [
            "\n",
            " running loss:  tensor(1.6723, device='cuda:0', grad_fn=<MseLossBackward0>)\n"
          ]
        },
        {
          "name": "stderr",
          "output_type": "stream",
          "text": [
            " 89%|████████▉ | 9801/11014 [1:18:52<09:44,  2.07it/s]"
          ]
        },
        {
          "name": "stdout",
          "output_type": "stream",
          "text": [
            "\n",
            " running loss:  tensor(1.7591, device='cuda:0', grad_fn=<MseLossBackward0>)\n"
          ]
        },
        {
          "name": "stderr",
          "output_type": "stream",
          "text": [
            " 90%|████████▉ | 9901/11014 [1:19:40<08:57,  2.07it/s]"
          ]
        },
        {
          "name": "stdout",
          "output_type": "stream",
          "text": [
            "\n",
            " running loss:  tensor(1.8281, device='cuda:0', grad_fn=<MseLossBackward0>)\n"
          ]
        },
        {
          "name": "stderr",
          "output_type": "stream",
          "text": [
            " 91%|█████████ | 10001/11014 [1:20:29<08:09,  2.07it/s]"
          ]
        },
        {
          "name": "stdout",
          "output_type": "stream",
          "text": [
            "\n",
            " running loss:  tensor(1.8980, device='cuda:0', grad_fn=<MseLossBackward0>)\n"
          ]
        },
        {
          "name": "stderr",
          "output_type": "stream",
          "text": [
            " 92%|█████████▏| 10101/11014 [1:21:17<07:25,  2.05it/s]"
          ]
        },
        {
          "name": "stdout",
          "output_type": "stream",
          "text": [
            "\n",
            " running loss:  tensor(1.6881, device='cuda:0', grad_fn=<MseLossBackward0>)\n"
          ]
        },
        {
          "name": "stderr",
          "output_type": "stream",
          "text": [
            " 93%|█████████▎| 10201/11014 [1:22:06<06:35,  2.06it/s]"
          ]
        },
        {
          "name": "stdout",
          "output_type": "stream",
          "text": [
            "\n",
            " running loss:  tensor(1.5754, device='cuda:0', grad_fn=<MseLossBackward0>)\n"
          ]
        },
        {
          "name": "stderr",
          "output_type": "stream",
          "text": [
            " 94%|█████████▎| 10301/11014 [1:22:54<05:47,  2.05it/s]"
          ]
        },
        {
          "name": "stdout",
          "output_type": "stream",
          "text": [
            "\n",
            " running loss:  tensor(1.3433, device='cuda:0', grad_fn=<MseLossBackward0>)\n"
          ]
        },
        {
          "name": "stderr",
          "output_type": "stream",
          "text": [
            " 94%|█████████▍| 10401/11014 [1:23:43<04:58,  2.05it/s]"
          ]
        },
        {
          "name": "stdout",
          "output_type": "stream",
          "text": [
            "\n",
            " running loss:  tensor(2.1663, device='cuda:0', grad_fn=<MseLossBackward0>)\n"
          ]
        },
        {
          "name": "stderr",
          "output_type": "stream",
          "text": [
            " 95%|█████████▌| 10501/11014 [1:24:32<04:07,  2.07it/s]"
          ]
        },
        {
          "name": "stdout",
          "output_type": "stream",
          "text": [
            "\n",
            " running loss:  tensor(1.9284, device='cuda:0', grad_fn=<MseLossBackward0>)\n"
          ]
        },
        {
          "name": "stderr",
          "output_type": "stream",
          "text": [
            " 96%|█████████▋| 10601/11014 [1:25:20<03:19,  2.07it/s]"
          ]
        },
        {
          "name": "stdout",
          "output_type": "stream",
          "text": [
            "\n",
            " running loss:  tensor(2.4834, device='cuda:0', grad_fn=<MseLossBackward0>)\n"
          ]
        },
        {
          "name": "stderr",
          "output_type": "stream",
          "text": [
            " 97%|█████████▋| 10701/11014 [1:26:08<02:31,  2.07it/s]"
          ]
        },
        {
          "name": "stdout",
          "output_type": "stream",
          "text": [
            "\n",
            " running loss:  tensor(1.5974, device='cuda:0', grad_fn=<MseLossBackward0>)\n"
          ]
        },
        {
          "name": "stderr",
          "output_type": "stream",
          "text": [
            " 98%|█████████▊| 10801/11014 [1:26:56<01:43,  2.06it/s]"
          ]
        },
        {
          "name": "stdout",
          "output_type": "stream",
          "text": [
            "\n",
            " running loss:  tensor(1.8286, device='cuda:0', grad_fn=<MseLossBackward0>)\n"
          ]
        },
        {
          "name": "stderr",
          "output_type": "stream",
          "text": [
            " 99%|█████████▉| 10901/11014 [1:27:45<00:54,  2.07it/s]"
          ]
        },
        {
          "name": "stdout",
          "output_type": "stream",
          "text": [
            "\n",
            " running loss:  tensor(1.8504, device='cuda:0', grad_fn=<MseLossBackward0>)\n"
          ]
        },
        {
          "name": "stderr",
          "output_type": "stream",
          "text": [
            "100%|█████████▉| 11001/11014 [1:28:33<00:06,  2.07it/s]"
          ]
        },
        {
          "name": "stdout",
          "output_type": "stream",
          "text": [
            "\n",
            " running loss:  tensor(2.0695, device='cuda:0', grad_fn=<MseLossBackward0>)\n"
          ]
        },
        {
          "name": "stderr",
          "output_type": "stream",
          "text": [
            "100%|██████████| 11014/11014 [1:28:39<00:00,  2.07it/s]\n",
            "  0%|          | 0/11014 [00:00<?, ?it/s]Truncation was not explicitly activated but `max_length` is provided a specific value, please use `truncation=True` to explicitly truncate examples to max length. Defaulting to 'longest_first' truncation strategy. If you encode pairs of sequences (GLUE-style) with the tokenizer you can select this strategy more precisely by providing a specific strategy to `truncation`.\n",
            "Truncation was not explicitly activated but `max_length` is provided a specific value, please use `truncation=True` to explicitly truncate examples to max length. Defaulting to 'longest_first' truncation strategy. If you encode pairs of sequences (GLUE-style) with the tokenizer you can select this strategy more precisely by providing a specific strategy to `truncation`.\n",
            "Truncation was not explicitly activated but `max_length` is provided a specific value, please use `truncation=True` to explicitly truncate examples to max length. Defaulting to 'longest_first' truncation strategy. If you encode pairs of sequences (GLUE-style) with the tokenizer you can select this strategy more precisely by providing a specific strategy to `truncation`.\n",
            "/opt/conda/lib/python3.8/site-packages/transformers/tokenization_utils_base.py:2339: FutureWarning: The `pad_to_max_length` argument is deprecated and will be removed in a future version, use `padding=True` or `padding='longest'` to pad to the longest sequence in the batch, or use `padding='max_length'` to pad to a max length. In this case, you can give a specific length with `max_length` (e.g. `max_length=45`) or leave max_length to None to pad to the maximal input size of the model (e.g. 512 for Bert).\n",
            "  warnings.warn(\n",
            "/opt/conda/lib/python3.8/site-packages/transformers/tokenization_utils_base.py:2339: FutureWarning: The `pad_to_max_length` argument is deprecated and will be removed in a future version, use `padding=True` or `padding='longest'` to pad to the longest sequence in the batch, or use `padding='max_length'` to pad to a max length. In this case, you can give a specific length with `max_length` (e.g. `max_length=45`) or leave max_length to None to pad to the maximal input size of the model (e.g. 512 for Bert).\n",
            "  warnings.warn(\n",
            "/opt/conda/lib/python3.8/site-packages/transformers/tokenization_utils_base.py:2339: FutureWarning: The `pad_to_max_length` argument is deprecated and will be removed in a future version, use `padding=True` or `padding='longest'` to pad to the longest sequence in the batch, or use `padding='max_length'` to pad to a max length. In this case, you can give a specific length with `max_length` (e.g. `max_length=45`) or leave max_length to None to pad to the maximal input size of the model (e.g. 512 for Bert).\n",
            "  warnings.warn(\n",
            "Truncation was not explicitly activated but `max_length` is provided a specific value, please use `truncation=True` to explicitly truncate examples to max length. Defaulting to 'longest_first' truncation strategy. If you encode pairs of sequences (GLUE-style) with the tokenizer you can select this strategy more precisely by providing a specific strategy to `truncation`.\n",
            "/opt/conda/lib/python3.8/site-packages/transformers/tokenization_utils_base.py:2339: FutureWarning: The `pad_to_max_length` argument is deprecated and will be removed in a future version, use `padding=True` or `padding='longest'` to pad to the longest sequence in the batch, or use `padding='max_length'` to pad to a max length. In this case, you can give a specific length with `max_length` (e.g. `max_length=45`) or leave max_length to None to pad to the maximal input size of the model (e.g. 512 for Bert).\n",
            "  warnings.warn(\n",
            " 81%|████████  | 8922/11014 [24:23<05:43,  6.10it/s]"
          ]
        }
      ],
      "source": [
        "best_score = 0\n",
        "for epoch in range(2):\n",
        "    train_func(data_loader=train_data_loader, model=model, optimizer=optimizer, device=device)\n",
        "    outputs, targets = eval_func(data_loader=train_data_loader, model=model, device=device)\n",
        "    outputs = np.expand_dims(np.array(outputs), axis=0)\n",
        "    targets = np.expand_dims(np.array(targets), axis=0)\n",
        "    ndcg = ndcg_score(targets, outputs)\n",
        "    print(f\"ndcg: {ndcg}\")\n",
        "\n",
        "    if ndcg > best_score:\n",
        "        best_ndcg = ndcg\n",
        "        torch.save(model.state_dict(), \"best_model.bin\")    "
      ]
    },
    {
      "cell_type": "code",
      "execution_count": null,
      "metadata": {
        "id": "CIAvE5-rKu-a"
      },
      "outputs": [],
      "source": [
        "best_ndcg"
      ]
    },
    {
      "cell_type": "markdown",
      "source": [
        "![image.png](data:image/png;base64,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)"
      ],
      "metadata": {
        "id": "fHzy4i8YMWJB"
      }
    },
    {
      "cell_type": "code",
      "execution_count": null,
      "metadata": {
        "id": "I2T4A1b_Ku-b"
      },
      "outputs": [],
      "source": [
        "df = pd.read_json(\"ranking_test.jsonl\", lines=True) \n",
        "tokenizer = DistilBertTokenizer.from_pretrained('distilbert-base-uncased')\n"
      ]
    },
    {
      "cell_type": "markdown",
      "source": [
        "# Делаем inference на тестовом файле и сохраняем"
      ],
      "metadata": {
        "id": "u0Cs2d1DMQKk"
      }
    },
    {
      "cell_type": "code",
      "execution_count": null,
      "metadata": {
        "id": "hhMjrZgmKu-b"
      },
      "outputs": [],
      "source": [
        "com = []\n",
        "#1*5 + 4\n",
        "for i in range(len(df)):\n",
        "  com.append(\"{} [SEP] {}\".format(df['text'][i], df['comments'][i][0]['text']))\n",
        "  com.append(\"{} [SEP] {}\".format(df['text'][i], df['comments'][i][1]['text']))\n",
        "  com.append(\"{} [SEP] {}\".format(df['text'][i], df['comments'][i][2]['text']))\n",
        "  com.append(\"{} [SEP] {}\".format(df['text'][i], df['comments'][i][3]['text']))\n",
        "  com.append(\"{} [SEP] {}\".format(df['text'][i], df['comments'][i][4]['text']))"
      ]
    },
    {
      "cell_type": "code",
      "execution_count": null,
      "metadata": {
        "id": "8MCcNaocKu-b"
      },
      "outputs": [],
      "source": [
        "model.eval()\n",
        "com_out = []\n",
        "for i in tqdm(range(len(df))):\n",
        "  com_out = []\n",
        "  for j in range(5):\n",
        "    com_encoded = tokenizer.encode_plus(com[i*5 + j], max_length = 512, pad_to_max_length=True, return_tensors=\"pt\") # .encode_plus(data, max_length = self.max_length, pad_to_max_length=True)\n",
        "    ids = com_encoded[\"input_ids\"]\n",
        "    mask = com_encoded[\"attention_mask\"]\n",
        "    ids = ids.to(device, dtype=torch.long)\n",
        "    mask = mask.to(device, dtype=torch.long)\n",
        "    output = model(ids, mask).squeeze(1)\n",
        "    com_out.extend(torch.sigmoid(output).cpu().detach().numpy().tolist())\n",
        "  order = (np.argsort(com_out)) \n",
        "\n",
        "  for score, idx in enumerate(np.argsort(com_out)):\n",
        "    df['comments'][i][idx]['score'] = score"
      ]
    },
    {
      "cell_type": "code",
      "execution_count": null,
      "metadata": {
        "id": "DQk6SrRwKu-b"
      },
      "outputs": [],
      "source": [
        "output_path = \"results/ranking_test.jsonl\""
      ]
    },
    {
      "cell_type": "code",
      "execution_count": null,
      "metadata": {
        "id": "O8EIzDE3Ku-c"
      },
      "outputs": [],
      "source": [
        "with open(output_path, \"w\") as f:\n",
        "    f.write(df.to_json(orient='records', lines=True))"
      ]
    },
    {
      "cell_type": "code",
      "execution_count": null,
      "metadata": {
        "id": "xQTpCvVMKu-c"
      },
      "outputs": [],
      "source": []
    }
  ],
  "metadata": {
    "accelerator": "GPU",
    "colab": {
      "provenance": [],
      "toc_visible": true
    },
    "gpuClass": "standard",
    "kernelspec": {
      "display_name": "Python 3 (ipykernel)",
      "language": "python",
      "name": "python3"
    },
    "language_info": {
      "codemirror_mode": {
        "name": "ipython",
        "version": 3
      },
      "file_extension": ".py",
      "mimetype": "text/x-python",
      "name": "python",
      "nbconvert_exporter": "python",
      "pygments_lexer": "ipython3",
      "version": "3.8.13"
    },
    "widgets": {
      "application/vnd.jupyter.widget-state+json": {
        "0034b10ba01b4a72bdbf4dfbd6dd112a": {
          "model_module": "@jupyter-widgets/base",
          "model_module_version": "1.2.0",
          "model_name": "LayoutModel",
          "state": {
            "_model_module": "@jupyter-widgets/base",
            "_model_module_version": "1.2.0",
            "_model_name": "LayoutModel",
            "_view_count": null,
            "_view_module": "@jupyter-widgets/base",
            "_view_module_version": "1.2.0",
            "_view_name": "LayoutView",
            "align_content": null,
            "align_items": null,
            "align_self": null,
            "border": null,
            "bottom": null,
            "display": null,
            "flex": null,
            "flex_flow": null,
            "grid_area": null,
            "grid_auto_columns": null,
            "grid_auto_flow": null,
            "grid_auto_rows": null,
            "grid_column": null,
            "grid_gap": null,
            "grid_row": null,
            "grid_template_areas": null,
            "grid_template_columns": null,
            "grid_template_rows": null,
            "height": null,
            "justify_content": null,
            "justify_items": null,
            "left": null,
            "margin": null,
            "max_height": null,
            "max_width": null,
            "min_height": null,
            "min_width": null,
            "object_fit": null,
            "object_position": null,
            "order": null,
            "overflow": null,
            "overflow_x": null,
            "overflow_y": null,
            "padding": null,
            "right": null,
            "top": null,
            "visibility": null,
            "width": null
          }
        },
        "0c502cb3c98f41d1b81343e6249bd529": {
          "model_module": "@jupyter-widgets/controls",
          "model_module_version": "1.5.0",
          "model_name": "ProgressStyleModel",
          "state": {
            "_model_module": "@jupyter-widgets/controls",
            "_model_module_version": "1.5.0",
            "_model_name": "ProgressStyleModel",
            "_view_count": null,
            "_view_module": "@jupyter-widgets/base",
            "_view_module_version": "1.2.0",
            "_view_name": "StyleView",
            "bar_color": null,
            "description_width": ""
          }
        },
        "15a6752b3e674ff092b1d2f5c8b47260": {
          "model_module": "@jupyter-widgets/controls",
          "model_module_version": "1.5.0",
          "model_name": "HBoxModel",
          "state": {
            "_dom_classes": [],
            "_model_module": "@jupyter-widgets/controls",
            "_model_module_version": "1.5.0",
            "_model_name": "HBoxModel",
            "_view_count": null,
            "_view_module": "@jupyter-widgets/controls",
            "_view_module_version": "1.5.0",
            "_view_name": "HBoxView",
            "box_style": "",
            "children": [
              "IPY_MODEL_ad3e7c28e93c41a7a0a31394400b07e3",
              "IPY_MODEL_1c56ec95be334cf680ae8daa5c261b98",
              "IPY_MODEL_61ad204268884bfaabf8aa05ac3a8e15"
            ],
            "layout": "IPY_MODEL_67e9500a7cb7471985fa9b1a356f9eb8"
          }
        },
        "1b8481daa16b437d8a4a7a36a1ccd807": {
          "model_module": "@jupyter-widgets/controls",
          "model_module_version": "1.5.0",
          "model_name": "DescriptionStyleModel",
          "state": {
            "_model_module": "@jupyter-widgets/controls",
            "_model_module_version": "1.5.0",
            "_model_name": "DescriptionStyleModel",
            "_view_count": null,
            "_view_module": "@jupyter-widgets/base",
            "_view_module_version": "1.2.0",
            "_view_name": "StyleView",
            "description_width": ""
          }
        },
        "1c56ec95be334cf680ae8daa5c261b98": {
          "model_module": "@jupyter-widgets/controls",
          "model_module_version": "1.5.0",
          "model_name": "FloatProgressModel",
          "state": {
            "_dom_classes": [],
            "_model_module": "@jupyter-widgets/controls",
            "_model_module_version": "1.5.0",
            "_model_name": "FloatProgressModel",
            "_view_count": null,
            "_view_module": "@jupyter-widgets/controls",
            "_view_module_version": "1.5.0",
            "_view_name": "ProgressView",
            "bar_style": "success",
            "description": "",
            "description_tooltip": null,
            "layout": "IPY_MODEL_97856c878a7d48bb9578dfb4c356562d",
            "max": 231508,
            "min": 0,
            "orientation": "horizontal",
            "style": "IPY_MODEL_0c502cb3c98f41d1b81343e6249bd529",
            "value": 231508
          }
        },
        "20f455ddab2b4358bfc33386ab2efc6e": {
          "model_module": "@jupyter-widgets/base",
          "model_module_version": "1.2.0",
          "model_name": "LayoutModel",
          "state": {
            "_model_module": "@jupyter-widgets/base",
            "_model_module_version": "1.2.0",
            "_model_name": "LayoutModel",
            "_view_count": null,
            "_view_module": "@jupyter-widgets/base",
            "_view_module_version": "1.2.0",
            "_view_name": "LayoutView",
            "align_content": null,
            "align_items": null,
            "align_self": null,
            "border": null,
            "bottom": null,
            "display": null,
            "flex": null,
            "flex_flow": null,
            "grid_area": null,
            "grid_auto_columns": null,
            "grid_auto_flow": null,
            "grid_auto_rows": null,
            "grid_column": null,
            "grid_gap": null,
            "grid_row": null,
            "grid_template_areas": null,
            "grid_template_columns": null,
            "grid_template_rows": null,
            "height": null,
            "justify_content": null,
            "justify_items": null,
            "left": null,
            "margin": null,
            "max_height": null,
            "max_width": null,
            "min_height": null,
            "min_width": null,
            "object_fit": null,
            "object_position": null,
            "order": null,
            "overflow": null,
            "overflow_x": null,
            "overflow_y": null,
            "padding": null,
            "right": null,
            "top": null,
            "visibility": null,
            "width": null
          }
        },
        "2186f139e7f04551979e9c653b5b354c": {
          "model_module": "@jupyter-widgets/base",
          "model_module_version": "1.2.0",
          "model_name": "LayoutModel",
          "state": {
            "_model_module": "@jupyter-widgets/base",
            "_model_module_version": "1.2.0",
            "_model_name": "LayoutModel",
            "_view_count": null,
            "_view_module": "@jupyter-widgets/base",
            "_view_module_version": "1.2.0",
            "_view_name": "LayoutView",
            "align_content": null,
            "align_items": null,
            "align_self": null,
            "border": null,
            "bottom": null,
            "display": null,
            "flex": null,
            "flex_flow": null,
            "grid_area": null,
            "grid_auto_columns": null,
            "grid_auto_flow": null,
            "grid_auto_rows": null,
            "grid_column": null,
            "grid_gap": null,
            "grid_row": null,
            "grid_template_areas": null,
            "grid_template_columns": null,
            "grid_template_rows": null,
            "height": null,
            "justify_content": null,
            "justify_items": null,
            "left": null,
            "margin": null,
            "max_height": null,
            "max_width": null,
            "min_height": null,
            "min_width": null,
            "object_fit": null,
            "object_position": null,
            "order": null,
            "overflow": null,
            "overflow_x": null,
            "overflow_y": null,
            "padding": null,
            "right": null,
            "top": null,
            "visibility": null,
            "width": null
          }
        },
        "273660740ef0470d96c6a50d43fbcf87": {
          "model_module": "@jupyter-widgets/base",
          "model_module_version": "1.2.0",
          "model_name": "LayoutModel",
          "state": {
            "_model_module": "@jupyter-widgets/base",
            "_model_module_version": "1.2.0",
            "_model_name": "LayoutModel",
            "_view_count": null,
            "_view_module": "@jupyter-widgets/base",
            "_view_module_version": "1.2.0",
            "_view_name": "LayoutView",
            "align_content": null,
            "align_items": null,
            "align_self": null,
            "border": null,
            "bottom": null,
            "display": null,
            "flex": null,
            "flex_flow": null,
            "grid_area": null,
            "grid_auto_columns": null,
            "grid_auto_flow": null,
            "grid_auto_rows": null,
            "grid_column": null,
            "grid_gap": null,
            "grid_row": null,
            "grid_template_areas": null,
            "grid_template_columns": null,
            "grid_template_rows": null,
            "height": null,
            "justify_content": null,
            "justify_items": null,
            "left": null,
            "margin": null,
            "max_height": null,
            "max_width": null,
            "min_height": null,
            "min_width": null,
            "object_fit": null,
            "object_position": null,
            "order": null,
            "overflow": null,
            "overflow_x": null,
            "overflow_y": null,
            "padding": null,
            "right": null,
            "top": null,
            "visibility": null,
            "width": null
          }
        },
        "34ab5ad5e445477e82c8d6030f2c18ea": {
          "model_module": "@jupyter-widgets/base",
          "model_module_version": "1.2.0",
          "model_name": "LayoutModel",
          "state": {
            "_model_module": "@jupyter-widgets/base",
            "_model_module_version": "1.2.0",
            "_model_name": "LayoutModel",
            "_view_count": null,
            "_view_module": "@jupyter-widgets/base",
            "_view_module_version": "1.2.0",
            "_view_name": "LayoutView",
            "align_content": null,
            "align_items": null,
            "align_self": null,
            "border": null,
            "bottom": null,
            "display": null,
            "flex": null,
            "flex_flow": null,
            "grid_area": null,
            "grid_auto_columns": null,
            "grid_auto_flow": null,
            "grid_auto_rows": null,
            "grid_column": null,
            "grid_gap": null,
            "grid_row": null,
            "grid_template_areas": null,
            "grid_template_columns": null,
            "grid_template_rows": null,
            "height": null,
            "justify_content": null,
            "justify_items": null,
            "left": null,
            "margin": null,
            "max_height": null,
            "max_width": null,
            "min_height": null,
            "min_width": null,
            "object_fit": null,
            "object_position": null,
            "order": null,
            "overflow": null,
            "overflow_x": null,
            "overflow_y": null,
            "padding": null,
            "right": null,
            "top": null,
            "visibility": null,
            "width": null
          }
        },
        "370eaf2553bc4132b658ea25fbb915a4": {
          "model_module": "@jupyter-widgets/base",
          "model_module_version": "1.2.0",
          "model_name": "LayoutModel",
          "state": {
            "_model_module": "@jupyter-widgets/base",
            "_model_module_version": "1.2.0",
            "_model_name": "LayoutModel",
            "_view_count": null,
            "_view_module": "@jupyter-widgets/base",
            "_view_module_version": "1.2.0",
            "_view_name": "LayoutView",
            "align_content": null,
            "align_items": null,
            "align_self": null,
            "border": null,
            "bottom": null,
            "display": null,
            "flex": null,
            "flex_flow": null,
            "grid_area": null,
            "grid_auto_columns": null,
            "grid_auto_flow": null,
            "grid_auto_rows": null,
            "grid_column": null,
            "grid_gap": null,
            "grid_row": null,
            "grid_template_areas": null,
            "grid_template_columns": null,
            "grid_template_rows": null,
            "height": null,
            "justify_content": null,
            "justify_items": null,
            "left": null,
            "margin": null,
            "max_height": null,
            "max_width": null,
            "min_height": null,
            "min_width": null,
            "object_fit": null,
            "object_position": null,
            "order": null,
            "overflow": null,
            "overflow_x": null,
            "overflow_y": null,
            "padding": null,
            "right": null,
            "top": null,
            "visibility": null,
            "width": null
          }
        },
        "37cd58b5bc4a48f18bfc223938574efc": {
          "model_module": "@jupyter-widgets/controls",
          "model_module_version": "1.5.0",
          "model_name": "HBoxModel",
          "state": {
            "_dom_classes": [],
            "_model_module": "@jupyter-widgets/controls",
            "_model_module_version": "1.5.0",
            "_model_name": "HBoxModel",
            "_view_count": null,
            "_view_module": "@jupyter-widgets/controls",
            "_view_module_version": "1.5.0",
            "_view_name": "HBoxView",
            "box_style": "",
            "children": [
              "IPY_MODEL_ffa9342cd5504a2c96ef0d17aa5ceded",
              "IPY_MODEL_6d2d3a70c5c94138b13f85d0ad59d9a9",
              "IPY_MODEL_833ea823a9144b5883d714497e2b5508"
            ],
            "layout": "IPY_MODEL_7d989638b4fc431b9e55ade6eafe017b"
          }
        },
        "42297c4bd0e944d6af41c8f08f979600": {
          "model_module": "@jupyter-widgets/controls",
          "model_module_version": "1.5.0",
          "model_name": "FloatProgressModel",
          "state": {
            "_dom_classes": [],
            "_model_module": "@jupyter-widgets/controls",
            "_model_module_version": "1.5.0",
            "_model_name": "FloatProgressModel",
            "_view_count": null,
            "_view_module": "@jupyter-widgets/controls",
            "_view_module_version": "1.5.0",
            "_view_name": "ProgressView",
            "bar_style": "success",
            "description": "",
            "description_tooltip": null,
            "layout": "IPY_MODEL_34ab5ad5e445477e82c8d6030f2c18ea",
            "max": 28,
            "min": 0,
            "orientation": "horizontal",
            "style": "IPY_MODEL_fcb07a013e5c45258e6c461cbae66118",
            "value": 28
          }
        },
        "4234d795e90a45dea9e6a26143813698": {
          "model_module": "@jupyter-widgets/controls",
          "model_module_version": "1.5.0",
          "model_name": "HBoxModel",
          "state": {
            "_dom_classes": [],
            "_model_module": "@jupyter-widgets/controls",
            "_model_module_version": "1.5.0",
            "_model_name": "HBoxModel",
            "_view_count": null,
            "_view_module": "@jupyter-widgets/controls",
            "_view_module_version": "1.5.0",
            "_view_name": "HBoxView",
            "box_style": "",
            "children": [
              "IPY_MODEL_c3412b9935ac436781ca9c34db5f271a",
              "IPY_MODEL_42297c4bd0e944d6af41c8f08f979600",
              "IPY_MODEL_94cd89ad7e8b43b0a17dcb953fc86c4f"
            ],
            "layout": "IPY_MODEL_8646c2a806f54078b1e52717bf337802"
          }
        },
        "4fa5b9c4e76c4d08a3bc34784c3d6a87": {
          "model_module": "@jupyter-widgets/base",
          "model_module_version": "1.2.0",
          "model_name": "LayoutModel",
          "state": {
            "_model_module": "@jupyter-widgets/base",
            "_model_module_version": "1.2.0",
            "_model_name": "LayoutModel",
            "_view_count": null,
            "_view_module": "@jupyter-widgets/base",
            "_view_module_version": "1.2.0",
            "_view_name": "LayoutView",
            "align_content": null,
            "align_items": null,
            "align_self": null,
            "border": null,
            "bottom": null,
            "display": null,
            "flex": null,
            "flex_flow": null,
            "grid_area": null,
            "grid_auto_columns": null,
            "grid_auto_flow": null,
            "grid_auto_rows": null,
            "grid_column": null,
            "grid_gap": null,
            "grid_row": null,
            "grid_template_areas": null,
            "grid_template_columns": null,
            "grid_template_rows": null,
            "height": null,
            "justify_content": null,
            "justify_items": null,
            "left": null,
            "margin": null,
            "max_height": null,
            "max_width": null,
            "min_height": null,
            "min_width": null,
            "object_fit": null,
            "object_position": null,
            "order": null,
            "overflow": null,
            "overflow_x": null,
            "overflow_y": null,
            "padding": null,
            "right": null,
            "top": null,
            "visibility": null,
            "width": null
          }
        },
        "51b780a80a32407d834c16d198584cd9": {
          "model_module": "@jupyter-widgets/controls",
          "model_module_version": "1.5.0",
          "model_name": "DescriptionStyleModel",
          "state": {
            "_model_module": "@jupyter-widgets/controls",
            "_model_module_version": "1.5.0",
            "_model_name": "DescriptionStyleModel",
            "_view_count": null,
            "_view_module": "@jupyter-widgets/base",
            "_view_module_version": "1.2.0",
            "_view_name": "StyleView",
            "description_width": ""
          }
        },
        "5417a5b422da478fa1896758aafad050": {
          "model_module": "@jupyter-widgets/controls",
          "model_module_version": "1.5.0",
          "model_name": "DescriptionStyleModel",
          "state": {
            "_model_module": "@jupyter-widgets/controls",
            "_model_module_version": "1.5.0",
            "_model_name": "DescriptionStyleModel",
            "_view_count": null,
            "_view_module": "@jupyter-widgets/base",
            "_view_module_version": "1.2.0",
            "_view_name": "StyleView",
            "description_width": ""
          }
        },
        "61ad204268884bfaabf8aa05ac3a8e15": {
          "model_module": "@jupyter-widgets/controls",
          "model_module_version": "1.5.0",
          "model_name": "HTMLModel",
          "state": {
            "_dom_classes": [],
            "_model_module": "@jupyter-widgets/controls",
            "_model_module_version": "1.5.0",
            "_model_name": "HTMLModel",
            "_view_count": null,
            "_view_module": "@jupyter-widgets/controls",
            "_view_module_version": "1.5.0",
            "_view_name": "HTMLView",
            "description": "",
            "description_tooltip": null,
            "layout": "IPY_MODEL_eda1a687e5ea466e9b1712d44b5d97a7",
            "placeholder": "​",
            "style": "IPY_MODEL_9af1f92ba08849088931ab785a4ee986",
            "value": " 232k/232k [00:00&lt;00:00, 2.92MB/s]"
          }
        },
        "67e9500a7cb7471985fa9b1a356f9eb8": {
          "model_module": "@jupyter-widgets/base",
          "model_module_version": "1.2.0",
          "model_name": "LayoutModel",
          "state": {
            "_model_module": "@jupyter-widgets/base",
            "_model_module_version": "1.2.0",
            "_model_name": "LayoutModel",
            "_view_count": null,
            "_view_module": "@jupyter-widgets/base",
            "_view_module_version": "1.2.0",
            "_view_name": "LayoutView",
            "align_content": null,
            "align_items": null,
            "align_self": null,
            "border": null,
            "bottom": null,
            "display": null,
            "flex": null,
            "flex_flow": null,
            "grid_area": null,
            "grid_auto_columns": null,
            "grid_auto_flow": null,
            "grid_auto_rows": null,
            "grid_column": null,
            "grid_gap": null,
            "grid_row": null,
            "grid_template_areas": null,
            "grid_template_columns": null,
            "grid_template_rows": null,
            "height": null,
            "justify_content": null,
            "justify_items": null,
            "left": null,
            "margin": null,
            "max_height": null,
            "max_width": null,
            "min_height": null,
            "min_width": null,
            "object_fit": null,
            "object_position": null,
            "order": null,
            "overflow": null,
            "overflow_x": null,
            "overflow_y": null,
            "padding": null,
            "right": null,
            "top": null,
            "visibility": null,
            "width": null
          }
        },
        "694d96abc16344dca2b446328e04341d": {
          "model_module": "@jupyter-widgets/controls",
          "model_module_version": "1.5.0",
          "model_name": "FloatProgressModel",
          "state": {
            "_dom_classes": [],
            "_model_module": "@jupyter-widgets/controls",
            "_model_module_version": "1.5.0",
            "_model_name": "FloatProgressModel",
            "_view_count": null,
            "_view_module": "@jupyter-widgets/controls",
            "_view_module_version": "1.5.0",
            "_view_name": "ProgressView",
            "bar_style": "success",
            "description": "",
            "description_tooltip": null,
            "layout": "IPY_MODEL_0034b10ba01b4a72bdbf4dfbd6dd112a",
            "max": 440473133,
            "min": 0,
            "orientation": "horizontal",
            "style": "IPY_MODEL_941125d0384e432b9a1b252fcfe2a412",
            "value": 440473133
          }
        },
        "6d2d3a70c5c94138b13f85d0ad59d9a9": {
          "model_module": "@jupyter-widgets/controls",
          "model_module_version": "1.5.0",
          "model_name": "FloatProgressModel",
          "state": {
            "_dom_classes": [],
            "_model_module": "@jupyter-widgets/controls",
            "_model_module_version": "1.5.0",
            "_model_name": "FloatProgressModel",
            "_view_count": null,
            "_view_module": "@jupyter-widgets/controls",
            "_view_module_version": "1.5.0",
            "_view_name": "ProgressView",
            "bar_style": "success",
            "description": "",
            "description_tooltip": null,
            "layout": "IPY_MODEL_370eaf2553bc4132b658ea25fbb915a4",
            "max": 570,
            "min": 0,
            "orientation": "horizontal",
            "style": "IPY_MODEL_e260e03d65ec4cb2a8794e600a140e52",
            "value": 570
          }
        },
        "771836b1c2e14603af1f4dc2a35a2a70": {
          "model_module": "@jupyter-widgets/base",
          "model_module_version": "1.2.0",
          "model_name": "LayoutModel",
          "state": {
            "_model_module": "@jupyter-widgets/base",
            "_model_module_version": "1.2.0",
            "_model_name": "LayoutModel",
            "_view_count": null,
            "_view_module": "@jupyter-widgets/base",
            "_view_module_version": "1.2.0",
            "_view_name": "LayoutView",
            "align_content": null,
            "align_items": null,
            "align_self": null,
            "border": null,
            "bottom": null,
            "display": null,
            "flex": null,
            "flex_flow": null,
            "grid_area": null,
            "grid_auto_columns": null,
            "grid_auto_flow": null,
            "grid_auto_rows": null,
            "grid_column": null,
            "grid_gap": null,
            "grid_row": null,
            "grid_template_areas": null,
            "grid_template_columns": null,
            "grid_template_rows": null,
            "height": null,
            "justify_content": null,
            "justify_items": null,
            "left": null,
            "margin": null,
            "max_height": null,
            "max_width": null,
            "min_height": null,
            "min_width": null,
            "object_fit": null,
            "object_position": null,
            "order": null,
            "overflow": null,
            "overflow_x": null,
            "overflow_y": null,
            "padding": null,
            "right": null,
            "top": null,
            "visibility": null,
            "width": null
          }
        },
        "7d989638b4fc431b9e55ade6eafe017b": {
          "model_module": "@jupyter-widgets/base",
          "model_module_version": "1.2.0",
          "model_name": "LayoutModel",
          "state": {
            "_model_module": "@jupyter-widgets/base",
            "_model_module_version": "1.2.0",
            "_model_name": "LayoutModel",
            "_view_count": null,
            "_view_module": "@jupyter-widgets/base",
            "_view_module_version": "1.2.0",
            "_view_name": "LayoutView",
            "align_content": null,
            "align_items": null,
            "align_self": null,
            "border": null,
            "bottom": null,
            "display": null,
            "flex": null,
            "flex_flow": null,
            "grid_area": null,
            "grid_auto_columns": null,
            "grid_auto_flow": null,
            "grid_auto_rows": null,
            "grid_column": null,
            "grid_gap": null,
            "grid_row": null,
            "grid_template_areas": null,
            "grid_template_columns": null,
            "grid_template_rows": null,
            "height": null,
            "justify_content": null,
            "justify_items": null,
            "left": null,
            "margin": null,
            "max_height": null,
            "max_width": null,
            "min_height": null,
            "min_width": null,
            "object_fit": null,
            "object_position": null,
            "order": null,
            "overflow": null,
            "overflow_x": null,
            "overflow_y": null,
            "padding": null,
            "right": null,
            "top": null,
            "visibility": null,
            "width": null
          }
        },
        "833ea823a9144b5883d714497e2b5508": {
          "model_module": "@jupyter-widgets/controls",
          "model_module_version": "1.5.0",
          "model_name": "HTMLModel",
          "state": {
            "_dom_classes": [],
            "_model_module": "@jupyter-widgets/controls",
            "_model_module_version": "1.5.0",
            "_model_name": "HTMLModel",
            "_view_count": null,
            "_view_module": "@jupyter-widgets/controls",
            "_view_module_version": "1.5.0",
            "_view_name": "HTMLView",
            "description": "",
            "description_tooltip": null,
            "layout": "IPY_MODEL_2186f139e7f04551979e9c653b5b354c",
            "placeholder": "​",
            "style": "IPY_MODEL_fa18ee28d704490e82930aae16f7c05e",
            "value": " 570/570 [00:00&lt;00:00, 9.83kB/s]"
          }
        },
        "8646c2a806f54078b1e52717bf337802": {
          "model_module": "@jupyter-widgets/base",
          "model_module_version": "1.2.0",
          "model_name": "LayoutModel",
          "state": {
            "_model_module": "@jupyter-widgets/base",
            "_model_module_version": "1.2.0",
            "_model_name": "LayoutModel",
            "_view_count": null,
            "_view_module": "@jupyter-widgets/base",
            "_view_module_version": "1.2.0",
            "_view_name": "LayoutView",
            "align_content": null,
            "align_items": null,
            "align_self": null,
            "border": null,
            "bottom": null,
            "display": null,
            "flex": null,
            "flex_flow": null,
            "grid_area": null,
            "grid_auto_columns": null,
            "grid_auto_flow": null,
            "grid_auto_rows": null,
            "grid_column": null,
            "grid_gap": null,
            "grid_row": null,
            "grid_template_areas": null,
            "grid_template_columns": null,
            "grid_template_rows": null,
            "height": null,
            "justify_content": null,
            "justify_items": null,
            "left": null,
            "margin": null,
            "max_height": null,
            "max_width": null,
            "min_height": null,
            "min_width": null,
            "object_fit": null,
            "object_position": null,
            "order": null,
            "overflow": null,
            "overflow_x": null,
            "overflow_y": null,
            "padding": null,
            "right": null,
            "top": null,
            "visibility": null,
            "width": null
          }
        },
        "941125d0384e432b9a1b252fcfe2a412": {
          "model_module": "@jupyter-widgets/controls",
          "model_module_version": "1.5.0",
          "model_name": "ProgressStyleModel",
          "state": {
            "_model_module": "@jupyter-widgets/controls",
            "_model_module_version": "1.5.0",
            "_model_name": "ProgressStyleModel",
            "_view_count": null,
            "_view_module": "@jupyter-widgets/base",
            "_view_module_version": "1.2.0",
            "_view_name": "StyleView",
            "bar_color": null,
            "description_width": ""
          }
        },
        "94cd89ad7e8b43b0a17dcb953fc86c4f": {
          "model_module": "@jupyter-widgets/controls",
          "model_module_version": "1.5.0",
          "model_name": "HTMLModel",
          "state": {
            "_dom_classes": [],
            "_model_module": "@jupyter-widgets/controls",
            "_model_module_version": "1.5.0",
            "_model_name": "HTMLModel",
            "_view_count": null,
            "_view_module": "@jupyter-widgets/controls",
            "_view_module_version": "1.5.0",
            "_view_name": "HTMLView",
            "description": "",
            "description_tooltip": null,
            "layout": "IPY_MODEL_20f455ddab2b4358bfc33386ab2efc6e",
            "placeholder": "​",
            "style": "IPY_MODEL_9fd557d26e8a4e669c5b20061aed684b",
            "value": " 28.0/28.0 [00:00&lt;00:00, 1.30kB/s]"
          }
        },
        "97856c878a7d48bb9578dfb4c356562d": {
          "model_module": "@jupyter-widgets/base",
          "model_module_version": "1.2.0",
          "model_name": "LayoutModel",
          "state": {
            "_model_module": "@jupyter-widgets/base",
            "_model_module_version": "1.2.0",
            "_model_name": "LayoutModel",
            "_view_count": null,
            "_view_module": "@jupyter-widgets/base",
            "_view_module_version": "1.2.0",
            "_view_name": "LayoutView",
            "align_content": null,
            "align_items": null,
            "align_self": null,
            "border": null,
            "bottom": null,
            "display": null,
            "flex": null,
            "flex_flow": null,
            "grid_area": null,
            "grid_auto_columns": null,
            "grid_auto_flow": null,
            "grid_auto_rows": null,
            "grid_column": null,
            "grid_gap": null,
            "grid_row": null,
            "grid_template_areas": null,
            "grid_template_columns": null,
            "grid_template_rows": null,
            "height": null,
            "justify_content": null,
            "justify_items": null,
            "left": null,
            "margin": null,
            "max_height": null,
            "max_width": null,
            "min_height": null,
            "min_width": null,
            "object_fit": null,
            "object_position": null,
            "order": null,
            "overflow": null,
            "overflow_x": null,
            "overflow_y": null,
            "padding": null,
            "right": null,
            "top": null,
            "visibility": null,
            "width": null
          }
        },
        "9af1f92ba08849088931ab785a4ee986": {
          "model_module": "@jupyter-widgets/controls",
          "model_module_version": "1.5.0",
          "model_name": "DescriptionStyleModel",
          "state": {
            "_model_module": "@jupyter-widgets/controls",
            "_model_module_version": "1.5.0",
            "_model_name": "DescriptionStyleModel",
            "_view_count": null,
            "_view_module": "@jupyter-widgets/base",
            "_view_module_version": "1.2.0",
            "_view_name": "StyleView",
            "description_width": ""
          }
        },
        "9d8739734b044bb1b24444faa4612e80": {
          "model_module": "@jupyter-widgets/base",
          "model_module_version": "1.2.0",
          "model_name": "LayoutModel",
          "state": {
            "_model_module": "@jupyter-widgets/base",
            "_model_module_version": "1.2.0",
            "_model_name": "LayoutModel",
            "_view_count": null,
            "_view_module": "@jupyter-widgets/base",
            "_view_module_version": "1.2.0",
            "_view_name": "LayoutView",
            "align_content": null,
            "align_items": null,
            "align_self": null,
            "border": null,
            "bottom": null,
            "display": null,
            "flex": null,
            "flex_flow": null,
            "grid_area": null,
            "grid_auto_columns": null,
            "grid_auto_flow": null,
            "grid_auto_rows": null,
            "grid_column": null,
            "grid_gap": null,
            "grid_row": null,
            "grid_template_areas": null,
            "grid_template_columns": null,
            "grid_template_rows": null,
            "height": null,
            "justify_content": null,
            "justify_items": null,
            "left": null,
            "margin": null,
            "max_height": null,
            "max_width": null,
            "min_height": null,
            "min_width": null,
            "object_fit": null,
            "object_position": null,
            "order": null,
            "overflow": null,
            "overflow_x": null,
            "overflow_y": null,
            "padding": null,
            "right": null,
            "top": null,
            "visibility": null,
            "width": null
          }
        },
        "9fd557d26e8a4e669c5b20061aed684b": {
          "model_module": "@jupyter-widgets/controls",
          "model_module_version": "1.5.0",
          "model_name": "DescriptionStyleModel",
          "state": {
            "_model_module": "@jupyter-widgets/controls",
            "_model_module_version": "1.5.0",
            "_model_name": "DescriptionStyleModel",
            "_view_count": null,
            "_view_module": "@jupyter-widgets/base",
            "_view_module_version": "1.2.0",
            "_view_name": "StyleView",
            "description_width": ""
          }
        },
        "a066687434c9435aa715926e19594879": {
          "model_module": "@jupyter-widgets/controls",
          "model_module_version": "1.5.0",
          "model_name": "DescriptionStyleModel",
          "state": {
            "_model_module": "@jupyter-widgets/controls",
            "_model_module_version": "1.5.0",
            "_model_name": "DescriptionStyleModel",
            "_view_count": null,
            "_view_module": "@jupyter-widgets/base",
            "_view_module_version": "1.2.0",
            "_view_name": "StyleView",
            "description_width": ""
          }
        },
        "ad3e7c28e93c41a7a0a31394400b07e3": {
          "model_module": "@jupyter-widgets/controls",
          "model_module_version": "1.5.0",
          "model_name": "HTMLModel",
          "state": {
            "_dom_classes": [],
            "_model_module": "@jupyter-widgets/controls",
            "_model_module_version": "1.5.0",
            "_model_name": "HTMLModel",
            "_view_count": null,
            "_view_module": "@jupyter-widgets/controls",
            "_view_module_version": "1.5.0",
            "_view_name": "HTMLView",
            "description": "",
            "description_tooltip": null,
            "layout": "IPY_MODEL_771836b1c2e14603af1f4dc2a35a2a70",
            "placeholder": "​",
            "style": "IPY_MODEL_1b8481daa16b437d8a4a7a36a1ccd807",
            "value": "Downloading (…)solve/main/vocab.txt: 100%"
          }
        },
        "c276e1b52cc8479dad6172876e8b0501": {
          "model_module": "@jupyter-widgets/controls",
          "model_module_version": "1.5.0",
          "model_name": "DescriptionStyleModel",
          "state": {
            "_model_module": "@jupyter-widgets/controls",
            "_model_module_version": "1.5.0",
            "_model_name": "DescriptionStyleModel",
            "_view_count": null,
            "_view_module": "@jupyter-widgets/base",
            "_view_module_version": "1.2.0",
            "_view_name": "StyleView",
            "description_width": ""
          }
        },
        "c3412b9935ac436781ca9c34db5f271a": {
          "model_module": "@jupyter-widgets/controls",
          "model_module_version": "1.5.0",
          "model_name": "HTMLModel",
          "state": {
            "_dom_classes": [],
            "_model_module": "@jupyter-widgets/controls",
            "_model_module_version": "1.5.0",
            "_model_name": "HTMLModel",
            "_view_count": null,
            "_view_module": "@jupyter-widgets/controls",
            "_view_module_version": "1.5.0",
            "_view_name": "HTMLView",
            "description": "",
            "description_tooltip": null,
            "layout": "IPY_MODEL_9d8739734b044bb1b24444faa4612e80",
            "placeholder": "​",
            "style": "IPY_MODEL_5417a5b422da478fa1896758aafad050",
            "value": "Downloading (…)okenizer_config.json: 100%"
          }
        },
        "c93b8ad78d084a0b9c69fb6b5fd967f5": {
          "model_module": "@jupyter-widgets/base",
          "model_module_version": "1.2.0",
          "model_name": "LayoutModel",
          "state": {
            "_model_module": "@jupyter-widgets/base",
            "_model_module_version": "1.2.0",
            "_model_name": "LayoutModel",
            "_view_count": null,
            "_view_module": "@jupyter-widgets/base",
            "_view_module_version": "1.2.0",
            "_view_name": "LayoutView",
            "align_content": null,
            "align_items": null,
            "align_self": null,
            "border": null,
            "bottom": null,
            "display": null,
            "flex": null,
            "flex_flow": null,
            "grid_area": null,
            "grid_auto_columns": null,
            "grid_auto_flow": null,
            "grid_auto_rows": null,
            "grid_column": null,
            "grid_gap": null,
            "grid_row": null,
            "grid_template_areas": null,
            "grid_template_columns": null,
            "grid_template_rows": null,
            "height": null,
            "justify_content": null,
            "justify_items": null,
            "left": null,
            "margin": null,
            "max_height": null,
            "max_width": null,
            "min_height": null,
            "min_width": null,
            "object_fit": null,
            "object_position": null,
            "order": null,
            "overflow": null,
            "overflow_x": null,
            "overflow_y": null,
            "padding": null,
            "right": null,
            "top": null,
            "visibility": null,
            "width": null
          }
        },
        "e260e03d65ec4cb2a8794e600a140e52": {
          "model_module": "@jupyter-widgets/controls",
          "model_module_version": "1.5.0",
          "model_name": "ProgressStyleModel",
          "state": {
            "_model_module": "@jupyter-widgets/controls",
            "_model_module_version": "1.5.0",
            "_model_name": "ProgressStyleModel",
            "_view_count": null,
            "_view_module": "@jupyter-widgets/base",
            "_view_module_version": "1.2.0",
            "_view_name": "StyleView",
            "bar_color": null,
            "description_width": ""
          }
        },
        "e7cd6cf9cce84187b1d970534042411c": {
          "model_module": "@jupyter-widgets/controls",
          "model_module_version": "1.5.0",
          "model_name": "HTMLModel",
          "state": {
            "_dom_classes": [],
            "_model_module": "@jupyter-widgets/controls",
            "_model_module_version": "1.5.0",
            "_model_name": "HTMLModel",
            "_view_count": null,
            "_view_module": "@jupyter-widgets/controls",
            "_view_module_version": "1.5.0",
            "_view_name": "HTMLView",
            "description": "",
            "description_tooltip": null,
            "layout": "IPY_MODEL_4fa5b9c4e76c4d08a3bc34784c3d6a87",
            "placeholder": "​",
            "style": "IPY_MODEL_51b780a80a32407d834c16d198584cd9",
            "value": " 440M/440M [00:02&lt;00:00, 200MB/s]"
          }
        },
        "eda1a687e5ea466e9b1712d44b5d97a7": {
          "model_module": "@jupyter-widgets/base",
          "model_module_version": "1.2.0",
          "model_name": "LayoutModel",
          "state": {
            "_model_module": "@jupyter-widgets/base",
            "_model_module_version": "1.2.0",
            "_model_name": "LayoutModel",
            "_view_count": null,
            "_view_module": "@jupyter-widgets/base",
            "_view_module_version": "1.2.0",
            "_view_name": "LayoutView",
            "align_content": null,
            "align_items": null,
            "align_self": null,
            "border": null,
            "bottom": null,
            "display": null,
            "flex": null,
            "flex_flow": null,
            "grid_area": null,
            "grid_auto_columns": null,
            "grid_auto_flow": null,
            "grid_auto_rows": null,
            "grid_column": null,
            "grid_gap": null,
            "grid_row": null,
            "grid_template_areas": null,
            "grid_template_columns": null,
            "grid_template_rows": null,
            "height": null,
            "justify_content": null,
            "justify_items": null,
            "left": null,
            "margin": null,
            "max_height": null,
            "max_width": null,
            "min_height": null,
            "min_width": null,
            "object_fit": null,
            "object_position": null,
            "order": null,
            "overflow": null,
            "overflow_x": null,
            "overflow_y": null,
            "padding": null,
            "right": null,
            "top": null,
            "visibility": null,
            "width": null
          }
        },
        "f0ad4c838b3b4369a47432d700eb5825": {
          "model_module": "@jupyter-widgets/base",
          "model_module_version": "1.2.0",
          "model_name": "LayoutModel",
          "state": {
            "_model_module": "@jupyter-widgets/base",
            "_model_module_version": "1.2.0",
            "_model_name": "LayoutModel",
            "_view_count": null,
            "_view_module": "@jupyter-widgets/base",
            "_view_module_version": "1.2.0",
            "_view_name": "LayoutView",
            "align_content": null,
            "align_items": null,
            "align_self": null,
            "border": null,
            "bottom": null,
            "display": null,
            "flex": null,
            "flex_flow": null,
            "grid_area": null,
            "grid_auto_columns": null,
            "grid_auto_flow": null,
            "grid_auto_rows": null,
            "grid_column": null,
            "grid_gap": null,
            "grid_row": null,
            "grid_template_areas": null,
            "grid_template_columns": null,
            "grid_template_rows": null,
            "height": null,
            "justify_content": null,
            "justify_items": null,
            "left": null,
            "margin": null,
            "max_height": null,
            "max_width": null,
            "min_height": null,
            "min_width": null,
            "object_fit": null,
            "object_position": null,
            "order": null,
            "overflow": null,
            "overflow_x": null,
            "overflow_y": null,
            "padding": null,
            "right": null,
            "top": null,
            "visibility": null,
            "width": null
          }
        },
        "f8e03cd382214de4bf2092c006bc9230": {
          "model_module": "@jupyter-widgets/controls",
          "model_module_version": "1.5.0",
          "model_name": "HTMLModel",
          "state": {
            "_dom_classes": [],
            "_model_module": "@jupyter-widgets/controls",
            "_model_module_version": "1.5.0",
            "_model_name": "HTMLModel",
            "_view_count": null,
            "_view_module": "@jupyter-widgets/controls",
            "_view_module_version": "1.5.0",
            "_view_name": "HTMLView",
            "description": "",
            "description_tooltip": null,
            "layout": "IPY_MODEL_c93b8ad78d084a0b9c69fb6b5fd967f5",
            "placeholder": "​",
            "style": "IPY_MODEL_c276e1b52cc8479dad6172876e8b0501",
            "value": "Downloading pytorch_model.bin: 100%"
          }
        },
        "f998237f06f2496ea266671d93632ded": {
          "model_module": "@jupyter-widgets/controls",
          "model_module_version": "1.5.0",
          "model_name": "HBoxModel",
          "state": {
            "_dom_classes": [],
            "_model_module": "@jupyter-widgets/controls",
            "_model_module_version": "1.5.0",
            "_model_name": "HBoxModel",
            "_view_count": null,
            "_view_module": "@jupyter-widgets/controls",
            "_view_module_version": "1.5.0",
            "_view_name": "HBoxView",
            "box_style": "",
            "children": [
              "IPY_MODEL_f8e03cd382214de4bf2092c006bc9230",
              "IPY_MODEL_694d96abc16344dca2b446328e04341d",
              "IPY_MODEL_e7cd6cf9cce84187b1d970534042411c"
            ],
            "layout": "IPY_MODEL_f0ad4c838b3b4369a47432d700eb5825"
          }
        },
        "fa18ee28d704490e82930aae16f7c05e": {
          "model_module": "@jupyter-widgets/controls",
          "model_module_version": "1.5.0",
          "model_name": "DescriptionStyleModel",
          "state": {
            "_model_module": "@jupyter-widgets/controls",
            "_model_module_version": "1.5.0",
            "_model_name": "DescriptionStyleModel",
            "_view_count": null,
            "_view_module": "@jupyter-widgets/base",
            "_view_module_version": "1.2.0",
            "_view_name": "StyleView",
            "description_width": ""
          }
        },
        "fcb07a013e5c45258e6c461cbae66118": {
          "model_module": "@jupyter-widgets/controls",
          "model_module_version": "1.5.0",
          "model_name": "ProgressStyleModel",
          "state": {
            "_model_module": "@jupyter-widgets/controls",
            "_model_module_version": "1.5.0",
            "_model_name": "ProgressStyleModel",
            "_view_count": null,
            "_view_module": "@jupyter-widgets/base",
            "_view_module_version": "1.2.0",
            "_view_name": "StyleView",
            "bar_color": null,
            "description_width": ""
          }
        },
        "ffa9342cd5504a2c96ef0d17aa5ceded": {
          "model_module": "@jupyter-widgets/controls",
          "model_module_version": "1.5.0",
          "model_name": "HTMLModel",
          "state": {
            "_dom_classes": [],
            "_model_module": "@jupyter-widgets/controls",
            "_model_module_version": "1.5.0",
            "_model_name": "HTMLModel",
            "_view_count": null,
            "_view_module": "@jupyter-widgets/controls",
            "_view_module_version": "1.5.0",
            "_view_name": "HTMLView",
            "description": "",
            "description_tooltip": null,
            "layout": "IPY_MODEL_273660740ef0470d96c6a50d43fbcf87",
            "placeholder": "​",
            "style": "IPY_MODEL_a066687434c9435aa715926e19594879",
            "value": "Downloading (…)lve/main/config.json: 100%"
          }
        }
      }
    }
  },
  "nbformat": 4,
  "nbformat_minor": 0
}