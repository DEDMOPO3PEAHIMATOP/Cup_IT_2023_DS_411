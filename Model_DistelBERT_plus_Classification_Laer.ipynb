{
 "cells": [
  {
   "cell_type": "markdown",
   "id": "a5af1b53",
   "metadata": {},
   "source": [
    "## Загрузим необходимые библиотеки"
   ]
  },
  {
   "cell_type": "code",
   "execution_count": 19,
   "id": "ea38a371",
   "metadata": {},
   "outputs": [],
   "source": [
    "from sklearn.metrics import accuracy_score, precision_score, recall_score, f1_score\n",
    "from sklearn.model_selection import train_test_split\n",
    "from torch import nn\n",
    "from torch.optim import lr_scheduler, Adam\n",
    "from torch.utils.data import Dataset\n",
    "from tqdm import tqdm\n",
    "from transformers import DistilBertModel, DistilBertTokenizer\n",
    "import gc\n",
    "import json\n",
    "import matplotlib.pyplot as plt\n",
    "import numpy as np\n",
    "import pandas as pd\n",
    "import pandas as pd\n",
    "import re\n",
    "import torch\n",
    "import warnings\n",
    "\n",
    "warnings.filterwarnings('ignore')"
   ]
  },
  {
   "cell_type": "markdown",
   "id": "f894781b",
   "metadata": {},
   "source": [
    "## А сюда необходимые нам классы и функции"
   ]
  },
  {
   "cell_type": "code",
   "execution_count": 2,
   "id": "a5a88b07",
   "metadata": {},
   "outputs": [],
   "source": [
    "class MyDataset(Dataset):\n",
    "\n",
    "    def __init__(self, dataset_type,):\n",
    "       \n",
    "        if dataset_type == 'train':\n",
    "            file = 'ranking_train.jsonl'\n",
    "        else:\n",
    "            file = 'ranking_test.jsonl'\n",
    "        f = open(file, 'r')\n",
    "        lines = f.readlines()\n",
    "        f.close()\n",
    "\n",
    "        \n",
    "        self.lines = []\n",
    "        for i in range(len(lines)):\n",
    "            line = json.loads(lines[i])\n",
    "            self.lines.append(line)\n",
    "        print('Количество topics в', dataset_type, ':', len(self.lines))\n",
    "    \n",
    "    def __len__(self):\n",
    "        return len(self.lines)\n",
    "    \n",
    "    def __getitem__(self, idx):\n",
    "\n",
    "        lines = self.lines[idx]\n",
    "\n",
    "    \n",
    "        sample = {\n",
    "            'topic': lines['text'],\n",
    "            'comments': lines['comments'],\n",
    "        }\n",
    "        \n",
    "        return sample"
   ]
  },
  {
   "cell_type": "code",
   "execution_count": 3,
   "id": "7e77dfef",
   "metadata": {},
   "outputs": [],
   "source": [
    "class My_Model(nn.Module):\n",
    "    '''\n",
    "      Класс сети обучения\n",
    "      на вход принимает: сеть получения эмбеддингов\n",
    "      на выходе: эмбеддинг якоря и после линейного слоя классификации\n",
    "    '''\n",
    "    def __init__(self, EmbeddingNet):\n",
    "        super(My_Model, self).__init__()\n",
    "        self.embeddingLayer = EmbeddingNet\n",
    "        self.classifierLayer = nn.Linear(768, 5)\n",
    "\n",
    "    def forward(self, topic, topic_attention_mask, comment, comment_attention_mask):\n",
    "        topic_em = self.embeddingLayer(topic, attention_mask = topic_attention_mask, return_dict=False)\n",
    "        comment_em = self.embeddingLayer(comment, attention_mask = comment_attention_mask, return_dict=False)\n",
    "#         print(type(comment_em))\n",
    "        logits = self.classifierLayer(comment_em[0][:, 0, :])\n",
    "        return topic_em[0][:, 0, :], comment_em[0][:, 0, :], logits"
   ]
  },
  {
   "cell_type": "code",
   "execution_count": 4,
   "id": "5e384574",
   "metadata": {},
   "outputs": [],
   "source": [
    "def custom_loss():\n",
    "    '''\n",
    "      Функция получения сводного лосса по модели\n",
    "      на вход принимает: функцию определения расстояние м/у векторами, значение допуска и обмена\n",
    "      на выходе: сводный лосс\n",
    "    '''\n",
    "    loss1 = nn.CosineEmbeddingLoss()\n",
    "    loss2 = nn.CrossEntropyLoss()\n",
    "    def helper(topic, comment, logits, score):\n",
    "        '''\n",
    "          Функция лоссов по модели\n",
    "          на вход принимает: эмбеддинги (якорь, позитивный и негативный) и конечный с линейного слоя\n",
    "          на выходе: результат сводного лосса\n",
    "        '''\n",
    "#         print(loss1(topic, comment) + loss2(logits, score))\n",
    "        return loss1(topic, comment, score) + loss2(logits, score)\n",
    "    return helper"
   ]
  },
  {
   "cell_type": "code",
   "execution_count": 21,
   "id": "b2a88545",
   "metadata": {},
   "outputs": [],
   "source": [
    "def clear_text(text):\n",
    "    \n",
    "    text = text.lower()\n",
    "    \n",
    "    text = re.sub(r'[^a-zA-Z ]', ' ', text).strip()\n",
    "    \n",
    "    # Удаляем html теги\n",
    "    text = re.sub(r'<[^>]+>', ' ', text)\n",
    "    \n",
    "    # Удаляем единичные символы\n",
    "    text = re.sub(r'\\s+[a-zA-Z]\\s+', ' ', text)\n",
    "    \n",
    "    # Удаляем единычные символы из начала строки\n",
    "    text = re.sub(r'\\^[a-zA-Z]\\s+', ' ', text) \n",
    "    \n",
    "    # Заменяем несколько пробелов на один\n",
    "    text = re.sub(r'\\s+', ' ', text, flags=re.I)\n",
    "    \n",
    "    # Удаляем 'b'\n",
    "    text = re.sub(r'^b\\s+', '', text)\n",
    "        \n",
    "    return text"
   ]
  },
  {
   "cell_type": "code",
   "execution_count": 60,
   "id": "16fddc6b",
   "metadata": {},
   "outputs": [],
   "source": [
    "def train(train_files, val_files, model, epochs, batch_size, optimizer=None, criterion=None, sheduler=None):\n",
    "    '''\n",
    "    Функция обучения по эпохам\n",
    "    принимает на вход: даталоадер с тренировочными данными, даталоадер с проверочными данными ,модель,\n",
    "    количество эпох обучения, размер батча, оптимайзер, функцию потерь, планировщик\n",
    "    отдает: лучшую модель на обучении, историю обучения\n",
    "    '''        \n",
    "    if optimizer is None:\n",
    "        optimizer = torch.optim.Adam(model.parameters()) # будем использовать модель Adam\n",
    "    if criterion is None:\n",
    "        criterion = nn.CrossEntropyLoss() # будем использовать кросэнтропию\n",
    "    \n",
    "    best_model = model.state_dict() # сохраняем все тензоры модели\n",
    "    best_acc = 0.0 # для понимания лучшего скора модели\n",
    "    \n",
    "    history = []\n",
    "    log_template = \"\\nEpoch {ep:03d} train_loss: {t_loss:0.4f} \\\n",
    "    val_loss {v_loss:0.4f} train_acc {t_acc:0.4f} val_acc {v_acc:0.4f}\"\n",
    "\n",
    "    with tqdm(desc=\"epoch\", total=epochs) as pbar_outer:\n",
    "        opt = torch.optim.Adam(model.parameters())\n",
    "        criterion = criterion\n",
    "\n",
    "        for epoch in range(epochs):\n",
    "            train_acc, train_loss = fit_epoch(model, train_loader, criterion, opt, sheduler)\n",
    "            print(\"loss\", train_loss)\n",
    "            \n",
    "            val_acc, val_loss = eval_epoch(model, val_loader, criterion)\n",
    "            history.append((epoch, train_loss, train_acc, val_loss, val_acc))\n",
    "            \n",
    "            if val_acc > best_acc:\n",
    "                best_acc = val_acc\n",
    "                best_model = model.state_dict()\n",
    "                            \n",
    "            pbar_outer.update(1)\n",
    "            tqdm.write(log_template.format(ep=epoch+1, t_loss=train_loss,\\\n",
    "                                           v_loss=val_loss, t_acc=train_acc, v_acc=val_acc))\n",
    "    \n",
    "    print('Best val Acc: {:4f}'.format(best_acc))\n",
    "    model.load_state_dict(best_model)\n",
    "    return model, history"
   ]
  },
  {
   "cell_type": "code",
   "execution_count": 61,
   "id": "5a35a161",
   "metadata": {},
   "outputs": [],
   "source": [
    "def fit_epoch(model, train_loader, loss_fn, optimizer, sheduler=None):\n",
    "    '''\n",
    "    Функция обучения на эпохе\n",
    "    принимает на вход: модель, даталоадер, функцию потерь, функцию оптимизатора и планировщика\n",
    "    отдает: масив метрики accuracy, средний лосс по эпохе\n",
    "    '''\n",
    "    losses = []\n",
    "\n",
    "    num_correct = 0\n",
    "    num_elements = 0\n",
    "    \n",
    "    model.train(True) # так как нам необходимо оптимизировать данные на train\n",
    "    \n",
    "    for i, batch in enumerate(train_loader):\n",
    "        tokenized_topic = [tokenizer.encode(\n",
    "                clear_text(batch[k]['topic']),\n",
    "                add_special_tokens=True,\n",
    "                truncation=True,\n",
    "                max_length=max_len) for k in range(len(batch))]\n",
    "        padded_topic = np.array([i + [0]*(max_len - len(i)) for i in tokenized_topic])\n",
    "        topic_attention_mask = np.where(padded_topic != 0, 1, 0)\n",
    "\n",
    "        tokenized_comments = [tokenizer.encode(\n",
    "                clear_text(batch[j]['comments'][k]['text']),\n",
    "                add_special_tokens=True,\n",
    "                truncation=True,\n",
    "                max_length=max_len) for j in range(len(batch)) for k in range(len(batch[j]['comments']))]\n",
    "        padded_comments = np.array([i + [0]*(max_len - len(i)) for i in tokenized_comments])\n",
    "        comments_attention_mask = np.where(padded_comments != 0, 1, 0)\n",
    "        score = np.array([\n",
    "            batch[j]['comments'][k]['score'] for j in range(len(batch)) for k in range(len(batch[j]['comments']))\n",
    "        ])      \n",
    "        \n",
    "        num_elements += score.shape[0]\n",
    "        optimizer.zero_grad()\n",
    "\n",
    "        topic, comments, logits = model(\n",
    "            torch.LongTensor(padded_topic).to(device),\n",
    "            torch.LongTensor(topic_attention_mask).to(device),\n",
    "            torch.LongTensor(padded_comments).to(device),\n",
    "            torch.LongTensor(comments_attention_mask).to(device)\n",
    "        )\n",
    "\n",
    "\n",
    "\n",
    "        loss = loss_fn(\n",
    "            torch.repeat_interleave(topic, CLASS_COUNT, dim=0),\n",
    "            comments,\n",
    "            logits,\n",
    "            torch.LongTensor(score).to(device)\n",
    "        )\n",
    "\n",
    "        optimizer.zero_grad()\n",
    "        losses.append(loss.item())\n",
    "        loss.backward()\n",
    "        optimizer.step()\n",
    "        y_pred = torch.argmax(logits, dim=1)\n",
    "        num_correct += torch.sum(y_pred.cpu() == torch.LongTensor(score))\n",
    "        \n",
    "    if sheduler is not None: # проверяем нужна ли нам оптимизация\n",
    "        sheduler.step() # если да, то делаем шаг оптимизации\n",
    "    \n",
    "    accuracy = num_correct / num_elements\n",
    "    \n",
    "    return accuracy.numpy(), np.mean(losses)"
   ]
  },
  {
   "cell_type": "code",
   "execution_count": 62,
   "id": "dac8b577",
   "metadata": {},
   "outputs": [],
   "source": [
    "def eval_epoch(model, dataloader, loss_fn):\n",
    "    '''\n",
    "    Функция проверки обучения на эпохе\n",
    "    принимает на вход: модель, даталоадер, функцию потерь\n",
    "    отдает: масив метрики accuracy, средний лосс по эпохе\n",
    "    '''    \n",
    "    losses = []\n",
    "\n",
    "    num_correct = 0\n",
    "    num_elements = 0\n",
    "    \n",
    "    model.eval()\n",
    "\n",
    "    for i, batch in enumerate(dataloader):\n",
    "        \n",
    "        tokenized_topic = [tokenizer.encode(\n",
    "                clear_text(batch[k]['topic']),\n",
    "                add_special_tokens=True,\n",
    "                truncation=True,\n",
    "                max_length=max_len) for k in range(len(batch))]\n",
    "        padded_topic = np.array([i + [0]*(max_len - len(i)) for i in tokenized_topic])\n",
    "        topic_attention_mask = np.where(padded_topic != 0, 1, 0)\n",
    "\n",
    "        tokenized_comments = [tokenizer.encode(\n",
    "                clear_text(batch[j]['comments'][k]['text']),\n",
    "                add_special_tokens=True,\n",
    "                truncation=True,\n",
    "                max_length=max_len) for j in range(len(batch)) for k in range(len(batch[j]['comments']))]\n",
    "        padded_comments = np.array([i + [0]*(max_len - len(i)) for i in tokenized_comments])\n",
    "        comments_attention_mask = np.where(padded_comments != 0, 1, 0)\n",
    "        score = np.array([\n",
    "            batch[j]['comments'][k]['score'] for j in range(len(batch)) for k in range(len(batch[j]['comments']))\n",
    "        ])      \n",
    "        \n",
    "        num_elements += score.shape[0]        \n",
    "        with torch.no_grad():\n",
    "            topic, comments, logits = model(\n",
    "                torch.LongTensor(padded_topic).to(device),\n",
    "                torch.LongTensor(topic_attention_mask).to(device),\n",
    "                torch.LongTensor(padded_comments).to(device),\n",
    "                torch.LongTensor(comments_attention_mask).to(device)\n",
    "            )\n",
    "            \n",
    "            loss = loss_fn(\n",
    "                torch.repeat_interleave(topic, 5, dim=0),\n",
    "                comments,\n",
    "                logits,\n",
    "                torch.LongTensor(score).to(device)\n",
    "            )\n",
    "            losses.append(loss.item())\n",
    "            \n",
    "            y_pred = torch.argmax(logits, dim=1)\n",
    "            \n",
    "            num_correct += torch.sum(y_pred.cpu() == torch.LongTensor(score))\n",
    "    \n",
    "    accuracy = num_correct / num_elements\n",
    "            \n",
    "    return accuracy.numpy(), np.mean(losses)"
   ]
  },
  {
   "cell_type": "code",
   "execution_count": 63,
   "id": "d72e3267",
   "metadata": {},
   "outputs": [],
   "source": [
    "def evaluate(model, dataloader, loss_fn):\n",
    "    '''\n",
    "    Функция проверки обучения\n",
    "    принимает на вход: модель, даталоадер с проверочными данными, функцию потерь\n",
    "    отдает: масив метрики accuracy, средний лосс по проверке\n",
    "    '''       \n",
    "    losses = []\n",
    "\n",
    "    num_correct = 0\n",
    "    num_elements = 0\n",
    "    \n",
    "    model.eval()\n",
    "\n",
    "    for i, batch in tqdm(enumerate(dataloader), desc='Test images'):\n",
    "        \n",
    "        X_batch, y_batch = batch['image'], batch['label']\n",
    "        num_elements += len(y_batch)\n",
    "        \n",
    "        with torch.no_grad():\n",
    "\n",
    "            logits = model(X_batch.to(device))\n",
    "            \n",
    "            loss = loss_fn(logits, y_batch.to(device))\n",
    "            losses.append(loss.item())\n",
    "            \n",
    "            y_pred = torch.argmax(logits, dim=1)\n",
    "            \n",
    "            num_correct += torch.sum(y_pred.cpu() == y_batch)\n",
    "    \n",
    "    accuracy = num_correct / num_elements\n",
    "            \n",
    "    return accuracy.numpy(), np.mean(losses)"
   ]
  },
  {
   "cell_type": "markdown",
   "id": "72675c41",
   "metadata": {},
   "source": [
    "## Посмотрим, что из себя представляют наши данные"
   ]
  },
  {
   "cell_type": "code",
   "execution_count": 64,
   "id": "188247e8",
   "metadata": {},
   "outputs": [
    {
     "name": "stdout",
     "output_type": "stream",
     "text": [
      "{\"text\":\"iOS 8.0.1 released, broken on iPhone 6 models, withdrawn\",\"comments\":[{\"text\":\"I&#x27;m still waiting for them to stabilize wifi on the iPad sith iOS 8. Their quality has really started to slip for me since 10.9 on Mac.\",\"score\":null},{\"text\":\"For those who upgraded, no need to do a restore. You can just option-click &quot;Update&quot; and downgrade the OS back to 8.0.0.Instructions: https:&#x2F;&#x2F;gist.github.com&#x2F;locriani&#x2F;f0f5f4f71a28945c3750\",\"score\":null},{\"text\":\"Upgraded shortly after it was released and suffered the consequences.  Just was able to restore back down to 8.0I had to turn iMessage off and back on again in order for Apple to re-register my number... until then I was unable to send to any existing contacts.\",\"score\":null},{\"text\":\"I think they were under a lot of pressure on the HealthKit front.  That was one of their big flagship iOS 8 features, they got all these app developers to integrate it, then iOS 8 shipped and they had a showstopper bug and wouldn&#x27;t release any apps using HealthKit.\",\"score\":null},{\"text\":\"Fix for those who already updated:  http:&#x2F;&#x2F;www.imore.com&#x2F;ios-801-kill-touch-id-and-cell-service-...\",\"score\":null}]}\n",
      "\n"
     ]
    }
   ],
   "source": [
    "for line in open('ranking_test.jsonl', 'r'):\n",
    "    print(line)\n",
    "    break"
   ]
  },
  {
   "cell_type": "markdown",
   "id": "611d3c97",
   "metadata": {},
   "source": [
    "Мы имеем topic и комментарии к нему с оценкой значимости"
   ]
  },
  {
   "cell_type": "markdown",
   "id": "6343a519",
   "metadata": {},
   "source": [
    "Посмотрим, сколько всего топиков и комментариев к ним"
   ]
  },
  {
   "cell_type": "code",
   "execution_count": 65,
   "id": "95e38a9b",
   "metadata": {},
   "outputs": [
    {
     "name": "stdout",
     "output_type": "stream",
     "text": [
      "Количество топиков 88107\n",
      "Количество комментов в топике {5}\n",
      "Количество рангов в комментах {5}\n",
      "Коммент максимального размера: 43302\n"
     ]
    }
   ],
   "source": [
    "max_len_comment = 0\n",
    "num_topic = 0\n",
    "num_comments = []\n",
    "for line in open('ranking_train.jsonl', 'r'):\n",
    "    topic = json.loads(line)['text']\n",
    "    num_topic += 1\n",
    "    comments = json.loads(line)['comments']\n",
    "    num_comments.append(len(comments))\n",
    "    text = [comments[i]['text'] for i in range(len(comments))]\n",
    "    for com in text:\n",
    "        if len(com) > max_len_comment:\n",
    "            max_len_comment = len(com)\n",
    "\n",
    "idx_train = [i for i in range(num_topic)]\n",
    "print('Количество топиков', num_topic)\n",
    "print('Количество комментов в топике', set(num_comments))\n",
    "print('Количество рангов в комментах', set(num_comments))\n",
    "print('Коммент максимального размера:', max_len_comment)"
   ]
  },
  {
   "cell_type": "code",
   "execution_count": 66,
   "id": "4a1b3f8b",
   "metadata": {},
   "outputs": [
    {
     "data": {
      "text/plain": [
       "5"
      ]
     },
     "execution_count": 66,
     "metadata": {},
     "output_type": "execute_result"
    }
   ],
   "source": [
    "# Определение количества классов\n",
    "CLASS_COUNT = max(list(set(num_comments)))\n",
    "CLASS_COUNT"
   ]
  },
  {
   "cell_type": "markdown",
   "id": "306c3157",
   "metadata": {},
   "source": [
    "В train данных у нас 88107 топиков и по 5 комментариев к ним"
   ]
  },
  {
   "cell_type": "code",
   "execution_count": 67,
   "id": "14cd925c",
   "metadata": {},
   "outputs": [
    {
     "name": "stdout",
     "output_type": "stream",
     "text": [
      "Количество топиков 14004\n",
      "Количество комментов в топике {5}\n",
      "Количество рангов в комментах {5}\n",
      "Коммент максимального размера: 662\n"
     ]
    }
   ],
   "source": [
    "max_len_comment = 0\n",
    "num_topic = 0\n",
    "num_comments = []\n",
    "for line in open('ranking_test.jsonl', 'r'):\n",
    "    topic = json.loads(line)['text']\n",
    "    num_topic += 1\n",
    "    comments = json.loads(line)['comments']\n",
    "    num_comments.append(len(comments))\n",
    "    for com in text:\n",
    "        if len(com) > max_len_comment:\n",
    "            max_len_comment = len(com)\n",
    "\n",
    "idx_train = [i for i in range(num_topic)]\n",
    "print('Количество топиков', num_topic)\n",
    "print('Количество комментов в топике', set(num_comments))\n",
    "print('Количество рангов в комментах', set(num_comments))\n",
    "print('Коммент максимального размера:', max_len_comment)"
   ]
  },
  {
   "cell_type": "markdown",
   "id": "af7c2243",
   "metadata": {},
   "source": [
    "В test данных у нас 14004 топика и по 5 комментариев к ним. Одинаковое количество что в train, что в test"
   ]
  },
  {
   "cell_type": "markdown",
   "id": "b4d82b60",
   "metadata": {},
   "source": [
    "В некоторых комментариях присутствуют ссылки, посмотрим на них внимательно"
   ]
  },
  {
   "cell_type": "code",
   "execution_count": 68,
   "id": "039a281e",
   "metadata": {},
   "outputs": [],
   "source": [
    "for line in open('ranking_train.jsonl', 'r'):\n",
    "    topic = json.loads(line)['text']\n",
    "    comments = json.loads(line)['comments']\n",
    "    comment = [comments[i]['text'] for i in range(len(comments))]\n",
    "    score = [comments[i]['score'] for i in range(len(comments))]\n",
    "    columns = ['url', 'num_url', 'score']\n",
    "    for com in range(len(comment)):\n",
    "        url = re.findall(r'(https?:[^\\s]+)', comment[com])\n",
    "        if url != []:\n",
    "            row = [1, len(url), score[com]]\n",
    "        else:\n",
    "            row = [0, 0, score[com]]\n",
    "        with open('df_train.json', 'a') as file:\n",
    "            json.dump(row, file)\n",
    "            file.write('\\n')"
   ]
  },
  {
   "cell_type": "code",
   "execution_count": 69,
   "id": "224681b9",
   "metadata": {},
   "outputs": [
    {
     "data": {
      "text/html": [
       "<div>\n",
       "<style scoped>\n",
       "    .dataframe tbody tr th:only-of-type {\n",
       "        vertical-align: middle;\n",
       "    }\n",
       "\n",
       "    .dataframe tbody tr th {\n",
       "        vertical-align: top;\n",
       "    }\n",
       "\n",
       "    .dataframe thead th {\n",
       "        text-align: right;\n",
       "    }\n",
       "</style>\n",
       "<table border=\"1\" class=\"dataframe\">\n",
       "  <thead>\n",
       "    <tr style=\"text-align: right;\">\n",
       "      <th></th>\n",
       "      <th>url</th>\n",
       "      <th>num_url</th>\n",
       "      <th>score</th>\n",
       "    </tr>\n",
       "  </thead>\n",
       "  <tbody>\n",
       "    <tr>\n",
       "      <th>0</th>\n",
       "      <td>0</td>\n",
       "      <td>0</td>\n",
       "      <td>0</td>\n",
       "    </tr>\n",
       "    <tr>\n",
       "      <th>1</th>\n",
       "      <td>0</td>\n",
       "      <td>0</td>\n",
       "      <td>1</td>\n",
       "    </tr>\n",
       "    <tr>\n",
       "      <th>2</th>\n",
       "      <td>0</td>\n",
       "      <td>0</td>\n",
       "      <td>2</td>\n",
       "    </tr>\n",
       "    <tr>\n",
       "      <th>3</th>\n",
       "      <td>0</td>\n",
       "      <td>0</td>\n",
       "      <td>3</td>\n",
       "    </tr>\n",
       "    <tr>\n",
       "      <th>4</th>\n",
       "      <td>0</td>\n",
       "      <td>0</td>\n",
       "      <td>4</td>\n",
       "    </tr>\n",
       "    <tr>\n",
       "      <th>...</th>\n",
       "      <td>...</td>\n",
       "      <td>...</td>\n",
       "      <td>...</td>\n",
       "    </tr>\n",
       "    <tr>\n",
       "      <th>1762135</th>\n",
       "      <td>1</td>\n",
       "      <td>1</td>\n",
       "      <td>0</td>\n",
       "    </tr>\n",
       "    <tr>\n",
       "      <th>1762136</th>\n",
       "      <td>0</td>\n",
       "      <td>0</td>\n",
       "      <td>1</td>\n",
       "    </tr>\n",
       "    <tr>\n",
       "      <th>1762137</th>\n",
       "      <td>0</td>\n",
       "      <td>0</td>\n",
       "      <td>2</td>\n",
       "    </tr>\n",
       "    <tr>\n",
       "      <th>1762138</th>\n",
       "      <td>0</td>\n",
       "      <td>0</td>\n",
       "      <td>3</td>\n",
       "    </tr>\n",
       "    <tr>\n",
       "      <th>1762139</th>\n",
       "      <td>0</td>\n",
       "      <td>0</td>\n",
       "      <td>4</td>\n",
       "    </tr>\n",
       "  </tbody>\n",
       "</table>\n",
       "<p>1762140 rows × 3 columns</p>\n",
       "</div>"
      ],
      "text/plain": [
       "         url  num_url  score\n",
       "0          0        0      0\n",
       "1          0        0      1\n",
       "2          0        0      2\n",
       "3          0        0      3\n",
       "4          0        0      4\n",
       "...      ...      ...    ...\n",
       "1762135    1        1      0\n",
       "1762136    0        0      1\n",
       "1762137    0        0      2\n",
       "1762138    0        0      3\n",
       "1762139    0        0      4\n",
       "\n",
       "[1762140 rows x 3 columns]"
      ]
     },
     "execution_count": 69,
     "metadata": {},
     "output_type": "execute_result"
    }
   ],
   "source": [
    "df_train = pd.read_json('df_train.json', lines = True)\n",
    "df_train.columns = ['url', 'num_url', 'score']\n",
    "df_train"
   ]
  },
  {
   "cell_type": "code",
   "execution_count": 70,
   "id": "f1056af8",
   "metadata": {
    "scrolled": true
   },
   "outputs": [
    {
     "data": {
      "image/png": "[encoded data removed]",
      "text/plain": [
       "<Figure size 1080x360 with 1 Axes>"
      ]
     },
     "metadata": {
      "needs_background": "light"
     },
     "output_type": "display_data"
    }
   ],
   "source": [
    "# сгруппируем таблицу по 'score' со значениями количеств ссылок\n",
    "df_score = df_train.groupby ('score')['num_url'].mean ()\n",
    "\n",
    "# построим график\n",
    "df_score.plot (kind = 'bar', y = 'num_url', style = 'o-', xlim = (0, 38), grid = True, figsize = (15, 5))\n",
    "\n",
    "#подписи к графику\n",
    "plt.title ('Гистограмма среднего количества ссылок по рангу комментария')\n",
    "plt.show()"
   ]
  },
  {
   "cell_type": "markdown",
   "id": "fb9fa71a",
   "metadata": {},
   "source": [
    "Видим, что чем больше количество комментариев в комментах, ранг коммента ниже"
   ]
  },
  {
   "cell_type": "markdown",
   "id": "464b84d1",
   "metadata": {},
   "source": [
    "## Выбор и обучение модели"
   ]
  },
  {
   "cell_type": "markdown",
   "id": "53918205",
   "metadata": {},
   "source": [
    "Попробовал такие модели как:\n",
    "\n",
    "BERT - слишком тяжелая, не для моей машины\n",
    "\n",
    "GPT-3 - не понравилось долгое обучение\n",
    "\n",
    "XLNet - Не успел попробовать\n",
    "\n",
    "DistilBert - меньше BERT и легче настраивается"
   ]
  },
  {
   "cell_type": "markdown",
   "id": "6f760914",
   "metadata": {},
   "source": [
    "Попробум обучить нашу модель DistilBertModel.\n",
    "\n",
    "Загрузим саму модель (уже раее обученную), токенизатор и веса модели"
   ]
  },
  {
   "cell_type": "code",
   "execution_count": 71,
   "id": "1e154c71",
   "metadata": {},
   "outputs": [
    {
     "name": "stderr",
     "output_type": "stream",
     "text": [
      "Some weights of the model checkpoint at distilbert-base-uncased were not used when initializing DistilBertModel: ['vocab_layer_norm.bias', 'vocab_transform.weight', 'vocab_transform.bias', 'vocab_projector.bias', 'vocab_layer_norm.weight', 'vocab_projector.weight']\n",
      "- This IS expected if you are initializing DistilBertModel from the checkpoint of a model trained on another task or with another architecture (e.g. initializing a BertForSequenceClassification model from a BertForPreTraining model).\n",
      "- This IS NOT expected if you are initializing DistilBertModel from the checkpoint of a model that you expect to be exactly identical (initializing a BertForSequenceClassification model from a BertForSequenceClassification model).\n"
     ]
    }
   ],
   "source": [
    "model_class, tokenizer_class, pretrained_weights = (\n",
    "    DistilBertModel,\n",
    "    DistilBertTokenizer,\n",
    "    'distilbert-base-uncased')\n",
    "tokenizer = tokenizer_class.from_pretrained(pretrained_weights)\n",
    "model_BERT = model_class.from_pretrained(pretrained_weights)"
   ]
  },
  {
   "cell_type": "markdown",
   "id": "3e213106",
   "metadata": {},
   "source": [
    "Если нам позволет железо, а оно позволяет, то обучим на CUDA"
   ]
  },
  {
   "cell_type": "code",
   "execution_count": 72,
   "id": "4217720c",
   "metadata": {},
   "outputs": [
    {
     "data": {
      "text/plain": [
       "device(type='cuda')"
      ]
     },
     "execution_count": 72,
     "metadata": {},
     "output_type": "execute_result"
    }
   ],
   "source": [
    "device = torch.device(\"cuda\" if torch.cuda.is_available() else \"cpu\")\n",
    "device"
   ]
  },
  {
   "cell_type": "code",
   "execution_count": 73,
   "id": "7e2bd87a",
   "metadata": {},
   "outputs": [
    {
     "name": "stdout",
     "output_type": "stream",
     "text": [
      "Sun Mar 19 07:22:17 2023       \r\n",
      "+-----------------------------------------------------------------------------+\r\n",
      "| NVIDIA-SMI 525.85.12    Driver Version: 525.85.12    CUDA Version: 12.0     |\r\n",
      "|-------------------------------+----------------------+----------------------+\r\n",
      "| GPU  Name        Persistence-M| Bus-Id        Disp.A | Volatile Uncorr. ECC |\r\n",
      "| Fan  Temp  Perf  Pwr:Usage/Cap|         Memory-Usage | GPU-Util  Compute M. |\r\n",
      "|                               |                      |               MIG M. |\r\n",
      "|===============================+======================+======================|\r\n",
      "|   0  NVIDIA GeForce ...  On   | 00000000:02:00.0  On |                  N/A |\r\n",
      "| 30%   41C    P8    24W / 220W |   6083MiB /  8192MiB |     19%      Default |\r\n",
      "|                               |                      |                  N/A |\r\n",
      "+-------------------------------+----------------------+----------------------+\r\n",
      "                                                                               \r\n",
      "+-----------------------------------------------------------------------------+\r\n",
      "| Processes:                                                                  |\r\n",
      "|  GPU   GI   CI        PID   Type   Process name                  GPU Memory |\r\n",
      "|        ID   ID                                                   Usage      |\r\n",
      "|=============================================================================|\r\n",
      "|    0   N/A  N/A      2008      G   /usr/lib/xorg/Xorg                144MiB |\r\n",
      "|    0   N/A  N/A      2176      G   /usr/bin/gnome-shell               38MiB |\r\n",
      "|    0   N/A  N/A      3653      G   ...983217536564232705,131072       97MiB |\r\n",
      "|    0   N/A  N/A      9934      G   .../usr/bin/telegram-desktop        3MiB |\r\n",
      "|    0   N/A  N/A     12018      C   /usr/bin/python3                 5794MiB |\r\n",
      "+-----------------------------------------------------------------------------+\r\n"
     ]
    },
    {
     "data": {
      "text/plain": [
       "True"
      ]
     },
     "execution_count": 73,
     "metadata": {},
     "output_type": "execute_result"
    }
   ],
   "source": [
    "!nvidia-smi\n",
    "torch.cuda.is_available()"
   ]
  },
  {
   "cell_type": "markdown",
   "id": "772622eb",
   "metadata": {},
   "source": [
    "Вот как выглядит наша сеть"
   ]
  },
  {
   "cell_type": "code",
   "execution_count": 74,
   "id": "297958a8",
   "metadata": {},
   "outputs": [
    {
     "data": {
      "text/plain": [
       "DistilBertModel(\n",
       "  (embeddings): Embeddings(\n",
       "    (word_embeddings): Embedding(30522, 768, padding_idx=0)\n",
       "    (position_embeddings): Embedding(512, 768)\n",
       "    (LayerNorm): LayerNorm((768,), eps=1e-12, elementwise_affine=True)\n",
       "    (dropout): Dropout(p=0.1, inplace=False)\n",
       "  )\n",
       "  (transformer): Transformer(\n",
       "    (layer): ModuleList(\n",
       "      (0): TransformerBlock(\n",
       "        (attention): MultiHeadSelfAttention(\n",
       "          (dropout): Dropout(p=0.1, inplace=False)\n",
       "          (q_lin): Linear(in_features=768, out_features=768, bias=True)\n",
       "          (k_lin): Linear(in_features=768, out_features=768, bias=True)\n",
       "          (v_lin): Linear(in_features=768, out_features=768, bias=True)\n",
       "          (out_lin): Linear(in_features=768, out_features=768, bias=True)\n",
       "        )\n",
       "        (sa_layer_norm): LayerNorm((768,), eps=1e-12, elementwise_affine=True)\n",
       "        (ffn): FFN(\n",
       "          (dropout): Dropout(p=0.1, inplace=False)\n",
       "          (lin1): Linear(in_features=768, out_features=3072, bias=True)\n",
       "          (lin2): Linear(in_features=3072, out_features=768, bias=True)\n",
       "          (activation): GELUActivation()\n",
       "        )\n",
       "        (output_layer_norm): LayerNorm((768,), eps=1e-12, elementwise_affine=True)\n",
       "      )\n",
       "      (1): TransformerBlock(\n",
       "        (attention): MultiHeadSelfAttention(\n",
       "          (dropout): Dropout(p=0.1, inplace=False)\n",
       "          (q_lin): Linear(in_features=768, out_features=768, bias=True)\n",
       "          (k_lin): Linear(in_features=768, out_features=768, bias=True)\n",
       "          (v_lin): Linear(in_features=768, out_features=768, bias=True)\n",
       "          (out_lin): Linear(in_features=768, out_features=768, bias=True)\n",
       "        )\n",
       "        (sa_layer_norm): LayerNorm((768,), eps=1e-12, elementwise_affine=True)\n",
       "        (ffn): FFN(\n",
       "          (dropout): Dropout(p=0.1, inplace=False)\n",
       "          (lin1): Linear(in_features=768, out_features=3072, bias=True)\n",
       "          (lin2): Linear(in_features=3072, out_features=768, bias=True)\n",
       "          (activation): GELUActivation()\n",
       "        )\n",
       "        (output_layer_norm): LayerNorm((768,), eps=1e-12, elementwise_affine=True)\n",
       "      )\n",
       "      (2): TransformerBlock(\n",
       "        (attention): MultiHeadSelfAttention(\n",
       "          (dropout): Dropout(p=0.1, inplace=False)\n",
       "          (q_lin): Linear(in_features=768, out_features=768, bias=True)\n",
       "          (k_lin): Linear(in_features=768, out_features=768, bias=True)\n",
       "          (v_lin): Linear(in_features=768, out_features=768, bias=True)\n",
       "          (out_lin): Linear(in_features=768, out_features=768, bias=True)\n",
       "        )\n",
       "        (sa_layer_norm): LayerNorm((768,), eps=1e-12, elementwise_affine=True)\n",
       "        (ffn): FFN(\n",
       "          (dropout): Dropout(p=0.1, inplace=False)\n",
       "          (lin1): Linear(in_features=768, out_features=3072, bias=True)\n",
       "          (lin2): Linear(in_features=3072, out_features=768, bias=True)\n",
       "          (activation): GELUActivation()\n",
       "        )\n",
       "        (output_layer_norm): LayerNorm((768,), eps=1e-12, elementwise_affine=True)\n",
       "      )\n",
       "      (3): TransformerBlock(\n",
       "        (attention): MultiHeadSelfAttention(\n",
       "          (dropout): Dropout(p=0.1, inplace=False)\n",
       "          (q_lin): Linear(in_features=768, out_features=768, bias=True)\n",
       "          (k_lin): Linear(in_features=768, out_features=768, bias=True)\n",
       "          (v_lin): Linear(in_features=768, out_features=768, bias=True)\n",
       "          (out_lin): Linear(in_features=768, out_features=768, bias=True)\n",
       "        )\n",
       "        (sa_layer_norm): LayerNorm((768,), eps=1e-12, elementwise_affine=True)\n",
       "        (ffn): FFN(\n",
       "          (dropout): Dropout(p=0.1, inplace=False)\n",
       "          (lin1): Linear(in_features=768, out_features=3072, bias=True)\n",
       "          (lin2): Linear(in_features=3072, out_features=768, bias=True)\n",
       "          (activation): GELUActivation()\n",
       "        )\n",
       "        (output_layer_norm): LayerNorm((768,), eps=1e-12, elementwise_affine=True)\n",
       "      )\n",
       "      (4): TransformerBlock(\n",
       "        (attention): MultiHeadSelfAttention(\n",
       "          (dropout): Dropout(p=0.1, inplace=False)\n",
       "          (q_lin): Linear(in_features=768, out_features=768, bias=True)\n",
       "          (k_lin): Linear(in_features=768, out_features=768, bias=True)\n",
       "          (v_lin): Linear(in_features=768, out_features=768, bias=True)\n",
       "          (out_lin): Linear(in_features=768, out_features=768, bias=True)\n",
       "        )\n",
       "        (sa_layer_norm): LayerNorm((768,), eps=1e-12, elementwise_affine=True)\n",
       "        (ffn): FFN(\n",
       "          (dropout): Dropout(p=0.1, inplace=False)\n",
       "          (lin1): Linear(in_features=768, out_features=3072, bias=True)\n",
       "          (lin2): Linear(in_features=3072, out_features=768, bias=True)\n",
       "          (activation): GELUActivation()\n",
       "        )\n",
       "        (output_layer_norm): LayerNorm((768,), eps=1e-12, elementwise_affine=True)\n",
       "      )\n",
       "      (5): TransformerBlock(\n",
       "        (attention): MultiHeadSelfAttention(\n",
       "          (dropout): Dropout(p=0.1, inplace=False)\n",
       "          (q_lin): Linear(in_features=768, out_features=768, bias=True)\n",
       "          (k_lin): Linear(in_features=768, out_features=768, bias=True)\n",
       "          (v_lin): Linear(in_features=768, out_features=768, bias=True)\n",
       "          (out_lin): Linear(in_features=768, out_features=768, bias=True)\n",
       "        )\n",
       "        (sa_layer_norm): LayerNorm((768,), eps=1e-12, elementwise_affine=True)\n",
       "        (ffn): FFN(\n",
       "          (dropout): Dropout(p=0.1, inplace=False)\n",
       "          (lin1): Linear(in_features=768, out_features=3072, bias=True)\n",
       "          (lin2): Linear(in_features=3072, out_features=768, bias=True)\n",
       "          (activation): GELUActivation()\n",
       "        )\n",
       "        (output_layer_norm): LayerNorm((768,), eps=1e-12, elementwise_affine=True)\n",
       "      )\n",
       "    )\n",
       "  )\n",
       ")"
      ]
     },
     "execution_count": 74,
     "metadata": {},
     "output_type": "execute_result"
    }
   ],
   "source": [
    "model_BERT"
   ]
  },
  {
   "cell_type": "code",
   "execution_count": 75,
   "id": "ed726aaa",
   "metadata": {},
   "outputs": [],
   "source": [
    "model_BERT.output_layer_norm = nn.Sequential(\n",
    "    nn.LayerNorm(768),\n",
    "    nn.BatchNorm1d(768)\n",
    ")"
   ]
  },
  {
   "cell_type": "code",
   "execution_count": null,
   "id": "2deae058",
   "metadata": {},
   "outputs": [],
   "source": []
  },
  {
   "cell_type": "code",
   "execution_count": 77,
   "id": "dbdb8a37",
   "metadata": {},
   "outputs": [
    {
     "data": {
      "text/plain": [
       "0"
      ]
     },
     "execution_count": 77,
     "metadata": {},
     "output_type": "execute_result"
    }
   ],
   "source": [
    "torch.cuda.empty_cache()\n",
    "gc.collect()"
   ]
  },
  {
   "cell_type": "markdown",
   "id": "6d38ba91",
   "metadata": {},
   "source": [
    "Сделаем свой Dataset"
   ]
  },
  {
   "cell_type": "code",
   "execution_count": 78,
   "id": "be934bb1",
   "metadata": {},
   "outputs": [
    {
     "name": "stdout",
     "output_type": "stream",
     "text": [
      "Количество topics в train : 88107\n",
      "Количество topics в test : 14004\n"
     ]
    }
   ],
   "source": [
    "train_data = MyDataset('train')\n",
    "test_data = MyDataset('test')\n",
    "\n",
    "batch_size = 8\n",
    "\n",
    "train_size = int(0.8 * len(train_data))\n",
    "test_size = len(train_data) - train_size\n",
    "train_dataset, val_dataset = torch.utils.data.random_split(train_data, [train_size, test_size])\n",
    "\n",
    "train_loader = torch.utils.data.DataLoader(\n",
    "    train_dataset, batch_size=batch_size, shuffle=True, collate_fn=lambda x: x)\n",
    "val_loader = torch.utils.data.DataLoader(\n",
    "    val_dataset, batch_size=batch_size, shuffle=True, collate_fn=lambda x: x)\n",
    "test_loader = torch.utils.data.DataLoader(\n",
    "    test_data, batch_size=batch_size, shuffle=False)"
   ]
  },
  {
   "cell_type": "code",
   "execution_count": 79,
   "id": "237cb4b9",
   "metadata": {},
   "outputs": [],
   "source": [
    "# Зададим максимальную длину нашиз паддингов из комментов\n",
    "max_len = 80"
   ]
  },
  {
   "cell_type": "code",
   "execution_count": 80,
   "id": "06bb27c0",
   "metadata": {},
   "outputs": [],
   "source": [
    "# Модель для получения эмбеддингов из текста\n",
    "embeddingNetwork = model_BERT"
   ]
  },
  {
   "cell_type": "code",
   "execution_count": 81,
   "id": "97217b23",
   "metadata": {
    "scrolled": true
   },
   "outputs": [
    {
     "data": {
      "text/plain": [
       "My_Model(\n",
       "  (embeddingLayer): DistilBertModel(\n",
       "    (embeddings): Embeddings(\n",
       "      (word_embeddings): Embedding(30522, 768, padding_idx=0)\n",
       "      (position_embeddings): Embedding(512, 768)\n",
       "      (LayerNorm): LayerNorm((768,), eps=1e-12, elementwise_affine=True)\n",
       "      (dropout): Dropout(p=0.1, inplace=False)\n",
       "    )\n",
       "    (transformer): Transformer(\n",
       "      (layer): ModuleList(\n",
       "        (0): TransformerBlock(\n",
       "          (attention): MultiHeadSelfAttention(\n",
       "            (dropout): Dropout(p=0.1, inplace=False)\n",
       "            (q_lin): Linear(in_features=768, out_features=768, bias=True)\n",
       "            (k_lin): Linear(in_features=768, out_features=768, bias=True)\n",
       "            (v_lin): Linear(in_features=768, out_features=768, bias=True)\n",
       "            (out_lin): Linear(in_features=768, out_features=768, bias=True)\n",
       "          )\n",
       "          (sa_layer_norm): LayerNorm((768,), eps=1e-12, elementwise_affine=True)\n",
       "          (ffn): FFN(\n",
       "            (dropout): Dropout(p=0.1, inplace=False)\n",
       "            (lin1): Linear(in_features=768, out_features=3072, bias=True)\n",
       "            (lin2): Linear(in_features=3072, out_features=768, bias=True)\n",
       "            (activation): GELUActivation()\n",
       "          )\n",
       "          (output_layer_norm): LayerNorm((768,), eps=1e-12, elementwise_affine=True)\n",
       "        )\n",
       "        (1): TransformerBlock(\n",
       "          (attention): MultiHeadSelfAttention(\n",
       "            (dropout): Dropout(p=0.1, inplace=False)\n",
       "            (q_lin): Linear(in_features=768, out_features=768, bias=True)\n",
       "            (k_lin): Linear(in_features=768, out_features=768, bias=True)\n",
       "            (v_lin): Linear(in_features=768, out_features=768, bias=True)\n",
       "            (out_lin): Linear(in_features=768, out_features=768, bias=True)\n",
       "          )\n",
       "          (sa_layer_norm): LayerNorm((768,), eps=1e-12, elementwise_affine=True)\n",
       "          (ffn): FFN(\n",
       "            (dropout): Dropout(p=0.1, inplace=False)\n",
       "            (lin1): Linear(in_features=768, out_features=3072, bias=True)\n",
       "            (lin2): Linear(in_features=3072, out_features=768, bias=True)\n",
       "            (activation): GELUActivation()\n",
       "          )\n",
       "          (output_layer_norm): LayerNorm((768,), eps=1e-12, elementwise_affine=True)\n",
       "        )\n",
       "        (2): TransformerBlock(\n",
       "          (attention): MultiHeadSelfAttention(\n",
       "            (dropout): Dropout(p=0.1, inplace=False)\n",
       "            (q_lin): Linear(in_features=768, out_features=768, bias=True)\n",
       "            (k_lin): Linear(in_features=768, out_features=768, bias=True)\n",
       "            (v_lin): Linear(in_features=768, out_features=768, bias=True)\n",
       "            (out_lin): Linear(in_features=768, out_features=768, bias=True)\n",
       "          )\n",
       "          (sa_layer_norm): LayerNorm((768,), eps=1e-12, elementwise_affine=True)\n",
       "          (ffn): FFN(\n",
       "            (dropout): Dropout(p=0.1, inplace=False)\n",
       "            (lin1): Linear(in_features=768, out_features=3072, bias=True)\n",
       "            (lin2): Linear(in_features=3072, out_features=768, bias=True)\n",
       "            (activation): GELUActivation()\n",
       "          )\n",
       "          (output_layer_norm): LayerNorm((768,), eps=1e-12, elementwise_affine=True)\n",
       "        )\n",
       "        (3): TransformerBlock(\n",
       "          (attention): MultiHeadSelfAttention(\n",
       "            (dropout): Dropout(p=0.1, inplace=False)\n",
       "            (q_lin): Linear(in_features=768, out_features=768, bias=True)\n",
       "            (k_lin): Linear(in_features=768, out_features=768, bias=True)\n",
       "            (v_lin): Linear(in_features=768, out_features=768, bias=True)\n",
       "            (out_lin): Linear(in_features=768, out_features=768, bias=True)\n",
       "          )\n",
       "          (sa_layer_norm): LayerNorm((768,), eps=1e-12, elementwise_affine=True)\n",
       "          (ffn): FFN(\n",
       "            (dropout): Dropout(p=0.1, inplace=False)\n",
       "            (lin1): Linear(in_features=768, out_features=3072, bias=True)\n",
       "            (lin2): Linear(in_features=3072, out_features=768, bias=True)\n",
       "            (activation): GELUActivation()\n",
       "          )\n",
       "          (output_layer_norm): LayerNorm((768,), eps=1e-12, elementwise_affine=True)\n",
       "        )\n",
       "        (4): TransformerBlock(\n",
       "          (attention): MultiHeadSelfAttention(\n",
       "            (dropout): Dropout(p=0.1, inplace=False)\n",
       "            (q_lin): Linear(in_features=768, out_features=768, bias=True)\n",
       "            (k_lin): Linear(in_features=768, out_features=768, bias=True)\n",
       "            (v_lin): Linear(in_features=768, out_features=768, bias=True)\n",
       "            (out_lin): Linear(in_features=768, out_features=768, bias=True)\n",
       "          )\n",
       "          (sa_layer_norm): LayerNorm((768,), eps=1e-12, elementwise_affine=True)\n",
       "          (ffn): FFN(\n",
       "            (dropout): Dropout(p=0.1, inplace=False)\n",
       "            (lin1): Linear(in_features=768, out_features=3072, bias=True)\n",
       "            (lin2): Linear(in_features=3072, out_features=768, bias=True)\n",
       "            (activation): GELUActivation()\n",
       "          )\n",
       "          (output_layer_norm): LayerNorm((768,), eps=1e-12, elementwise_affine=True)\n",
       "        )\n",
       "        (5): TransformerBlock(\n",
       "          (attention): MultiHeadSelfAttention(\n",
       "            (dropout): Dropout(p=0.1, inplace=False)\n",
       "            (q_lin): Linear(in_features=768, out_features=768, bias=True)\n",
       "            (k_lin): Linear(in_features=768, out_features=768, bias=True)\n",
       "            (v_lin): Linear(in_features=768, out_features=768, bias=True)\n",
       "            (out_lin): Linear(in_features=768, out_features=768, bias=True)\n",
       "          )\n",
       "          (sa_layer_norm): LayerNorm((768,), eps=1e-12, elementwise_affine=True)\n",
       "          (ffn): FFN(\n",
       "            (dropout): Dropout(p=0.1, inplace=False)\n",
       "            (lin1): Linear(in_features=768, out_features=3072, bias=True)\n",
       "            (lin2): Linear(in_features=3072, out_features=768, bias=True)\n",
       "            (activation): GELUActivation()\n",
       "          )\n",
       "          (output_layer_norm): LayerNorm((768,), eps=1e-12, elementwise_affine=True)\n",
       "        )\n",
       "      )\n",
       "    )\n",
       "    (output_layer_norm): Sequential(\n",
       "      (0): LayerNorm((768,), eps=1e-05, elementwise_affine=True)\n",
       "      (1): BatchNorm1d(768, eps=1e-05, momentum=0.1, affine=True, track_running_stats=True)\n",
       "    )\n",
       "  )\n",
       "  (classifierLayer): Linear(in_features=768, out_features=5, bias=True)\n",
       ")"
      ]
     },
     "execution_count": 81,
     "metadata": {},
     "output_type": "execute_result"
    }
   ],
   "source": [
    "# И модель классификации\n",
    "classifierNetWork = My_Model(embeddingNetwork)\n",
    "classifierNetWork.to(device)"
   ]
  },
  {
   "cell_type": "code",
   "execution_count": 82,
   "id": "236950e3",
   "metadata": {},
   "outputs": [],
   "source": [
    "loss_fn = custom_loss()"
   ]
  },
  {
   "cell_type": "code",
   "execution_count": 83,
   "id": "96e4e8b0",
   "metadata": {},
   "outputs": [
    {
     "data": {
      "text/plain": [
       "0"
      ]
     },
     "execution_count": 83,
     "metadata": {},
     "output_type": "execute_result"
    }
   ],
   "source": [
    "torch.cuda.empty_cache()\n",
    "gc.collect()"
   ]
  },
  {
   "cell_type": "code",
   "execution_count": 84,
   "id": "9e837ac7",
   "metadata": {},
   "outputs": [],
   "source": [
    "optimizer = Adam(classifierNetWork.parameters(), lr=1e-4, betas=(0.9, 0.99)) #добавлено для оптимизации\n",
    "exp_lr_scheduler = lr_scheduler.StepLR(optimizer, step_size=5, gamma=0.5) #добавлено для оптимизации"
   ]
  },
  {
   "cell_type": "code",
   "execution_count": 85,
   "id": "b5076983",
   "metadata": {
    "scrolled": true
   },
   "outputs": [
    {
     "name": "stderr",
     "output_type": "stream",
     "text": [
      "\r",
      "epoch:   0%|                                              | 0/8 [00:00<?, ?it/s]"
     ]
    },
    {
     "name": "stdout",
     "output_type": "stream",
     "text": [
      "loss 1.6042399798250269\n"
     ]
    },
    {
     "name": "stderr",
     "output_type": "stream",
     "text": [
      "epoch:  12%|████▎                             | 1/8 [33:47<3:56:29, 2027.08s/it]"
     ]
    },
    {
     "name": "stdout",
     "output_type": "stream",
     "text": [
      "\n",
      "Epoch 001 train_loss: 1.6042     val_loss 2.0681 train_acc 0.2291 val_acc 0.2000\n",
      "loss 1.5886874887164233\n"
     ]
    },
    {
     "name": "stderr",
     "output_type": "stream",
     "text": [
      "epoch:  25%|████████                        | 2/8 [1:08:01<3:24:19, 2043.21s/it]"
     ]
    },
    {
     "name": "stdout",
     "output_type": "stream",
     "text": [
      "\n",
      "Epoch 002 train_loss: 1.5887     val_loss 1.8982 train_acc 0.2466 val_acc 0.2000\n",
      "loss 1.5868896495712803\n"
     ]
    },
    {
     "name": "stderr",
     "output_type": "stream",
     "text": [
      "epoch:  38%|████████████                    | 3/8 [1:42:17<2:50:45, 2049.03s/it]"
     ]
    },
    {
     "name": "stdout",
     "output_type": "stream",
     "text": [
      "\n",
      "Epoch 003 train_loss: 1.5869     val_loss 2.1407 train_acc 0.2499 val_acc 0.2000\n",
      "loss 1.5875890023753532\n"
     ]
    },
    {
     "name": "stderr",
     "output_type": "stream",
     "text": [
      "epoch:  50%|████████████████                | 4/8 [2:16:36<2:16:51, 2052.98s/it]"
     ]
    },
    {
     "name": "stdout",
     "output_type": "stream",
     "text": [
      "\n",
      "Epoch 004 train_loss: 1.5876     val_loss 2.2741 train_acc 0.2480 val_acc 0.2000\n",
      "loss 1.587589066762711\n"
     ]
    },
    {
     "name": "stderr",
     "output_type": "stream",
     "text": [
      "epoch:  62%|████████████████████            | 5/8 [2:50:59<1:42:49, 2056.49s/it]"
     ]
    },
    {
     "name": "stdout",
     "output_type": "stream",
     "text": [
      "\n",
      "Epoch 005 train_loss: 1.5876     val_loss 2.2237 train_acc 0.2474 val_acc 0.2000\n",
      "loss 1.5841935418978301\n"
     ]
    },
    {
     "name": "stderr",
     "output_type": "stream",
     "text": [
      "epoch:  75%|████████████████████████        | 6/8 [3:25:19<1:08:35, 2057.83s/it]"
     ]
    },
    {
     "name": "stdout",
     "output_type": "stream",
     "text": [
      "\n",
      "Epoch 006 train_loss: 1.5842     val_loss 2.0452 train_acc 0.2528 val_acc 0.2000\n",
      "loss 1.583597700951143\n"
     ]
    },
    {
     "name": "stderr",
     "output_type": "stream",
     "text": [
      "epoch:  88%|█████████████████████████████▊    | 7/8 [3:59:42<34:19, 2059.41s/it]"
     ]
    },
    {
     "name": "stdout",
     "output_type": "stream",
     "text": [
      "\n",
      "Epoch 007 train_loss: 1.5836     val_loss 2.2699 train_acc 0.2530 val_acc 0.2000\n",
      "loss 1.5820636939899617\n"
     ]
    },
    {
     "name": "stderr",
     "output_type": "stream",
     "text": [
      "epoch: 100%|██████████████████████████████████| 8/8 [4:34:14<00:00, 2056.76s/it]"
     ]
    },
    {
     "name": "stdout",
     "output_type": "stream",
     "text": [
      "\n",
      "Epoch 008 train_loss: 1.5821     val_loss 2.4316 train_acc 0.2542 val_acc 0.2000\n",
      "Best val Acc: 0.200000\n"
     ]
    },
    {
     "name": "stderr",
     "output_type": "stream",
     "text": [
      "\n"
     ]
    }
   ],
   "source": [
    "model, history = train(\n",
    "    train_loader,\n",
    "    val_loader,\n",
    "    model = classifierNetWork,\n",
    "    epochs = 8,\n",
    "    batch_size = batch_size,\n",
    "    optimizer = optimizer,\n",
    "    sheduler = exp_lr_scheduler,\n",
    "    criterion = loss_fn\n",
    ")"
   ]
  },
  {
   "cell_type": "code",
   "execution_count": 86,
   "id": "95b0ad93",
   "metadata": {},
   "outputs": [],
   "source": [
    "torch.save(model.state_dict(), 'model_DistilBert.pth')"
   ]
  },
  {
   "cell_type": "code",
   "execution_count": 87,
   "id": "dac15835",
   "metadata": {
    "scrolled": true
   },
   "outputs": [
    {
     "data": {
      "text/plain": [
       "<All keys matched successfully>"
      ]
     },
     "execution_count": 87,
     "metadata": {},
     "output_type": "execute_result"
    }
   ],
   "source": [
    "model.to(device)\n",
    "model.load_state_dict(torch.load('model_DistilBert.pth', map_location=torch.device(device)))"
   ]
  },
  {
   "cell_type": "code",
   "execution_count": 88,
   "id": "4b7f2eee",
   "metadata": {},
   "outputs": [],
   "source": [
    "epoch, loss, val_loss, acc, val_acc = zip(*history)"
   ]
  },
  {
   "cell_type": "code",
   "execution_count": 89,
   "id": "828ff9d4",
   "metadata": {},
   "outputs": [
    {
     "data": {
      "image/png": "[encoded data removed]",
      "text/plain": [
       "<Figure size 1008x288 with 2 Axes>"
      ]
     },
     "metadata": {
      "needs_background": "light"
     },
     "output_type": "display_data"
    }
   ],
   "source": [
    "fig, axes = plt.subplots(1, 2, figsize=(14,4))\n",
    "axes[0].plot(epoch, loss, label='train_loss')\n",
    "axes[0].plot(epoch, val_loss, label='val_loss')\n",
    "axes[1].plot(epoch, acc, label='train_score')\n",
    "axes[1].plot(epoch, val_acc, label='val_score')\n",
    "for i in [0,1]:\n",
    "    axes[i].legend()"
   ]
  },
  {
   "cell_type": "code",
   "execution_count": null,
   "id": "ead46a08",
   "metadata": {},
   "outputs": [],
   "source": [
    "test_accuracy, test_loss = evaluate(model, test_loader, loss_fn)\n",
    "test_accuracy, test_loss"
   ]
  },
  {
   "cell_type": "markdown",
   "id": "2609f429",
   "metadata": {},
   "source": [
    "## Вывод"
   ]
  },
  {
   "cell_type": "markdown",
   "id": "58f97325",
   "metadata": {},
   "source": [
    "Видимо неверно выбрал функцию лосса. Надо работать в данном напрвлении дальше"
   ]
  },
  {
   "cell_type": "code",
   "execution_count": null,
   "id": "220786ca",
   "metadata": {},
   "outputs": [],
   "source": []
  }
 ],
 "metadata": {
  "kernelspec": {
   "display_name": "Python 3 (ipykernel)",
   "language": "python",
   "name": "python3"
  },
  "language_info": {
   "codemirror_mode": {
    "name": "ipython",
    "version": 3
   },
   "file_extension": ".py",
   "mimetype": "text/x-python",
   "name": "python",
   "nbconvert_exporter": "python",
   "pygments_lexer": "ipython3",
   "version": "3.10.6"
  }
 },
 "nbformat": 4,
 "nbformat_minor": 5
}
